{
 "cells": [
  {
   "cell_type": "code",
   "execution_count": 1,
   "metadata": {
    "id": "WaM1QbRxoPsO"
   },
   "outputs": [],
   "source": [
    "import numpy as np\n",
    "import tensorflow as tf\n",
    "import matplotlib.pyplot as plt\n",
    "import json"
   ]
  },
  {
   "cell_type": "code",
   "execution_count": 2,
   "metadata": {},
   "outputs": [
    {
     "name": "stdout",
     "output_type": "stream",
     "text": [
      "Num GPUs Available:  0\n"
     ]
    }
   ],
   "source": [
    "print(\"Num GPUs Available: \", len(tf.config.experimental.list_physical_devices('GPU')))"
   ]
  },
  {
   "cell_type": "code",
   "execution_count": 3,
   "metadata": {
    "id": "jgFw5-5cnxGB"
   },
   "outputs": [],
   "source": [
    "x_train = np.load(\"data/x_trainBIG_left.npy\")\n",
    "y_train = np.load(\"data/y_trainBIG_left.npy\")\n",
    "x_test = np.load(\"data/x_test.npy\")\n",
    "y_test = np.load(\"data/y_test.npy\")"
   ]
  },
  {
   "cell_type": "code",
   "execution_count": 4,
   "metadata": {
    "colab": {
     "base_uri": "https://localhost:8080/"
    },
    "id": "WWjRHpKcRZ6G",
    "outputId": "815b1bdd-2d61-4a8c-b955-cbcfe9cbf4aa"
   },
   "outputs": [
    {
     "data": {
      "text/plain": [
       "(292, 608, 3)"
      ]
     },
     "execution_count": 4,
     "metadata": {},
     "output_type": "execute_result"
    }
   ],
   "source": [
    "input_shape = x_train.shape[1:]\n",
    "input_shape"
   ]
  },
  {
   "cell_type": "code",
   "execution_count": 5,
   "metadata": {
    "colab": {
     "base_uri": "https://localhost:8080/"
    },
    "id": "h6AXUPh8Q_tp",
    "outputId": "9c86320d-7b9d-45ec-8de9-5f2466dbdf70"
   },
   "outputs": [
    {
     "name": "stdout",
     "output_type": "stream",
     "text": [
      "Model: \"sequential\"\n",
      "_________________________________________________________________\n",
      " Layer (type)                Output Shape              Param #   \n",
      "=================================================================\n",
      " flatten (Flatten)           (None, 532608)            0         \n",
      "                                                                 \n",
      " dense (Dense)               (None, 128)               68173952  \n",
      "                                                                 \n",
      " dense_1 (Dense)             (None, 5)                 645       \n",
      "                                                                 \n",
      "=================================================================\n",
      "Total params: 68,174,597\n",
      "Trainable params: 68,174,597\n",
      "Non-trainable params: 0\n",
      "_________________________________________________________________\n"
     ]
    }
   ],
   "source": [
    "model1 = tf.keras.models.Sequential([\n",
    "  tf.keras.layers.Flatten(input_shape=input_shape),\n",
    "    tf.keras.layers.Dense(units=128, activation='relu'),\n",
    "  tf.keras.layers.Dense(5, activation='softmax'),\n",
    "])\n",
    "model1.summary()\n"
   ]
  },
  {
   "cell_type": "code",
   "execution_count": 6,
   "metadata": {
    "colab": {
     "base_uri": "https://localhost:8080/"
    },
    "id": "6gND5lkZRfpj",
    "outputId": "a292d5e7-f52e-40c0-cde1-ec61ad978c27"
   },
   "outputs": [
    {
     "name": "stdout",
     "output_type": "stream",
     "text": [
      "Epoch 1/30\n",
      "44/44 [==============================] - 9s 207ms/step - loss: 74150.1250 - accuracy: 0.3303 - val_loss: 318172.7500 - val_accuracy: 0.2750\n",
      "Epoch 2/30\n",
      "44/44 [==============================] - 9s 203ms/step - loss: 10656.5107 - accuracy: 0.8008 - val_loss: 220416.5625 - val_accuracy: 0.1450\n",
      "Epoch 3/30\n",
      "44/44 [==============================] - 9s 206ms/step - loss: 7995.6279 - accuracy: 0.7583 - val_loss: 139812.6875 - val_accuracy: 0.2700\n",
      "Epoch 4/30\n",
      "44/44 [==============================] - 9s 208ms/step - loss: 3879.7905 - accuracy: 0.8750 - val_loss: 66808.5859 - val_accuracy: 0.5000\n",
      "Epoch 5/30\n",
      "44/44 [==============================] - 9s 207ms/step - loss: 3812.9451 - accuracy: 0.8348 - val_loss: 33315.4844 - val_accuracy: 0.3900\n",
      "Epoch 6/30\n",
      "44/44 [==============================] - 9s 206ms/step - loss: 1637.0934 - accuracy: 0.8985 - val_loss: 10108.7471 - val_accuracy: 0.3650\n",
      "Epoch 7/30\n",
      "44/44 [==============================] - 9s 200ms/step - loss: 621.0309 - accuracy: 0.9280 - val_loss: 23465.9824 - val_accuracy: 0.3100\n",
      "Epoch 8/30\n",
      "44/44 [==============================] - 9s 199ms/step - loss: 1231.1801 - accuracy: 0.9030 - val_loss: 17911.9883 - val_accuracy: 0.3250\n",
      "Epoch 9/30\n",
      "44/44 [==============================] - 9s 201ms/step - loss: 835.7643 - accuracy: 0.9189 - val_loss: 17485.7715 - val_accuracy: 0.3800\n",
      "Epoch 10/30\n",
      "44/44 [==============================] - 9s 199ms/step - loss: 1686.3545 - accuracy: 0.9000 - val_loss: 1900.2471 - val_accuracy: 0.4600\n",
      "Epoch 11/30\n",
      "44/44 [==============================] - 9s 200ms/step - loss: 3958.7083 - accuracy: 0.8265 - val_loss: 16474.9043 - val_accuracy: 0.4050\n",
      "Epoch 12/30\n",
      "44/44 [==============================] - 9s 200ms/step - loss: 798.8735 - accuracy: 0.9333 - val_loss: 46584.2109 - val_accuracy: 0.2750\n",
      "Epoch 13/30\n",
      "44/44 [==============================] - 9s 199ms/step - loss: 813.2315 - accuracy: 0.9561 - val_loss: 30172.5371 - val_accuracy: 0.3050\n",
      "Epoch 14/30\n",
      "44/44 [==============================] - 9s 200ms/step - loss: 838.1451 - accuracy: 0.9364 - val_loss: 14648.4033 - val_accuracy: 0.3650\n",
      "Epoch 15/30\n",
      "44/44 [==============================] - 9s 199ms/step - loss: 571.2313 - accuracy: 0.9492 - val_loss: 17733.4961 - val_accuracy: 0.3250\n",
      "Epoch 16/30\n",
      "44/44 [==============================] - 9s 200ms/step - loss: 1269.7207 - accuracy: 0.9076 - val_loss: 2991.2300 - val_accuracy: 0.5600\n",
      "Epoch 17/30\n",
      "44/44 [==============================] - 9s 200ms/step - loss: 2550.4961 - accuracy: 0.8371 - val_loss: 6855.4463 - val_accuracy: 0.4700\n",
      "Epoch 18/30\n",
      "44/44 [==============================] - 9s 200ms/step - loss: 1080.4019 - accuracy: 0.9295 - val_loss: 32867.4297 - val_accuracy: 0.2750\n",
      "Epoch 19/30\n",
      "44/44 [==============================] - 9s 200ms/step - loss: 1768.3287 - accuracy: 0.8932 - val_loss: 27554.5684 - val_accuracy: 0.3400\n",
      "Epoch 20/30\n",
      "44/44 [==============================] - 9s 200ms/step - loss: 1362.0764 - accuracy: 0.9076 - val_loss: 33222.6406 - val_accuracy: 0.2750\n",
      "Epoch 21/30\n",
      "44/44 [==============================] - 9s 200ms/step - loss: 737.6138 - accuracy: 0.9432 - val_loss: 3302.0288 - val_accuracy: 0.5450\n",
      "Epoch 22/30\n",
      "44/44 [==============================] - 9s 200ms/step - loss: 345.5394 - accuracy: 0.9561 - val_loss: 14831.3604 - val_accuracy: 0.3850\n",
      "Epoch 23/30\n",
      "44/44 [==============================] - 9s 200ms/step - loss: 458.1728 - accuracy: 0.9477 - val_loss: 14550.8184 - val_accuracy: 0.3350\n",
      "Epoch 24/30\n",
      "44/44 [==============================] - 9s 200ms/step - loss: 1663.6265 - accuracy: 0.9076 - val_loss: 10911.6572 - val_accuracy: 0.4150\n",
      "Epoch 25/30\n",
      "44/44 [==============================] - 9s 200ms/step - loss: 645.3417 - accuracy: 0.9341 - val_loss: 8191.1089 - val_accuracy: 0.4100\n",
      "Epoch 26/30\n",
      "44/44 [==============================] - 9s 200ms/step - loss: 506.9403 - accuracy: 0.9477 - val_loss: 8825.4092 - val_accuracy: 0.3700\n",
      "Epoch 27/30\n",
      "44/44 [==============================] - 9s 200ms/step - loss: 493.4762 - accuracy: 0.9379 - val_loss: 10104.8926 - val_accuracy: 0.2850\n",
      "Epoch 28/30\n",
      "44/44 [==============================] - 9s 200ms/step - loss: 320.3253 - accuracy: 0.9545 - val_loss: 6553.8174 - val_accuracy: 0.2650\n",
      "Epoch 29/30\n",
      "44/44 [==============================] - 9s 200ms/step - loss: 734.9841 - accuracy: 0.9189 - val_loss: 9570.3916 - val_accuracy: 0.4350\n",
      "Epoch 30/30\n",
      "44/44 [==============================] - 9s 199ms/step - loss: 407.5432 - accuracy: 0.9515 - val_loss: 13673.6436 - val_accuracy: 0.4350\n"
     ]
    }
   ],
   "source": [
    "model1.compile(optimizer='adam', loss='SparseCategoricalCrossentropy', metrics=['accuracy'])\n",
    "hist1 = model1.fit(\n",
    "    x_train, \n",
    "    y_train,\n",
    "    epochs=30,\n",
    "    batch_size=30,\n",
    "    validation_data=(x_test, y_test))"
   ]
  },
  {
   "cell_type": "code",
   "execution_count": 7,
   "metadata": {},
   "outputs": [],
   "source": [
    "model1.save(\"model1.h5\")"
   ]
  },
  {
   "cell_type": "code",
   "execution_count": 8,
   "metadata": {},
   "outputs": [],
   "source": [
    "model2 = tf.keras.models.Sequential([\n",
    "    tf.keras.layers.Conv2D(filters=64, kernel_size=3, activation='relu', input_shape=input_shape),\n",
    "    tf.keras.layers.MaxPooling2D(pool_size=2),\n",
    "    tf.keras.layers.Flatten(),\n",
    "    tf.keras.layers.Dense(units=128, activation='relu'),\n",
    "    tf.keras.layers.Dense(units=5, activation='softmax')\n",
    "])\n",
    "model2.compile(\n",
    "    optimizer='adam',\n",
    "    loss ='SparseCategoricalCrossentropy', \n",
    "    metrics=['accuracy'])"
   ]
  },
  {
   "cell_type": "code",
   "execution_count": 9,
   "metadata": {},
   "outputs": [
    {
     "name": "stdout",
     "output_type": "stream",
     "text": [
      "Epoch 1/30\n",
      "44/44 [==============================] - 111s 2s/step - loss: 30565.6445 - accuracy: 0.5121 - val_loss: 1484.2111 - val_accuracy: 0.3600\n",
      "Epoch 2/30\n",
      "44/44 [==============================] - 109s 2s/step - loss: 45.7103 - accuracy: 0.9326 - val_loss: 1400.6204 - val_accuracy: 0.3950\n",
      "Epoch 3/30\n",
      "44/44 [==============================] - 109s 2s/step - loss: 19.2533 - accuracy: 0.9530 - val_loss: 2326.2068 - val_accuracy: 0.3250\n",
      "Epoch 4/30\n",
      "44/44 [==============================] - 109s 2s/step - loss: 5.3141 - accuracy: 0.9788 - val_loss: 2408.7764 - val_accuracy: 0.3050\n",
      "Epoch 5/30\n",
      "44/44 [==============================] - 109s 2s/step - loss: 9.6006 - accuracy: 0.9742 - val_loss: 1796.7211 - val_accuracy: 0.3500\n",
      "Epoch 6/30\n",
      "44/44 [==============================] - 109s 2s/step - loss: 10.9067 - accuracy: 0.9735 - val_loss: 1467.5231 - val_accuracy: 0.3700\n",
      "Epoch 7/30\n",
      "44/44 [==============================] - 109s 2s/step - loss: 10.5718 - accuracy: 0.9712 - val_loss: 1765.2632 - val_accuracy: 0.3650\n",
      "Epoch 8/30\n",
      "44/44 [==============================] - 109s 2s/step - loss: 10.3928 - accuracy: 0.9742 - val_loss: 1226.3679 - val_accuracy: 0.3450\n",
      "Epoch 9/30\n",
      "44/44 [==============================] - 109s 2s/step - loss: 8.6055 - accuracy: 0.9720 - val_loss: 1563.1841 - val_accuracy: 0.3750\n",
      "Epoch 10/30\n",
      "44/44 [==============================] - 109s 2s/step - loss: 8.2706 - accuracy: 0.9758 - val_loss: 1594.9944 - val_accuracy: 0.3900\n",
      "Epoch 11/30\n",
      "44/44 [==============================] - 109s 2s/step - loss: 13.2174 - accuracy: 0.9780 - val_loss: 1124.5421 - val_accuracy: 0.4000\n",
      "Epoch 12/30\n",
      "44/44 [==============================] - 109s 2s/step - loss: 18.3017 - accuracy: 0.9682 - val_loss: 1438.7930 - val_accuracy: 0.3700\n",
      "Epoch 13/30\n",
      "44/44 [==============================] - 109s 2s/step - loss: 5.4942 - accuracy: 0.9780 - val_loss: 1706.3002 - val_accuracy: 0.3250\n",
      "Epoch 14/30\n",
      "44/44 [==============================] - 109s 2s/step - loss: 5.8875 - accuracy: 0.9795 - val_loss: 1755.2931 - val_accuracy: 0.3100\n",
      "Epoch 15/30\n",
      "44/44 [==============================] - 109s 2s/step - loss: 9.7065 - accuracy: 0.9795 - val_loss: 1717.1472 - val_accuracy: 0.3350\n",
      "Epoch 16/30\n",
      "44/44 [==============================] - 109s 2s/step - loss: 7.1153 - accuracy: 0.9803 - val_loss: 1455.0387 - val_accuracy: 0.3400\n",
      "Epoch 17/30\n",
      "44/44 [==============================] - 109s 2s/step - loss: 4.5285 - accuracy: 0.9833 - val_loss: 1572.3843 - val_accuracy: 0.2950\n",
      "Epoch 18/30\n",
      "44/44 [==============================] - 109s 2s/step - loss: 5.4140 - accuracy: 0.9811 - val_loss: 1453.4410 - val_accuracy: 0.3250\n",
      "Epoch 19/30\n",
      "44/44 [==============================] - 109s 2s/step - loss: 6.6602 - accuracy: 0.9788 - val_loss: 1282.0576 - val_accuracy: 0.3250\n",
      "Epoch 20/30\n",
      "44/44 [==============================] - 109s 2s/step - loss: 5.7545 - accuracy: 0.9795 - val_loss: 1252.9731 - val_accuracy: 0.3750\n",
      "Epoch 21/30\n",
      "44/44 [==============================] - 109s 2s/step - loss: 3.5419 - accuracy: 0.9841 - val_loss: 1131.9813 - val_accuracy: 0.3300\n",
      "Epoch 22/30\n",
      "44/44 [==============================] - 109s 2s/step - loss: 6.5221 - accuracy: 0.9833 - val_loss: 1283.4921 - val_accuracy: 0.2900\n",
      "Epoch 23/30\n",
      "44/44 [==============================] - 109s 2s/step - loss: 3.6035 - accuracy: 0.9856 - val_loss: 1106.7413 - val_accuracy: 0.3100\n",
      "Epoch 24/30\n",
      "44/44 [==============================] - 109s 2s/step - loss: 5.3903 - accuracy: 0.9833 - val_loss: 927.3310 - val_accuracy: 0.3500\n",
      "Epoch 25/30\n",
      "44/44 [==============================] - 109s 2s/step - loss: 8.1746 - accuracy: 0.9773 - val_loss: 1403.9073 - val_accuracy: 0.2850\n",
      "Epoch 26/30\n",
      "44/44 [==============================] - 109s 2s/step - loss: 8.0702 - accuracy: 0.9758 - val_loss: 1425.1913 - val_accuracy: 0.2650\n",
      "Epoch 27/30\n",
      "44/44 [==============================] - 109s 2s/step - loss: 7.8253 - accuracy: 0.9818 - val_loss: 1031.1136 - val_accuracy: 0.2900\n",
      "Epoch 28/30\n",
      "44/44 [==============================] - 109s 2s/step - loss: 1.9674 - accuracy: 0.9902 - val_loss: 974.4896 - val_accuracy: 0.2900\n",
      "Epoch 29/30\n",
      "44/44 [==============================] - 109s 2s/step - loss: 2.8134 - accuracy: 0.9856 - val_loss: 1003.4948 - val_accuracy: 0.2900\n",
      "Epoch 30/30\n",
      "44/44 [==============================] - 109s 2s/step - loss: 6.3080 - accuracy: 0.9788 - val_loss: 993.4565 - val_accuracy: 0.2650\n"
     ]
    }
   ],
   "source": [
    "hist2 = model2.fit(\n",
    "    x_train, \n",
    "    y_train,    \n",
    "    epochs=30,\n",
    "    batch_size=30,\n",
    "    validation_data=(x_test, y_test))"
   ]
  },
  {
   "cell_type": "code",
   "execution_count": 10,
   "metadata": {},
   "outputs": [],
   "source": [
    "model2.save(\"model2.h5\")\n",
    "with open('history2.json', 'w') as handle: # saving the history of the model\n",
    "    json.dump(hist2.history, handle)"
   ]
  },
  {
   "cell_type": "markdown",
   "metadata": {},
   "source": [
    "Model used in facial expression recognition"
   ]
  },
  {
   "cell_type": "code",
   "execution_count": 11,
   "metadata": {
    "id": "vRTqcaf-Yskm"
   },
   "outputs": [],
   "source": [
    "# model Alizadeh and Fazel\n",
    "from keras.layers import Conv2D, Activation, BatchNormalization, MaxPooling2D, Dropout, Dense, Flatten\n",
    "from keras.models import Sequential\n",
    "\n",
    "model_fe = Sequential()\n",
    "\n",
    "model_fe.add(Conv2D(64, 3, padding='same', input_shape=input_shape))\n",
    "model_fe.add(BatchNormalization())\n",
    "model_fe.add(Activation('relu'))\n",
    "model_fe.add(MaxPooling2D(pool_size=2, strides=None, padding='same'))\n",
    "model_fe.add(Dropout(0.25))\n",
    "\n",
    "model_fe.add(Conv2D(128, 3, padding='same'))\n",
    "model_fe.add(BatchNormalization())\n",
    "model_fe.add(Activation('relu'))\n",
    "model_fe.add(MaxPooling2D(pool_size=2, strides=None, padding='same'))\n",
    "model_fe.add(Dropout(0.25))\n",
    "\n",
    "model_fe.add(Conv2D(256, 3, padding='same'))\n",
    "model_fe.add(BatchNormalization())\n",
    "model_fe.add(Activation('relu'))\n",
    "model_fe.add(MaxPooling2D(pool_size=2, strides=None, padding='same'))\n",
    "model_fe.add(Dropout(0.25))\n",
    "\n",
    "model_fe.add(Conv2D(512, 3, padding='same'))\n",
    "model_fe.add(BatchNormalization())\n",
    "model_fe.add(Activation('relu'))\n",
    "model_fe.add(MaxPooling2D(pool_size=2, strides=None, padding='same'))\n",
    "model_fe.add(Dropout(0.25))\n",
    "\n",
    "model_fe.add(Flatten())\n",
    "\n",
    "model_fe.add(Dense(512))\n",
    "model_fe.add(BatchNormalization())\n",
    "model_fe.add(Activation('relu'))\n",
    "model_fe.add(Dropout(0.25))\n",
    "\n",
    "model_fe.add(Dense(256))\n",
    "model_fe.add(BatchNormalization())\n",
    "model_fe.add(Activation('relu'))\n",
    "model_fe.add(Dropout(0.25))\n",
    "\n",
    "model_fe.add(Dense(5))\n",
    "model_fe.add(Activation('softmax'))"
   ]
  },
  {
   "cell_type": "code",
   "execution_count": 12,
   "metadata": {},
   "outputs": [
    {
     "name": "stdout",
     "output_type": "stream",
     "text": [
      "Epoch 1/50\n",
      "44/44 [==============================] - 427s 10s/step - loss: 0.3633 - accuracy: 0.8879 - val_loss: 46.9047 - val_accuracy: 0.2350\n",
      "Epoch 2/50\n",
      "44/44 [==============================] - 425s 10s/step - loss: 0.1633 - accuracy: 0.9530 - val_loss: 6.1306 - val_accuracy: 0.2450\n",
      "Epoch 3/50\n",
      "44/44 [==============================] - 425s 10s/step - loss: 0.1441 - accuracy: 0.9545 - val_loss: 4.2162 - val_accuracy: 0.3400\n",
      "Epoch 4/50\n",
      "44/44 [==============================] - 425s 10s/step - loss: 0.1167 - accuracy: 0.9629 - val_loss: 2.7900 - val_accuracy: 0.4000\n",
      "Epoch 5/50\n",
      "44/44 [==============================] - 425s 10s/step - loss: 0.1079 - accuracy: 0.9674 - val_loss: 1.8108 - val_accuracy: 0.5050\n",
      "Epoch 6/50\n",
      "44/44 [==============================] - 425s 10s/step - loss: 0.1056 - accuracy: 0.9667 - val_loss: 3.9785 - val_accuracy: 0.3200\n",
      "Epoch 7/50\n",
      "44/44 [==============================] - 425s 10s/step - loss: 0.0908 - accuracy: 0.9689 - val_loss: 1.9013 - val_accuracy: 0.3950\n",
      "Epoch 8/50\n",
      "44/44 [==============================] - 426s 10s/step - loss: 0.1013 - accuracy: 0.9674 - val_loss: 2.4662 - val_accuracy: 0.4150\n",
      "Epoch 9/50\n",
      "44/44 [==============================] - 425s 10s/step - loss: 0.0761 - accuracy: 0.9750 - val_loss: 2.1937 - val_accuracy: 0.4500\n",
      "Epoch 10/50\n",
      "44/44 [==============================] - 425s 10s/step - loss: 0.0947 - accuracy: 0.9750 - val_loss: 3.9386 - val_accuracy: 0.3750\n",
      "Epoch 11/50\n",
      "44/44 [==============================] - 424s 10s/step - loss: 0.0730 - accuracy: 0.9735 - val_loss: 3.7785 - val_accuracy: 0.3600\n",
      "Epoch 12/50\n",
      "44/44 [==============================] - 423s 10s/step - loss: 0.0567 - accuracy: 0.9833 - val_loss: 3.9886 - val_accuracy: 0.3800\n",
      "Epoch 13/50\n",
      "44/44 [==============================] - 423s 10s/step - loss: 0.0618 - accuracy: 0.9765 - val_loss: 6.2317 - val_accuracy: 0.2600\n",
      "Epoch 14/50\n",
      "44/44 [==============================] - 422s 10s/step - loss: 0.0680 - accuracy: 0.9773 - val_loss: 5.6701 - val_accuracy: 0.3200\n",
      "Epoch 15/50\n",
      "44/44 [==============================] - 423s 10s/step - loss: 0.0751 - accuracy: 0.9765 - val_loss: 5.4992 - val_accuracy: 0.3050\n",
      "Epoch 16/50\n",
      "44/44 [==============================] - 423s 10s/step - loss: 0.0789 - accuracy: 0.9750 - val_loss: 10.1305 - val_accuracy: 0.2700\n",
      "Epoch 17/50\n",
      "44/44 [==============================] - 423s 10s/step - loss: 0.0641 - accuracy: 0.9811 - val_loss: 3.6622 - val_accuracy: 0.3700\n",
      "Epoch 18/50\n",
      "44/44 [==============================] - 423s 10s/step - loss: 0.0661 - accuracy: 0.9773 - val_loss: 5.7962 - val_accuracy: 0.3100\n",
      "Epoch 19/50\n",
      "44/44 [==============================] - 423s 10s/step - loss: 0.0611 - accuracy: 0.9818 - val_loss: 3.7081 - val_accuracy: 0.2550\n",
      "Epoch 20/50\n",
      "44/44 [==============================] - 423s 10s/step - loss: 0.0591 - accuracy: 0.9795 - val_loss: 6.9140 - val_accuracy: 0.2450\n",
      "Epoch 21/50\n",
      "44/44 [==============================] - 423s 10s/step - loss: 0.0528 - accuracy: 0.9848 - val_loss: 3.9218 - val_accuracy: 0.3200\n",
      "Epoch 22/50\n",
      "44/44 [==============================] - 422s 10s/step - loss: 0.0616 - accuracy: 0.9780 - val_loss: 8.2708 - val_accuracy: 0.2450\n",
      "Epoch 23/50\n",
      "44/44 [==============================] - 424s 10s/step - loss: 0.0548 - accuracy: 0.9848 - val_loss: 8.6094 - val_accuracy: 0.2450\n",
      "Epoch 24/50\n",
      "44/44 [==============================] - 423s 10s/step - loss: 0.0549 - accuracy: 0.9848 - val_loss: 3.6076 - val_accuracy: 0.3300\n",
      "Epoch 25/50\n",
      "44/44 [==============================] - 423s 10s/step - loss: 0.0437 - accuracy: 0.9856 - val_loss: 4.4478 - val_accuracy: 0.3450\n",
      "Epoch 26/50\n",
      "44/44 [==============================] - 423s 10s/step - loss: 0.0577 - accuracy: 0.9848 - val_loss: 5.4205 - val_accuracy: 0.3250\n",
      "Epoch 27/50\n",
      "44/44 [==============================] - 424s 10s/step - loss: 0.0536 - accuracy: 0.9826 - val_loss: 7.6553 - val_accuracy: 0.2600\n",
      "Epoch 28/50\n",
      "44/44 [==============================] - 423s 10s/step - loss: 0.0576 - accuracy: 0.9833 - val_loss: 7.8614 - val_accuracy: 0.2650\n",
      "Epoch 29/50\n",
      "44/44 [==============================] - 424s 10s/step - loss: 0.0590 - accuracy: 0.9788 - val_loss: 1.2243 - val_accuracy: 0.5200\n",
      "Epoch 30/50\n",
      "44/44 [==============================] - 423s 10s/step - loss: 0.0518 - accuracy: 0.9841 - val_loss: 11.2745 - val_accuracy: 0.2450\n",
      "Epoch 31/50\n",
      "44/44 [==============================] - 424s 10s/step - loss: 0.0530 - accuracy: 0.9811 - val_loss: 6.7636 - val_accuracy: 0.3000\n",
      "Epoch 32/50\n",
      "44/44 [==============================] - 424s 10s/step - loss: 0.0463 - accuracy: 0.9871 - val_loss: 8.2263 - val_accuracy: 0.2600\n",
      "Epoch 33/50\n",
      "44/44 [==============================] - 423s 10s/step - loss: 0.0401 - accuracy: 0.9864 - val_loss: 6.7325 - val_accuracy: 0.3000\n",
      "Epoch 34/50\n",
      "44/44 [==============================] - 423s 10s/step - loss: 0.0389 - accuracy: 0.9864 - val_loss: 6.7624 - val_accuracy: 0.3150\n",
      "Epoch 35/50\n",
      "44/44 [==============================] - 424s 10s/step - loss: 0.0460 - accuracy: 0.9848 - val_loss: 3.0183 - val_accuracy: 0.3800\n",
      "Epoch 36/50\n",
      "44/44 [==============================] - 423s 10s/step - loss: 0.0758 - accuracy: 0.9765 - val_loss: 1.2810 - val_accuracy: 0.6700\n",
      "Epoch 37/50\n",
      "44/44 [==============================] - 422s 10s/step - loss: 0.0447 - accuracy: 0.9879 - val_loss: 1.6295 - val_accuracy: 0.5450\n",
      "Epoch 38/50\n",
      "44/44 [==============================] - 423s 10s/step - loss: 0.0451 - accuracy: 0.9848 - val_loss: 3.7948 - val_accuracy: 0.3750\n",
      "Epoch 39/50\n",
      "44/44 [==============================] - 423s 10s/step - loss: 0.0506 - accuracy: 0.9871 - val_loss: 6.9221 - val_accuracy: 0.2750\n",
      "Epoch 40/50\n",
      "44/44 [==============================] - 423s 10s/step - loss: 0.0340 - accuracy: 0.9871 - val_loss: 3.6864 - val_accuracy: 0.3750\n",
      "Epoch 41/50\n",
      "44/44 [==============================] - 423s 10s/step - loss: 0.0512 - accuracy: 0.9833 - val_loss: 7.9781 - val_accuracy: 0.2600\n",
      "Epoch 42/50\n",
      "44/44 [==============================] - 423s 10s/step - loss: 0.0343 - accuracy: 0.9886 - val_loss: 8.3544 - val_accuracy: 0.2700\n",
      "Epoch 43/50\n",
      "44/44 [==============================] - 423s 10s/step - loss: 0.0271 - accuracy: 0.9879 - val_loss: 7.5961 - val_accuracy: 0.2800\n",
      "Epoch 44/50\n",
      "44/44 [==============================] - 423s 10s/step - loss: 0.0377 - accuracy: 0.9871 - val_loss: 7.0270 - val_accuracy: 0.2950\n",
      "Epoch 45/50\n",
      "44/44 [==============================] - 423s 10s/step - loss: 0.0466 - accuracy: 0.9871 - val_loss: 3.2267 - val_accuracy: 0.3300\n",
      "Epoch 46/50\n",
      "44/44 [==============================] - 423s 10s/step - loss: 0.0452 - accuracy: 0.9871 - val_loss: 6.5864 - val_accuracy: 0.2450\n",
      "Epoch 47/50\n",
      "44/44 [==============================] - 423s 10s/step - loss: 0.0305 - accuracy: 0.9902 - val_loss: 8.5240 - val_accuracy: 0.2450\n",
      "Epoch 48/50\n",
      "44/44 [==============================] - 423s 10s/step - loss: 0.0362 - accuracy: 0.9886 - val_loss: 5.9373 - val_accuracy: 0.3150\n",
      "Epoch 49/50\n",
      "44/44 [==============================] - 423s 10s/step - loss: 0.0400 - accuracy: 0.9879 - val_loss: 8.3700 - val_accuracy: 0.2450\n",
      "Epoch 50/50\n",
      "44/44 [==============================] - 423s 10s/step - loss: 0.0352 - accuracy: 0.9894 - val_loss: 8.0477 - val_accuracy: 0.2550\n"
     ]
    }
   ],
   "source": [
    "# y_train_oh = tf.keras.utils.to_categorical(y_train, 5)\n",
    "# y_test_oh = tf.keras.utils.to_categorical(y_test, 5)\n",
    "\n",
    "model_fe.compile(\n",
    "    loss='SparseCategoricalCrossentropy', \n",
    "    optimizer='adam', \n",
    "    metrics=['accuracy'])\n",
    "\n",
    "hist_fe = model_fe.fit(\n",
    "    x_train, \n",
    "    y_train,\n",
    "    epochs=30,\n",
    "    batch_size=30,\n",
    "    validation_data=(x_test, y_test)\n",
    "    )"
   ]
  },
  {
   "cell_type": "code",
   "execution_count": 13,
   "metadata": {},
   "outputs": [],
   "source": [
    "model_fe.save(\"model_fe.h5\")\n",
    "with open('history_fe.json', 'w') as handle: # saving the history of the model\n",
    "    json.dump(hist_fe.history, handle)"
   ]
  },
  {
   "cell_type": "markdown",
   "metadata": {},
   "source": [
    "Transfer Learning"
   ]
  },
  {
   "cell_type": "code",
   "execution_count": 14,
   "metadata": {},
   "outputs": [
    {
     "name": "stdout",
     "output_type": "stream",
     "text": [
      "WARNING:tensorflow:`input_shape` is undefined or non-square, or `rows` is not in [96, 128, 160, 192, 224]. Weights for input shape (224, 224) will be loaded as the default.\n",
      "Model: \"sequential_3\"\n",
      "_________________________________________________________________\n",
      " Layer (type)                Output Shape              Param #   \n",
      "=================================================================\n",
      " mobilenetv2_1.00_224 (Funct  (None, 10, 19, 1280)     2257984   \n",
      " ional)                                                          \n",
      "                                                                 \n",
      " flatten_3 (Flatten)         (None, 243200)            0         \n",
      "                                                                 \n",
      " dense_7 (Dense)             (None, 5)                 1216005   \n",
      "                                                                 \n",
      "=================================================================\n",
      "Total params: 3,473,989\n",
      "Trainable params: 1,216,005\n",
      "Non-trainable params: 2,257,984\n",
      "_________________________________________________________________\n"
     ]
    }
   ],
   "source": [
    "model = tf.keras.applications.MobileNetV2(input_shape=input_shape, include_top=False, weights='imagenet')\n",
    "model.trainable = False\n",
    "\n",
    "# adding the top classification layer\n",
    "model_tl = tf.keras.Sequential(\n",
    "    [\n",
    "        model,\n",
    "        tf.keras.layers.Flatten(),\n",
    "        tf.keras.layers.Dense(units=5, activation='softmax')\n",
    "    ]\n",
    ")\n",
    "model_tl.summary()"
   ]
  },
  {
   "cell_type": "code",
   "execution_count": 15,
   "metadata": {},
   "outputs": [
    {
     "name": "stdout",
     "output_type": "stream",
     "text": [
      "Epoch 1/30\n",
      "44/44 [==============================] - 60s 1s/step - loss: 4.9464 - accuracy: 0.7924 - val_loss: 12.6196 - val_accuracy: 0.6400\n",
      "Epoch 2/30\n",
      "44/44 [==============================] - 59s 1s/step - loss: 0.3569 - accuracy: 0.9598 - val_loss: 27.6082 - val_accuracy: 0.6000\n",
      "Epoch 3/30\n",
      "44/44 [==============================] - 59s 1s/step - loss: 0.4155 - accuracy: 0.9780 - val_loss: 21.7576 - val_accuracy: 0.6600\n",
      "Epoch 4/30\n",
      "44/44 [==============================] - 59s 1s/step - loss: 0.7856 - accuracy: 0.9545 - val_loss: 0.4829 - val_accuracy: 0.9500\n",
      "Epoch 5/30\n",
      "44/44 [==============================] - 59s 1s/step - loss: 0.8085 - accuracy: 0.9720 - val_loss: 37.5156 - val_accuracy: 0.6100\n",
      "Epoch 6/30\n",
      "44/44 [==============================] - 59s 1s/step - loss: 0.5854 - accuracy: 0.9720 - val_loss: 23.3506 - val_accuracy: 0.4900\n",
      "Epoch 7/30\n",
      "44/44 [==============================] - 58s 1s/step - loss: 0.3605 - accuracy: 0.9742 - val_loss: 28.7955 - val_accuracy: 0.5950\n",
      "Epoch 8/30\n",
      "44/44 [==============================] - 59s 1s/step - loss: 0.3354 - accuracy: 0.9856 - val_loss: 31.7486 - val_accuracy: 0.6100\n",
      "Epoch 9/30\n",
      "44/44 [==============================] - 59s 1s/step - loss: 0.2682 - accuracy: 0.9826 - val_loss: 23.7226 - val_accuracy: 0.6700\n",
      "Epoch 10/30\n",
      "44/44 [==============================] - 59s 1s/step - loss: 0.6329 - accuracy: 0.9735 - val_loss: 73.0852 - val_accuracy: 0.5700\n",
      "Epoch 11/30\n",
      "44/44 [==============================] - 59s 1s/step - loss: 0.4092 - accuracy: 0.9750 - val_loss: 34.0466 - val_accuracy: 0.5750\n",
      "Epoch 12/30\n",
      "44/44 [==============================] - 59s 1s/step - loss: 0.3856 - accuracy: 0.9841 - val_loss: 34.7386 - val_accuracy: 0.6650\n",
      "Epoch 13/30\n",
      "44/44 [==============================] - 59s 1s/step - loss: 0.2948 - accuracy: 0.9826 - val_loss: 37.6462 - val_accuracy: 0.5350\n",
      "Epoch 14/30\n",
      "44/44 [==============================] - 59s 1s/step - loss: 0.3296 - accuracy: 0.9826 - val_loss: 28.0589 - val_accuracy: 0.6100\n",
      "Epoch 15/30\n",
      "44/44 [==============================] - 59s 1s/step - loss: 0.4857 - accuracy: 0.9788 - val_loss: 51.1909 - val_accuracy: 0.6100\n",
      "Epoch 16/30\n",
      "44/44 [==============================] - 59s 1s/step - loss: 0.6563 - accuracy: 0.9841 - val_loss: 47.2709 - val_accuracy: 0.4750\n",
      "Epoch 17/30\n",
      "44/44 [==============================] - 58s 1s/step - loss: 0.6556 - accuracy: 0.9674 - val_loss: 44.7163 - val_accuracy: 0.5700\n",
      "Epoch 18/30\n",
      "44/44 [==============================] - 59s 1s/step - loss: 0.8996 - accuracy: 0.9667 - val_loss: 52.7715 - val_accuracy: 0.4100\n",
      "Epoch 19/30\n",
      "44/44 [==============================] - 59s 1s/step - loss: 2.4124 - accuracy: 0.9394 - val_loss: 55.3959 - val_accuracy: 0.6600\n",
      "Epoch 20/30\n",
      "44/44 [==============================] - 59s 1s/step - loss: 0.5216 - accuracy: 0.9811 - val_loss: 49.4182 - val_accuracy: 0.5900\n",
      "Epoch 21/30\n",
      "44/44 [==============================] - 59s 1s/step - loss: 0.2986 - accuracy: 0.9856 - val_loss: 41.5309 - val_accuracy: 0.6600\n",
      "Epoch 22/30\n",
      "44/44 [==============================] - 59s 1s/step - loss: 0.3636 - accuracy: 0.9871 - val_loss: 61.1332 - val_accuracy: 0.6450\n",
      "Epoch 23/30\n",
      "44/44 [==============================] - 59s 1s/step - loss: 0.9711 - accuracy: 0.9871 - val_loss: 60.2879 - val_accuracy: 0.5900\n",
      "Epoch 24/30\n",
      "44/44 [==============================] - 59s 1s/step - loss: 0.7068 - accuracy: 0.9902 - val_loss: 29.4638 - val_accuracy: 0.7250\n",
      "Epoch 25/30\n",
      "44/44 [==============================] - 59s 1s/step - loss: 0.6619 - accuracy: 0.9826 - val_loss: 51.3387 - val_accuracy: 0.4950\n",
      "Epoch 26/30\n",
      "44/44 [==============================] - 59s 1s/step - loss: 0.4721 - accuracy: 0.9879 - val_loss: 54.2301 - val_accuracy: 0.6500\n",
      "Epoch 27/30\n",
      "44/44 [==============================] - 59s 1s/step - loss: 0.3927 - accuracy: 0.9871 - val_loss: 63.3015 - val_accuracy: 0.6600\n",
      "Epoch 28/30\n",
      "44/44 [==============================] - 59s 1s/step - loss: 0.6831 - accuracy: 0.9864 - val_loss: 61.0068 - val_accuracy: 0.5100\n",
      "Epoch 29/30\n",
      "44/44 [==============================] - 59s 1s/step - loss: 0.5588 - accuracy: 0.9811 - val_loss: 52.2011 - val_accuracy: 0.5900\n",
      "Epoch 30/30\n",
      "44/44 [==============================] - 59s 1s/step - loss: 0.7118 - accuracy: 0.9879 - val_loss: 59.8114 - val_accuracy: 0.6600\n"
     ]
    }
   ],
   "source": [
    "model_tl.compile(optimizer=\"adam\",\n",
    "                 loss='SparseCategoricalCrossentropy',\n",
    "                 metrics=['accuracy'])\n",
    "hist_tl = model_tl.fit(\n",
    "    x_train, \n",
    "    y_train, \n",
    "    epochs=30, \n",
    "    batch_size=30, \n",
    "    validation_data=(x_test, y_test))"
   ]
  },
  {
   "cell_type": "code",
   "execution_count": 16,
   "metadata": {},
   "outputs": [],
   "source": [
    "model_tl.save(\"model_tl.h5\")\n",
    "with open('history_tl.json', 'w') as handle: # saving the history of the model\n",
    "    json.dump(hist_tl.history, handle)"
   ]
  },
  {
   "cell_type": "markdown",
   "metadata": {},
   "source": [
    "### Visualizations"
   ]
  },
  {
   "cell_type": "code",
   "execution_count": 31,
   "metadata": {},
   "outputs": [
    {
     "data": {
      "image/png": "[encoded data removed]",
      "text/plain": [
       "<Figure size 432x288 with 1 Axes>"
      ]
     },
     "metadata": {
      "needs_background": "light"
     },
     "output_type": "display_data"
    }
   ],
   "source": [
    "plt.plot(hist1.history[\"accuracy\"], label=\"model1\")\n",
    "plt.plot(hist2.history[\"accuracy\"], label=\"model2\")\n",
    "plt.plot(hist_fe[\"accuracy\"][:30], label=\"model_fe\")\n",
    "plt.plot(hist_tl.history[\"accuracy\"],label=\"model_MN\")\n",
    "\n",
    "plt.xlabel(\"epochs\")\n",
    "plt.ylabel(\"accuracy\")\n",
    "plt.title(\"training accuracy\")\n",
    "plt.legend(bbox_to_anchor=(1.05, 1))\n",
    "plt.show()"
   ]
  },
  {
   "cell_type": "code",
   "execution_count": 35,
   "metadata": {},
   "outputs": [
    {
     "data": {
      "image/png": "[encoded data removed]",
      "text/plain": [
       "<Figure size 432x288 with 1 Axes>"
      ]
     },
     "metadata": {
      "needs_background": "light"
     },
     "output_type": "display_data"
    }
   ],
   "source": [
    "plt.plot(hist1.history[\"val_accuracy\"], label=\"model1\")\n",
    "plt.plot(hist2.history[\"val_accuracy\"], label=\"model2\")\n",
    "plt.plot(hist_fe[\"val_accuracy\"][:30], label=\"model_fe\")\n",
    "plt.plot(hist_tl.history[\"val_accuracy\"],label=\"model_MN\")\n",
    "\n",
    "plt.xlabel(\"epochs\")\n",
    "plt.ylabel(\"accuracy\")\n",
    "plt.title(\"Validation Accuracy\")\n",
    "plt.legend(bbox_to_anchor=(1, 1))\n",
    "plt.show()"
   ]
  },
  {
   "cell_type": "code",
   "execution_count": 27,
   "metadata": {},
   "outputs": [
    {
     "data": {
      "image/png": "[encoded data removed]",
      "text/plain": [
       "<Figure size 432x288 with 1 Axes>"
      ]
     },
     "metadata": {
      "needs_background": "light"
     },
     "output_type": "display_data"
    }
   ],
   "source": [
    "# plt.plot(hist1.history[\"loss\"][10:], label=\"model1\")\n",
    "plt.plot(hist2.history[\"loss\"][10:], label=\"model2\")\n",
    "plt.plot(hist_fe[\"loss\"][10:30], label=\"model_fe\")\n",
    "plt.plot(hist_tl.history[\"loss\"][10:],label=\"model_MN\")\n",
    "\n",
    "# plt.plot(hist1.history[\"val_loss\"][10:], label=\"model1_val\")\n",
    "# plt.plot(hist2.history[\"val_loss\"][10:], label=\"model2_val\")\n",
    "# plt.plot(hist_fe.history[\"val_loss\"][10:], label=\"model_fe_val\")\n",
    "# plt.plot(hist_tl.history[\"val_loss\"],label=\"model_MN\")\n",
    "\n",
    "plt.xlabel(\"epochs\")\n",
    "plt.ylabel(\"loss\")\n",
    "plt.legend(bbox_to_anchor=(1.4, 1))\n",
    "plt.show()"
   ]
  },
  {
   "cell_type": "code",
   "execution_count": null,
   "metadata": {},
   "outputs": [
    {
     "data": {
      "image/png": "[encoded data removed]",
      "text/plain": [
       "<Figure size 432x288 with 1 Axes>"
      ]
     },
     "metadata": {
      "needs_background": "light"
     },
     "output_type": "display_data"
    }
   ],
   "source": [
    "# plt.plot(hist1.history[\"loss\"], label=\"model1\")\n",
    "# plt.plot(hist2.history[\"loss\"], label=\"model2\")\n",
    "plt.plot(hist_fe.history[\"loss\"], label=\"model_fe\")\n",
    "plt.plot(hist_tl.history[\"loss\"][:50],label=\"model_MN\")\n",
    "\n",
    "# plt.plot(hist1.history[\"val_loss\"], label=\"model1_val\")\n",
    "# plt.plot(hist2.history[\"val_loss\"], label=\"model2_val\")\n",
    "plt.plot(hist_fe.history[\"val_loss\"], label=\"model_fe_val\")\n",
    "plt.plot(hist_tl.history[\"val_loss\"],label=\"model_MN\")\n",
    "\n",
    "plt.xlabel(\"epochs\")\n",
    "plt.ylabel(\"loss\")\n",
    "plt.legend(bbox_to_anchor=(1.4, 1))\n",
    "plt.show()"
   ]
  },
  {
   "cell_type": "markdown",
   "metadata": {},
   "source": [
    "Evaluate accuracy with test set"
   ]
  },
  {
   "cell_type": "code",
   "execution_count": 28,
   "metadata": {},
   "outputs": [
    {
     "name": "stdout",
     "output_type": "stream",
     "text": [
      "42/42 [==============================] - 24s 570ms/step - loss: 5.5511 - accuracy: 0.9826\n",
      "7/7 [==============================] - 15s 2s/step - loss: 8.0477 - accuracy: 0.2550\n",
      "42/42 [==============================] - 52s 1s/step - loss: 0.3035 - accuracy: 0.9894\n"
     ]
    }
   ],
   "source": [
    "# loss1, acc1 = model1.evaluate(x_test, y_test)\n",
    "loss2, acc2 = model2.evaluate(x_train, y_train)\n",
    "loss_fe, acc_fe = model_fe.evaluate(x_test, y_test)\n",
    "loss_tl, acc_tl = model_tl.evaluate(x_train, y_train)"
   ]
  },
  {
   "cell_type": "code",
   "execution_count": 29,
   "metadata": {},
   "outputs": [],
   "source": [
    "pred = model_tl.predict(x_test)\n",
    "labels = tf.argmax(pred, axis=1)\n",
    "cm = tf.math.confusion_matrix(labels, y_test)"
   ]
  },
  {
   "cell_type": "code",
   "execution_count": 30,
   "metadata": {},
   "outputs": [
    {
     "data": {
      "image/png": "[encoded data removed]",
      "text/plain": [
       "<Figure size 432x288 with 2 Axes>"
      ]
     },
     "metadata": {
      "needs_background": "light"
     },
     "output_type": "display_data"
    }
   ],
   "source": [
    "import seaborn as sns\n",
    "\n",
    "l = [\"noise\", \"shift\", \"droop\", \"offset\", \"no error\"]\n",
    "ax = sns.heatmap(cm, cmap=\"Blues\")\n",
    "ax.xaxis.set_ticklabels(l)\n",
    "ax.yaxis.set_ticklabels(l)\n",
    "plt.show()"
   ]
  },
  {
   "cell_type": "code",
   "execution_count": null,
   "metadata": {},
   "outputs": [],
   "source": []
  }
 ],
 "metadata": {
  "colab": {
   "collapsed_sections": [],
   "name": "NN with Transfer Learning",
   "provenance": []
  },
  "interpreter": {
   "hash": "8ed06d07b9ff369db6ed7b53447be18709da67cd911d838d72fee7fecb26667a"
  },
  "kernelspec": {
   "display_name": "gpu1",
   "language": "python",
   "name": "python3"
  },
  "language_info": {
   "codemirror_mode": {
    "name": "ipython",
    "version": 3
   },
   "file_extension": ".py",
   "mimetype": "text/x-python",
   "name": "python",
   "nbconvert_exporter": "python",
   "pygments_lexer": "ipython3",
   "version": "3.9.12"
  }
 },
 "nbformat": 4,
 "nbformat_minor": 1
}
