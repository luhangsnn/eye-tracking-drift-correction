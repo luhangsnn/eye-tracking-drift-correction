{
  "cells": [
    {
      "cell_type": "code",
      "execution_count": 1,
      "metadata": {
        "id": "IQA4TArOh4ag"
      },
      "outputs": [],
      "source": [
        "import emip_toolkit as EMTK\n",
        "from IPython.display import Image\n",
        "import correction\n",
        "import random \n",
        "import numpy as np\n",
        "import PIL\n",
        "from matplotlib import pyplot as plt"
      ]
    },
    {
      "cell_type": "code",
      "execution_count": 2,
      "metadata": {
        "colab": {
          "base_uri": "https://localhost:8080/",
          "height": 601
        },
        "id": "CZgIX_8Ab4Ga",
        "outputId": "5dc0fb80-923f-42a5-b84d-f2232ac882b3"
      },
      "outputs": [],
      "source": [
        "img = Image(filename= r'C:\\Users\\PC\\Desktop\\NN_with_Transfer_Learning\\synthetic_text.png')\n",
        "# img"
      ]
    },
    {
      "cell_type": "code",
      "execution_count": 3,
      "metadata": {
        "colab": {
          "base_uri": "https://localhost:8080/",
          "height": 206
        },
        "id": "F7cutRbbb9l5",
        "outputId": "f83dc9cb-6667-4b10-95a0-770d1b02262d"
      },
      "outputs": [
        {
          "data": {
            "text/html": [
              "<div>\n",
              "<style scoped>\n",
              "    .dataframe tbody tr th:only-of-type {\n",
              "        vertical-align: middle;\n",
              "    }\n",
              "\n",
              "    .dataframe tbody tr th {\n",
              "        vertical-align: top;\n",
              "    }\n",
              "\n",
              "    .dataframe thead th {\n",
              "        text-align: right;\n",
              "    }\n",
              "</style>\n",
              "<table border=\"1\" class=\"dataframe\">\n",
              "  <thead>\n",
              "    <tr style=\"text-align: right;\">\n",
              "      <th></th>\n",
              "      <th>kind</th>\n",
              "      <th>name</th>\n",
              "      <th>x</th>\n",
              "      <th>y</th>\n",
              "      <th>width</th>\n",
              "      <th>height</th>\n",
              "      <th>image</th>\n",
              "    </tr>\n",
              "  </thead>\n",
              "  <tbody>\n",
              "    <tr>\n",
              "      <th>0</th>\n",
              "      <td>sub-line</td>\n",
              "      <td>line 1 part 1</td>\n",
              "      <td>137.5</td>\n",
              "      <td>147</td>\n",
              "      <td>119</td>\n",
              "      <td>44</td>\n",
              "      <td>synthetic_text.png</td>\n",
              "    </tr>\n",
              "    <tr>\n",
              "      <th>1</th>\n",
              "      <td>sub-line</td>\n",
              "      <td>line 1 part 2</td>\n",
              "      <td>262.5</td>\n",
              "      <td>147</td>\n",
              "      <td>114</td>\n",
              "      <td>44</td>\n",
              "      <td>synthetic_text.png</td>\n",
              "    </tr>\n",
              "    <tr>\n",
              "      <th>2</th>\n",
              "      <td>sub-line</td>\n",
              "      <td>line 1 part 3</td>\n",
              "      <td>382.5</td>\n",
              "      <td>147</td>\n",
              "      <td>65</td>\n",
              "      <td>44</td>\n",
              "      <td>synthetic_text.png</td>\n",
              "    </tr>\n",
              "    <tr>\n",
              "      <th>3</th>\n",
              "      <td>sub-line</td>\n",
              "      <td>line 1 part 4</td>\n",
              "      <td>453.5</td>\n",
              "      <td>147</td>\n",
              "      <td>57</td>\n",
              "      <td>44</td>\n",
              "      <td>synthetic_text.png</td>\n",
              "    </tr>\n",
              "    <tr>\n",
              "      <th>4</th>\n",
              "      <td>sub-line</td>\n",
              "      <td>line 1 part 5</td>\n",
              "      <td>514.5</td>\n",
              "      <td>147</td>\n",
              "      <td>72</td>\n",
              "      <td>44</td>\n",
              "      <td>synthetic_text.png</td>\n",
              "    </tr>\n",
              "  </tbody>\n",
              "</table>\n",
              "</div>"
            ],
            "text/plain": [
              "       kind           name      x    y width height               image\n",
              "0  sub-line  line 1 part 1  137.5  147   119     44  synthetic_text.png\n",
              "1  sub-line  line 1 part 2  262.5  147   114     44  synthetic_text.png\n",
              "2  sub-line  line 1 part 3  382.5  147    65     44  synthetic_text.png\n",
              "3  sub-line  line 1 part 4  453.5  147    57     44  synthetic_text.png\n",
              "4  sub-line  line 1 part 5  514.5  147    72     44  synthetic_text.png"
            ]
          },
          "execution_count": 3,
          "metadata": {},
          "output_type": "execute_result"
        }
      ],
      "source": [
        "image_path =''\n",
        "image = \"synthetic_text.png\"\n",
        "aoi = EMTK.find_aoi(image, image_path, level=\"sub-line\")\n",
        "aoi.head()"
      ]
    },
    {
      "cell_type": "code",
      "execution_count": 4,
      "metadata": {
        "colab": {
          "base_uri": "https://localhost:8080/",
          "height": 206
        },
        "id": "TS_WjY-0b_Ul",
        "outputId": "e0151997-5ee4-4533-bc64-1e4e547e5672"
      },
      "outputs": [
        {
          "data": {
            "text/html": [
              "<div>\n",
              "<style scoped>\n",
              "    .dataframe tbody tr th:only-of-type {\n",
              "        vertical-align: middle;\n",
              "    }\n",
              "\n",
              "    .dataframe tbody tr th {\n",
              "        vertical-align: top;\n",
              "    }\n",
              "\n",
              "    .dataframe thead th {\n",
              "        text-align: right;\n",
              "    }\n",
              "</style>\n",
              "<table border=\"1\" class=\"dataframe\">\n",
              "  <thead>\n",
              "    <tr style=\"text-align: right;\">\n",
              "      <th></th>\n",
              "      <th>kind</th>\n",
              "      <th>name</th>\n",
              "      <th>x</th>\n",
              "      <th>y</th>\n",
              "      <th>width</th>\n",
              "      <th>height</th>\n",
              "      <th>image</th>\n",
              "      <th>token</th>\n",
              "    </tr>\n",
              "  </thead>\n",
              "  <tbody>\n",
              "    <tr>\n",
              "      <th>0</th>\n",
              "      <td>sub-line</td>\n",
              "      <td>line 1 part 1</td>\n",
              "      <td>137.5</td>\n",
              "      <td>147</td>\n",
              "      <td>119</td>\n",
              "      <td>44</td>\n",
              "      <td>synthetic_text.png</td>\n",
              "      <td>Margie</td>\n",
              "    </tr>\n",
              "    <tr>\n",
              "      <th>1</th>\n",
              "      <td>sub-line</td>\n",
              "      <td>line 1 part 2</td>\n",
              "      <td>262.5</td>\n",
              "      <td>147</td>\n",
              "      <td>114</td>\n",
              "      <td>44</td>\n",
              "      <td>synthetic_text.png</td>\n",
              "      <td>moved</td>\n",
              "    </tr>\n",
              "    <tr>\n",
              "      <th>2</th>\n",
              "      <td>sub-line</td>\n",
              "      <td>line 1 part 3</td>\n",
              "      <td>382.5</td>\n",
              "      <td>147</td>\n",
              "      <td>65</td>\n",
              "      <td>44</td>\n",
              "      <td>synthetic_text.png</td>\n",
              "      <td>into</td>\n",
              "    </tr>\n",
              "    <tr>\n",
              "      <th>3</th>\n",
              "      <td>sub-line</td>\n",
              "      <td>line 1 part 4</td>\n",
              "      <td>453.5</td>\n",
              "      <td>147</td>\n",
              "      <td>57</td>\n",
              "      <td>44</td>\n",
              "      <td>synthetic_text.png</td>\n",
              "      <td>her</td>\n",
              "    </tr>\n",
              "    <tr>\n",
              "      <th>4</th>\n",
              "      <td>sub-line</td>\n",
              "      <td>line 1 part 5</td>\n",
              "      <td>514.5</td>\n",
              "      <td>147</td>\n",
              "      <td>72</td>\n",
              "      <td>44</td>\n",
              "      <td>synthetic_text.png</td>\n",
              "      <td>new</td>\n",
              "    </tr>\n",
              "  </tbody>\n",
              "</table>\n",
              "</div>"
            ],
            "text/plain": [
              "       kind           name      x    y width height               image  \\\n",
              "0  sub-line  line 1 part 1  137.5  147   119     44  synthetic_text.png   \n",
              "1  sub-line  line 1 part 2  262.5  147   114     44  synthetic_text.png   \n",
              "2  sub-line  line 1 part 3  382.5  147    65     44  synthetic_text.png   \n",
              "3  sub-line  line 1 part 4  453.5  147    57     44  synthetic_text.png   \n",
              "4  sub-line  line 1 part 5  514.5  147    72     44  synthetic_text.png   \n",
              "\n",
              "    token  \n",
              "0  Margie  \n",
              "1   moved  \n",
              "2    into  \n",
              "3     her  \n",
              "4     new  "
            ]
          },
          "execution_count": 4,
          "metadata": {},
          "output_type": "execute_result"
        }
      ],
      "source": [
        "file_path = ''\n",
        "aois_with_tokens = EMTK.add_tokens_to_AOIs(file_path, image.split(\".\")[0]+\".txt\", aoi)\n",
        "aois_with_tokens.head()"
      ]
    },
    {
      "cell_type": "code",
      "execution_count": 5,
      "metadata": {
        "id": "zqSmbcW4cBAz"
      },
      "outputs": [],
      "source": [
        "line_ys = correction.find_lines_Y(aois_with_tokens)"
      ]
    },
    {
      "cell_type": "code",
      "execution_count": 6,
      "metadata": {},
      "outputs": [],
      "source": [
        "x = 584\n",
        "y = 1216\n",
        "input_x = x//2\n",
        "input_y = y//2\n",
        "num_train = 4*11*30\n",
        "\n",
        "x_train = np.zeros((num_train, input_x, input_y, 3), dtype=np.uint8)\n",
        "y_train = np.zeros(num_train, dtype=int)\n",
        "\n",
        "error_types = [0, 1, 2, 3]"
      ]
    },
    {
      "cell_type": "code",
      "execution_count": 7,
      "metadata": {},
      "outputs": [],
      "source": [
        "def make_error_trial (error_type, factor):\n",
        "    if error_type == 0: # noise\n",
        "        synth_fixations = correction.generate_fixations_left(aois_with_tokens)\n",
        "        error_trial = correction.error_noise(factor/10.0, random.randint(0, 50), factor/10.0, synth_fixations) \n",
        "    elif error_type == 1: # shift\n",
        "        synth_fixations = correction.generate_fixations_left(aois_with_tokens)\n",
        "        line_ys = np.array(synth_fixations)[:, 1]\n",
        "        error_trial = correction.error_shift(factor/10.0, line_ys, synth_fixations) \n",
        "\n",
        "    elif error_type == 2: # droop\n",
        "        synth_fixations = correction.generate_fixations_left(aois_with_tokens)\n",
        "        error_trial = correction.error_droop(factor, synth_fixations)  \n",
        "    \n",
        "    elif error_type == 3: # offset \n",
        "        synth_fixations = correction.generate_fixations_left(aois_with_tokens)\n",
        "        error_trial = correction.error_offset(factor*2.0, factor*2.0, synth_fixations)  \n",
        "\n",
        "    else: # wrong entry\n",
        "        print(\"Error: wrong entry; there is no error category\")\n",
        "        return\n",
        "    return error_trial"
      ]
    },
    {
      "cell_type": "code",
      "execution_count": 8,
      "metadata": {
        "colab": {
          "base_uri": "https://localhost:8080/"
        },
        "id": "ifnO8carcHm_",
        "outputId": "a95bd33e-1a2e-46b2-8faa-6a950bdd2f4a"
      },
      "outputs": [],
      "source": [
        "prev = 0\n",
        "\n",
        "for i in range(len(error_types)): \n",
        "    for j in range(0, 11): \n",
        "        for index in range(30):\n",
        "          w = i*11*30 + j*30 + index\n",
        "          \n",
        "          # double check the index in x_train is correct\n",
        "          if w < prev:\n",
        "            print(i, j, index, w, prev)\n",
        "            exit()\n",
        "          else:\n",
        "            prev = w\n",
        "          # print()\n",
        "            \n",
        "          error_trial = make_error_trial(error_types[i], j+index*0.03)\n",
        "          if j == 0 and index < 2:\n",
        "           y_train[w] = 4\n",
        "          else:\n",
        "           y_train[w] = error_types[i]\n",
        "\n",
        "          im = correction.fix_to_img('synthetic_text.png', error_trial)\n",
        "          im_small = im.resize((input_y, input_x)) # shrink image to fit in model, shape defined in prev cell\n",
        "          im_small_array = np.asarray(im_small)\n",
        "\n",
        "          x_train[w] = im_small_array\n",
        "\n",
        "          # plt.imshow(x_train[index])\n",
        "\n",
        "\n",
        "np.save(\"data/x_trainBIG_left.npy\", x_train)\n",
        "np.save(\"data/y_trainBIG_left.npy\",y_train)"
      ]
    },
    {
      "cell_type": "code",
      "execution_count": 9,
      "metadata": {},
      "outputs": [
        {
          "data": {
            "text/plain": [
              "<matplotlib.image.AxesImage at 0x2748e551d30>"
            ]
          },
          "execution_count": 9,
          "metadata": {},
          "output_type": "execute_result"
        },
        {
          "data": {
            "image/png": "[encoded data removed]",
            "text/plain": [
              "<Figure size 432x288 with 1 Axes>"
            ]
          },
          "metadata": {
            "needs_background": "light"
          },
          "output_type": "display_data"
        }
      ],
      "source": [
        "# x_train.shape\n",
        "plt.imshow(x_train[-1])"
      ]
    }
  ],
  "metadata": {
    "colab": {
      "collapsed_sections": [],
      "name": "increasing_error.ipynb",
      "provenance": []
    },
    "kernelspec": {
      "display_name": "Python 3",
      "name": "python3"
    },
    "language_info": {
      "codemirror_mode": {
        "name": "ipython",
        "version": 3
      },
      "file_extension": ".py",
      "mimetype": "text/x-python",
      "name": "python",
      "nbconvert_exporter": "python",
      "pygments_lexer": "ipython3",
      "version": "3.9.12"
    }
  },
  "nbformat": 4,
  "nbformat_minor": 0
}
