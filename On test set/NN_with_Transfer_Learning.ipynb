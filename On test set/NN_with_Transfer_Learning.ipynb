{
 "cells": [
  {
   "cell_type": "code",
   "execution_count": 1,
   "metadata": {
    "id": "WaM1QbRxoPsO"
   },
   "outputs": [],
   "source": [
    "import numpy as np\n",
    "import tensorflow as tf\n",
    "import matplotlib.pyplot as plt\n",
    "import json"
   ]
  },
  {
   "cell_type": "code",
   "execution_count": 2,
   "metadata": {},
   "outputs": [
    {
     "name": "stdout",
     "output_type": "stream",
     "text": [
      "Num GPUs Available:  0\n"
     ]
    }
   ],
   "source": [
    "print(\"Num GPUs Available: \", len(tf.config.experimental.list_physical_devices('GPU')))"
   ]
  },
  {
   "cell_type": "code",
   "execution_count": 10,
   "metadata": {
    "id": "jgFw5-5cnxGB"
   },
   "outputs": [],
   "source": [
    "x_train = np.load(\"data/x_trainBIG.npy\")\n",
    "y_train = np.load(\"data/y_trainBIG.npy\")\n",
    "x_test = np.load(\"data/x_test.npy\")\n",
    "y_test = np.load(\"data/y_test.npy\")"
   ]
  },
  {
   "cell_type": "code",
   "execution_count": 4,
   "metadata": {
    "colab": {
     "base_uri": "https://localhost:8080/"
    },
    "id": "WWjRHpKcRZ6G",
    "outputId": "815b1bdd-2d61-4a8c-b955-cbcfe9cbf4aa"
   },
   "outputs": [
    {
     "data": {
      "text/plain": [
       "(292, 608, 3)"
      ]
     },
     "execution_count": 4,
     "metadata": {},
     "output_type": "execute_result"
    }
   ],
   "source": [
    "input_shape = x_train.shape[1:]\n",
    "input_shape"
   ]
  },
  {
   "cell_type": "code",
   "execution_count": 7,
   "metadata": {
    "colab": {
     "base_uri": "https://localhost:8080/"
    },
    "id": "h6AXUPh8Q_tp",
    "outputId": "9c86320d-7b9d-45ec-8de9-5f2466dbdf70"
   },
   "outputs": [
    {
     "name": "stdout",
     "output_type": "stream",
     "text": [
      "Model: \"sequential_1\"\n",
      "_________________________________________________________________\n",
      " Layer (type)                Output Shape              Param #   \n",
      "=================================================================\n",
      " flatten_1 (Flatten)         (None, 532608)            0         \n",
      "                                                                 \n",
      " dense_2 (Dense)             (None, 128)               68173952  \n",
      "                                                                 \n",
      " dense_3 (Dense)             (None, 5)                 645       \n",
      "                                                                 \n",
      "=================================================================\n",
      "Total params: 68,174,597\n",
      "Trainable params: 68,174,597\n",
      "Non-trainable params: 0\n",
      "_________________________________________________________________\n"
     ]
    }
   ],
   "source": [
    "model1 = tf.keras.models.Sequential([\n",
    "  tf.keras.layers.Flatten(input_shape=input_shape),\n",
    "    tf.keras.layers.Dense(units=128, activation='relu'),\n",
    "  tf.keras.layers.Dense(5, activation='softmax'),\n",
    "])\n",
    "model1.summary()\n"
   ]
  },
  {
   "cell_type": "code",
   "execution_count": 8,
   "metadata": {
    "colab": {
     "base_uri": "https://localhost:8080/"
    },
    "id": "6gND5lkZRfpj",
    "outputId": "a292d5e7-f52e-40c0-cde1-ec61ad978c27"
   },
   "outputs": [
    {
     "name": "stdout",
     "output_type": "stream",
     "text": [
      "Epoch 1/30\n",
      "44/44 [==============================] - 9s 207ms/step - loss: 61861.4492 - accuracy: 0.3242 - val_loss: 18657.3691 - val_accuracy: 0.3550\n",
      "Epoch 2/30\n",
      "44/44 [==============================] - 9s 202ms/step - loss: 1582.0070 - accuracy: 0.6136 - val_loss: 11572.9961 - val_accuracy: 0.4550\n",
      "Epoch 3/30\n",
      "44/44 [==============================] - 9s 203ms/step - loss: 579.7972 - accuracy: 0.7000 - val_loss: 6584.1958 - val_accuracy: 0.4800\n",
      "Epoch 4/30\n",
      "44/44 [==============================] - 9s 201ms/step - loss: 390.4361 - accuracy: 0.7212 - val_loss: 2965.1086 - val_accuracy: 0.5000\n",
      "Epoch 5/30\n",
      "44/44 [==============================] - 9s 202ms/step - loss: 184.0958 - accuracy: 0.8076 - val_loss: 8.8675 - val_accuracy: 0.4800\n",
      "Epoch 6/30\n",
      "44/44 [==============================] - 9s 200ms/step - loss: 7.5143 - accuracy: 0.2939 - val_loss: 1.6125 - val_accuracy: 0.2000\n",
      "Epoch 7/30\n",
      "44/44 [==============================] - 9s 200ms/step - loss: 1.5895 - accuracy: 0.2485 - val_loss: 1.6169 - val_accuracy: 0.2000\n",
      "Epoch 8/30\n",
      "44/44 [==============================] - 9s 201ms/step - loss: 1.5762 - accuracy: 0.2485 - val_loss: 1.6215 - val_accuracy: 0.2000\n",
      "Epoch 9/30\n",
      "44/44 [==============================] - 9s 202ms/step - loss: 1.5652 - accuracy: 0.2485 - val_loss: 1.6264 - val_accuracy: 0.2000\n",
      "Epoch 10/30\n",
      "44/44 [==============================] - 9s 201ms/step - loss: 1.5556 - accuracy: 0.2485 - val_loss: 1.6314 - val_accuracy: 0.2000\n",
      "Epoch 11/30\n",
      "44/44 [==============================] - 9s 200ms/step - loss: 1.5471 - accuracy: 0.2485 - val_loss: 1.6364 - val_accuracy: 0.2000\n",
      "Epoch 12/30\n",
      "44/44 [==============================] - 9s 200ms/step - loss: 1.5394 - accuracy: 0.2348 - val_loss: 1.6417 - val_accuracy: 0.1750\n",
      "Epoch 13/30\n",
      "44/44 [==============================] - 9s 201ms/step - loss: 1.5325 - accuracy: 0.2485 - val_loss: 1.6471 - val_accuracy: 0.1750\n",
      "Epoch 14/30\n",
      "44/44 [==============================] - 9s 200ms/step - loss: 1.5260 - accuracy: 0.2485 - val_loss: 1.6526 - val_accuracy: 0.1750\n",
      "Epoch 15/30\n",
      "44/44 [==============================] - 9s 200ms/step - loss: 1.5201 - accuracy: 0.2295 - val_loss: 1.6580 - val_accuracy: 0.1750\n",
      "Epoch 16/30\n",
      "44/44 [==============================] - 9s 200ms/step - loss: 1.5147 - accuracy: 0.2485 - val_loss: 1.6638 - val_accuracy: 0.1750\n",
      "Epoch 17/30\n",
      "44/44 [==============================] - 9s 200ms/step - loss: 1.5096 - accuracy: 0.2485 - val_loss: 1.6694 - val_accuracy: 0.1750\n",
      "Epoch 18/30\n",
      "44/44 [==============================] - 9s 201ms/step - loss: 1.5049 - accuracy: 0.2485 - val_loss: 1.6751 - val_accuracy: 0.1750\n",
      "Epoch 19/30\n",
      "44/44 [==============================] - 9s 201ms/step - loss: 1.5005 - accuracy: 0.2485 - val_loss: 1.6808 - val_accuracy: 0.1750\n",
      "Epoch 20/30\n",
      "44/44 [==============================] - 9s 200ms/step - loss: 1.4964 - accuracy: 0.2485 - val_loss: 1.6867 - val_accuracy: 0.1750\n",
      "Epoch 21/30\n",
      "44/44 [==============================] - 9s 199ms/step - loss: 1.4925 - accuracy: 0.2402 - val_loss: 1.6925 - val_accuracy: 0.1750\n",
      "Epoch 22/30\n",
      "44/44 [==============================] - 9s 200ms/step - loss: 1.4888 - accuracy: 0.2485 - val_loss: 1.6982 - val_accuracy: 0.1750\n",
      "Epoch 23/30\n",
      "44/44 [==============================] - 9s 201ms/step - loss: 1.4854 - accuracy: 0.2485 - val_loss: 1.7039 - val_accuracy: 0.1750\n",
      "Epoch 24/30\n",
      "44/44 [==============================] - 9s 201ms/step - loss: 1.4822 - accuracy: 0.2485 - val_loss: 1.7099 - val_accuracy: 0.1750\n",
      "Epoch 25/30\n",
      "44/44 [==============================] - 9s 200ms/step - loss: 1.4792 - accuracy: 0.2485 - val_loss: 1.7157 - val_accuracy: 0.1750\n",
      "Epoch 26/30\n",
      "44/44 [==============================] - 9s 200ms/step - loss: 1.4764 - accuracy: 0.2485 - val_loss: 1.7214 - val_accuracy: 0.1750\n",
      "Epoch 27/30\n",
      "44/44 [==============================] - 9s 200ms/step - loss: 1.4737 - accuracy: 0.2394 - val_loss: 1.7271 - val_accuracy: 0.1750\n",
      "Epoch 28/30\n",
      "44/44 [==============================] - 9s 200ms/step - loss: 1.4711 - accuracy: 0.2485 - val_loss: 1.7328 - val_accuracy: 0.1750\n",
      "Epoch 29/30\n",
      "44/44 [==============================] - 9s 200ms/step - loss: 1.4688 - accuracy: 0.2485 - val_loss: 1.7386 - val_accuracy: 0.1750\n",
      "Epoch 30/30\n",
      "44/44 [==============================] - 9s 198ms/step - loss: 1.4664 - accuracy: 0.2485 - val_loss: 1.7439 - val_accuracy: 0.1750\n"
     ]
    }
   ],
   "source": [
    "model1.compile(optimizer='adam', loss='SparseCategoricalCrossentropy', metrics=['accuracy'])\n",
    "hist1 = model1.fit(\n",
    "    x_train, \n",
    "    y_train,\n",
    "    epochs=30,\n",
    "    batch_size=30,\n",
    "    validation_data=(x_test, y_test))"
   ]
  },
  {
   "cell_type": "code",
   "execution_count": 18,
   "metadata": {},
   "outputs": [],
   "source": [
    "model1.save(\"model1.h5\")"
   ]
  },
  {
   "cell_type": "code",
   "execution_count": 9,
   "metadata": {},
   "outputs": [],
   "source": [
    "model2 = tf.keras.models.Sequential([\n",
    "    tf.keras.layers.Conv2D(filters=64, kernel_size=3, activation='relu', input_shape=input_shape),\n",
    "    tf.keras.layers.MaxPooling2D(pool_size=2),\n",
    "    tf.keras.layers.Flatten(),\n",
    "    tf.keras.layers.Dense(units=128, activation='relu'),\n",
    "    tf.keras.layers.Dense(units=5, activation='softmax')\n",
    "])\n",
    "model2.compile(\n",
    "    optimizer='adam',\n",
    "    loss ='SparseCategoricalCrossentropy', \n",
    "    metrics=['accuracy'])"
   ]
  },
  {
   "cell_type": "code",
   "execution_count": 10,
   "metadata": {},
   "outputs": [
    {
     "name": "stdout",
     "output_type": "stream",
     "text": [
      "Epoch 1/30\n",
      "44/44 [==============================] - 115s 3s/step - loss: 20434.0098 - accuracy: 0.5561 - val_loss: 3047.8452 - val_accuracy: 0.5050\n",
      "Epoch 2/30\n",
      "44/44 [==============================] - 115s 3s/step - loss: 69.2037 - accuracy: 0.9402 - val_loss: 561.5401 - val_accuracy: 0.7100\n",
      "Epoch 3/30\n",
      "44/44 [==============================] - 114s 3s/step - loss: 26.1422 - accuracy: 0.9621 - val_loss: 237.1546 - val_accuracy: 0.6800\n",
      "Epoch 4/30\n",
      "44/44 [==============================] - 114s 3s/step - loss: 26.4775 - accuracy: 0.9636 - val_loss: 15.1547 - val_accuracy: 0.7000\n",
      "Epoch 5/30\n",
      "44/44 [==============================] - 114s 3s/step - loss: 21.0313 - accuracy: 0.9682 - val_loss: 389.6857 - val_accuracy: 0.6850\n",
      "Epoch 6/30\n",
      "44/44 [==============================] - 113s 3s/step - loss: 16.8765 - accuracy: 0.9644 - val_loss: 222.8044 - val_accuracy: 0.7300\n",
      "Epoch 7/30\n",
      "44/44 [==============================] - 113s 3s/step - loss: 14.8196 - accuracy: 0.9682 - val_loss: 196.5613 - val_accuracy: 0.7200\n",
      "Epoch 8/30\n",
      "44/44 [==============================] - 113s 3s/step - loss: 43.0810 - accuracy: 0.9492 - val_loss: 371.6556 - val_accuracy: 0.7300\n",
      "Epoch 9/30\n",
      "44/44 [==============================] - 113s 3s/step - loss: 18.1765 - accuracy: 0.9742 - val_loss: 463.0434 - val_accuracy: 0.7100\n",
      "Epoch 10/30\n",
      "44/44 [==============================] - 113s 3s/step - loss: 27.7785 - accuracy: 0.9629 - val_loss: 571.3121 - val_accuracy: 0.7450\n",
      "Epoch 11/30\n",
      "44/44 [==============================] - 113s 3s/step - loss: 14.8320 - accuracy: 0.9758 - val_loss: 154.2649 - val_accuracy: 0.7600\n",
      "Epoch 12/30\n",
      "44/44 [==============================] - 113s 3s/step - loss: 11.3184 - accuracy: 0.9773 - val_loss: 426.2412 - val_accuracy: 0.7350\n",
      "Epoch 13/30\n",
      "44/44 [==============================] - 112s 3s/step - loss: 18.9827 - accuracy: 0.9712 - val_loss: 71.8234 - val_accuracy: 0.7000\n",
      "Epoch 14/30\n",
      "44/44 [==============================] - 110s 2s/step - loss: 13.0440 - accuracy: 0.9742 - val_loss: 19.0150 - val_accuracy: 0.9650\n",
      "Epoch 15/30\n",
      "44/44 [==============================] - 109s 2s/step - loss: 9.1795 - accuracy: 0.9773 - val_loss: 154.6890 - val_accuracy: 0.7300\n",
      "Epoch 16/30\n",
      "44/44 [==============================] - 109s 2s/step - loss: 6.7917 - accuracy: 0.9773 - val_loss: 64.9375 - val_accuracy: 0.7100\n",
      "Epoch 17/30\n",
      "44/44 [==============================] - 109s 2s/step - loss: 7.8785 - accuracy: 0.9788 - val_loss: 172.3345 - val_accuracy: 0.7350\n",
      "Epoch 18/30\n",
      "44/44 [==============================] - 109s 2s/step - loss: 8.5083 - accuracy: 0.9758 - val_loss: 218.8504 - val_accuracy: 0.7100\n",
      "Epoch 19/30\n",
      "44/44 [==============================] - 109s 2s/step - loss: 14.1121 - accuracy: 0.9780 - val_loss: 187.0046 - val_accuracy: 0.7500\n",
      "Epoch 20/30\n",
      "44/44 [==============================] - 109s 2s/step - loss: 4.5080 - accuracy: 0.9788 - val_loss: 17.6395 - val_accuracy: 0.9550\n",
      "Epoch 21/30\n",
      "44/44 [==============================] - 109s 2s/step - loss: 6.2427 - accuracy: 0.9818 - val_loss: 21.8241 - val_accuracy: 0.9400\n",
      "Epoch 22/30\n",
      "44/44 [==============================] - 109s 2s/step - loss: 5.0195 - accuracy: 0.9826 - val_loss: 3.7508 - val_accuracy: 0.9700\n",
      "Epoch 23/30\n",
      "44/44 [==============================] - 109s 2s/step - loss: 5.9096 - accuracy: 0.9758 - val_loss: 7.4320 - val_accuracy: 0.9750\n",
      "Epoch 24/30\n",
      "44/44 [==============================] - 109s 2s/step - loss: 33.1523 - accuracy: 0.9538 - val_loss: 152.2676 - val_accuracy: 0.7450\n",
      "Epoch 25/30\n",
      "44/44 [==============================] - 109s 2s/step - loss: 8.2989 - accuracy: 0.9803 - val_loss: 11.8313 - val_accuracy: 0.9600\n",
      "Epoch 26/30\n",
      "44/44 [==============================] - 109s 2s/step - loss: 2.9521 - accuracy: 0.9811 - val_loss: 78.8164 - val_accuracy: 0.7500\n",
      "Epoch 27/30\n",
      "44/44 [==============================] - 109s 2s/step - loss: 5.1044 - accuracy: 0.9833 - val_loss: 366.4809 - val_accuracy: 0.7150\n",
      "Epoch 28/30\n",
      "44/44 [==============================] - 109s 2s/step - loss: 7.2972 - accuracy: 0.9765 - val_loss: 47.2381 - val_accuracy: 0.7550\n",
      "Epoch 29/30\n",
      "44/44 [==============================] - 109s 2s/step - loss: 3.4856 - accuracy: 0.9826 - val_loss: 15.7402 - val_accuracy: 0.7250\n",
      "Epoch 30/30\n",
      "44/44 [==============================] - 109s 2s/step - loss: 5.2440 - accuracy: 0.9795 - val_loss: 12.9889 - val_accuracy: 0.9700\n"
     ]
    }
   ],
   "source": [
    "hist2 = model2.fit(\n",
    "    x_train, \n",
    "    y_train,    \n",
    "    epochs=30,\n",
    "    batch_size=30,\n",
    "    validation_data=(x_train, y_test))"
   ]
  },
  {
   "cell_type": "code",
   "execution_count": 14,
   "metadata": {},
   "outputs": [
    {
     "name": "stdout",
     "output_type": "stream",
     "text": [
      "INFO:tensorflow:Assets written to: model2\\assets\n"
     ]
    },
    {
     "name": "stderr",
     "output_type": "stream",
     "text": [
      "INFO:tensorflow:Assets written to: model2\\assets\n"
     ]
    }
   ],
   "source": [
    "model2.save(\"model2\")\n",
    "with open('history2.json', 'w') as handle: # saving the history of the model\n",
    "    json.dump(hist2.history, handle)"
   ]
  },
  {
   "cell_type": "markdown",
   "metadata": {},
   "source": [
    "Model used in facial expression recognition"
   ]
  },
  {
   "cell_type": "code",
   "execution_count": 15,
   "metadata": {
    "id": "vRTqcaf-Yskm"
   },
   "outputs": [],
   "source": [
    "# model Alizadeh and Fazel\n",
    "from keras.layers import Conv2D, Activation, BatchNormalization, MaxPooling2D, Dropout, Dense, Flatten\n",
    "from keras.models import Sequential\n",
    "\n",
    "model_fe = Sequential()\n",
    "\n",
    "model_fe.add(Conv2D(64, 3, padding='same', input_shape=input_shape))\n",
    "model_fe.add(BatchNormalization())\n",
    "model_fe.add(Activation('relu'))\n",
    "model_fe.add(MaxPooling2D(pool_size=2, strides=None, padding='same'))\n",
    "model_fe.add(Dropout(0.25))\n",
    "\n",
    "model_fe.add(Conv2D(128, 3, padding='same'))\n",
    "model_fe.add(BatchNormalization())\n",
    "model_fe.add(Activation('relu'))\n",
    "model_fe.add(MaxPooling2D(pool_size=2, strides=None, padding='same'))\n",
    "model_fe.add(Dropout(0.25))\n",
    "\n",
    "model_fe.add(Conv2D(256, 3, padding='same'))\n",
    "model_fe.add(BatchNormalization())\n",
    "model_fe.add(Activation('relu'))\n",
    "model_fe.add(MaxPooling2D(pool_size=2, strides=None, padding='same'))\n",
    "model_fe.add(Dropout(0.25))\n",
    "\n",
    "model_fe.add(Conv2D(512, 3, padding='same'))\n",
    "model_fe.add(BatchNormalization())\n",
    "model_fe.add(Activation('relu'))\n",
    "model_fe.add(MaxPooling2D(pool_size=2, strides=None, padding='same'))\n",
    "model_fe.add(Dropout(0.25))\n",
    "\n",
    "model_fe.add(Flatten())\n",
    "\n",
    "model_fe.add(Dense(512))\n",
    "model_fe.add(BatchNormalization())\n",
    "model_fe.add(Activation('relu'))\n",
    "model_fe.add(Dropout(0.25))\n",
    "\n",
    "model_fe.add(Dense(256))\n",
    "model_fe.add(BatchNormalization())\n",
    "model_fe.add(Activation('relu'))\n",
    "model_fe.add(Dropout(0.25))\n",
    "\n",
    "model_fe.add(Dense(5))\n",
    "model_fe.add(Activation('softmax'))"
   ]
  },
  {
   "cell_type": "code",
   "execution_count": 16,
   "metadata": {},
   "outputs": [
    {
     "name": "stdout",
     "output_type": "stream",
     "text": [
      "Epoch 1/50\n",
      "44/44 [==============================] - 430s 10s/step - loss: 0.3278 - accuracy: 0.8902 - val_loss: 37.7674 - val_accuracy: 0.2000\n",
      "Epoch 2/50\n",
      "44/44 [==============================] - 428s 10s/step - loss: 0.1853 - accuracy: 0.9485 - val_loss: 8.4676 - val_accuracy: 0.3100\n",
      "Epoch 3/50\n",
      "44/44 [==============================] - 429s 10s/step - loss: 0.1530 - accuracy: 0.9462 - val_loss: 2.7881 - val_accuracy: 0.4900\n",
      "Epoch 4/50\n",
      "44/44 [==============================] - 428s 10s/step - loss: 0.1157 - accuracy: 0.9644 - val_loss: 1.8259 - val_accuracy: 0.5150\n",
      "Epoch 5/50\n",
      "44/44 [==============================] - 428s 10s/step - loss: 0.1232 - accuracy: 0.9652 - val_loss: 1.7937 - val_accuracy: 0.5000\n",
      "Epoch 6/50\n",
      "44/44 [==============================] - 429s 10s/step - loss: 0.1022 - accuracy: 0.9659 - val_loss: 0.9606 - val_accuracy: 0.7300\n",
      "Epoch 7/50\n",
      "44/44 [==============================] - 428s 10s/step - loss: 0.0984 - accuracy: 0.9720 - val_loss: 0.3340 - val_accuracy: 0.9500\n",
      "Epoch 8/50\n",
      "44/44 [==============================] - 428s 10s/step - loss: 0.0893 - accuracy: 0.9780 - val_loss: 0.4908 - val_accuracy: 0.7550\n",
      "Epoch 9/50\n",
      "44/44 [==============================] - 429s 10s/step - loss: 0.1090 - accuracy: 0.9644 - val_loss: 1.0358 - val_accuracy: 0.6850\n",
      "Epoch 10/50\n",
      "44/44 [==============================] - 428s 10s/step - loss: 0.0876 - accuracy: 0.9720 - val_loss: 0.4534 - val_accuracy: 0.7400\n",
      "Epoch 11/50\n",
      "44/44 [==============================] - 428s 10s/step - loss: 0.0813 - accuracy: 0.9750 - val_loss: 1.4038 - val_accuracy: 0.6650\n",
      "Epoch 12/50\n",
      "44/44 [==============================] - 429s 10s/step - loss: 0.0772 - accuracy: 0.9735 - val_loss: 0.8942 - val_accuracy: 0.6650\n",
      "Epoch 13/50\n",
      "44/44 [==============================] - 428s 10s/step - loss: 0.0753 - accuracy: 0.9773 - val_loss: 2.2439 - val_accuracy: 0.4750\n",
      "Epoch 14/50\n",
      "44/44 [==============================] - 429s 10s/step - loss: 0.0719 - accuracy: 0.9773 - val_loss: 0.7334 - val_accuracy: 0.7050\n",
      "Epoch 15/50\n",
      "44/44 [==============================] - 429s 10s/step - loss: 0.0637 - accuracy: 0.9780 - val_loss: 1.8109 - val_accuracy: 0.6350\n",
      "Epoch 16/50\n",
      "44/44 [==============================] - 428s 10s/step - loss: 0.0711 - accuracy: 0.9765 - val_loss: 0.8651 - val_accuracy: 0.7400\n",
      "Epoch 17/50\n",
      "44/44 [==============================] - 429s 10s/step - loss: 0.0603 - accuracy: 0.9780 - val_loss: 1.9000 - val_accuracy: 0.4500\n",
      "Epoch 18/50\n",
      "44/44 [==============================] - 428s 10s/step - loss: 0.0621 - accuracy: 0.9811 - val_loss: 0.8615 - val_accuracy: 0.7200\n",
      "Epoch 19/50\n",
      "44/44 [==============================] - 428s 10s/step - loss: 0.0623 - accuracy: 0.9788 - val_loss: 1.3627 - val_accuracy: 0.7200\n",
      "Epoch 20/50\n",
      "44/44 [==============================] - 429s 10s/step - loss: 0.0689 - accuracy: 0.9788 - val_loss: 0.7112 - val_accuracy: 0.6800\n",
      "Epoch 21/50\n",
      "44/44 [==============================] - 428s 10s/step - loss: 0.0584 - accuracy: 0.9826 - val_loss: 0.9680 - val_accuracy: 0.7200\n",
      "Epoch 22/50\n",
      "44/44 [==============================] - 428s 10s/step - loss: 0.0605 - accuracy: 0.9818 - val_loss: 0.7122 - val_accuracy: 0.7150\n",
      "Epoch 23/50\n",
      "44/44 [==============================] - 428s 10s/step - loss: 0.0527 - accuracy: 0.9826 - val_loss: 0.9220 - val_accuracy: 0.7200\n",
      "Epoch 24/50\n",
      "44/44 [==============================] - 428s 10s/step - loss: 0.0591 - accuracy: 0.9826 - val_loss: 0.6324 - val_accuracy: 0.7250\n",
      "Epoch 25/50\n",
      "44/44 [==============================] - 428s 10s/step - loss: 0.0551 - accuracy: 0.9833 - val_loss: 0.6104 - val_accuracy: 0.7400\n",
      "Epoch 26/50\n",
      "44/44 [==============================] - 429s 10s/step - loss: 0.0477 - accuracy: 0.9864 - val_loss: 2.7563 - val_accuracy: 0.4800\n",
      "Epoch 27/50\n",
      "44/44 [==============================] - 428s 10s/step - loss: 0.0680 - accuracy: 0.9811 - val_loss: 0.4859 - val_accuracy: 0.7400\n",
      "Epoch 28/50\n",
      "44/44 [==============================] - 428s 10s/step - loss: 0.0454 - accuracy: 0.9864 - val_loss: 0.3844 - val_accuracy: 0.7600\n",
      "Epoch 29/50\n",
      "44/44 [==============================] - 429s 10s/step - loss: 0.0527 - accuracy: 0.9811 - val_loss: 2.2523 - val_accuracy: 0.5650\n",
      "Epoch 30/50\n",
      "44/44 [==============================] - 429s 10s/step - loss: 0.0561 - accuracy: 0.9818 - val_loss: 2.1909 - val_accuracy: 0.3350\n",
      "Epoch 31/50\n",
      "44/44 [==============================] - 428s 10s/step - loss: 0.0461 - accuracy: 0.9833 - val_loss: 1.9734 - val_accuracy: 0.5450\n",
      "Epoch 32/50\n",
      "44/44 [==============================] - 428s 10s/step - loss: 0.0421 - accuracy: 0.9841 - val_loss: 0.5022 - val_accuracy: 0.7450\n",
      "Epoch 33/50\n",
      "44/44 [==============================] - 428s 10s/step - loss: 0.0407 - accuracy: 0.9864 - val_loss: 0.5255 - val_accuracy: 0.7250\n",
      "Epoch 34/50\n",
      "44/44 [==============================] - 428s 10s/step - loss: 0.0513 - accuracy: 0.9826 - val_loss: 0.5406 - val_accuracy: 0.7400\n",
      "Epoch 35/50\n",
      "44/44 [==============================] - 428s 10s/step - loss: 0.0445 - accuracy: 0.9833 - val_loss: 0.9023 - val_accuracy: 0.6950\n",
      "Epoch 36/50\n",
      "44/44 [==============================] - 429s 10s/step - loss: 0.0430 - accuracy: 0.9856 - val_loss: 1.0833 - val_accuracy: 0.7400\n",
      "Epoch 37/50\n",
      "44/44 [==============================] - 429s 10s/step - loss: 0.0462 - accuracy: 0.9856 - val_loss: 0.7114 - val_accuracy: 0.7350\n",
      "Epoch 38/50\n",
      "44/44 [==============================] - 429s 10s/step - loss: 0.0445 - accuracy: 0.9856 - val_loss: 0.3453 - val_accuracy: 0.7200\n",
      "Epoch 39/50\n",
      "44/44 [==============================] - 428s 10s/step - loss: 0.0607 - accuracy: 0.9826 - val_loss: 1.0687 - val_accuracy: 0.7200\n",
      "Epoch 40/50\n",
      "44/44 [==============================] - 428s 10s/step - loss: 0.0556 - accuracy: 0.9826 - val_loss: 1.4527 - val_accuracy: 0.5250\n",
      "Epoch 41/50\n",
      "44/44 [==============================] - 428s 10s/step - loss: 0.0452 - accuracy: 0.9856 - val_loss: 0.6314 - val_accuracy: 0.7400\n",
      "Epoch 42/50\n",
      "44/44 [==============================] - 428s 10s/step - loss: 0.0449 - accuracy: 0.9841 - val_loss: 0.6069 - val_accuracy: 0.7600\n",
      "Epoch 43/50\n",
      "44/44 [==============================] - 429s 10s/step - loss: 0.0494 - accuracy: 0.9826 - val_loss: 0.4198 - val_accuracy: 0.7600\n",
      "Epoch 44/50\n",
      "44/44 [==============================] - 428s 10s/step - loss: 0.0446 - accuracy: 0.9848 - val_loss: 0.4472 - val_accuracy: 0.7250\n",
      "Epoch 45/50\n",
      "44/44 [==============================] - 428s 10s/step - loss: 0.0440 - accuracy: 0.9833 - val_loss: 2.9510 - val_accuracy: 0.4750\n",
      "Epoch 46/50\n",
      "44/44 [==============================] - 429s 10s/step - loss: 0.0427 - accuracy: 0.9856 - val_loss: 0.6825 - val_accuracy: 0.7600\n",
      "Epoch 47/50\n",
      "44/44 [==============================] - 428s 10s/step - loss: 0.0411 - accuracy: 0.9841 - val_loss: 0.4832 - val_accuracy: 0.7550\n",
      "Epoch 48/50\n",
      "44/44 [==============================] - 429s 10s/step - loss: 0.0407 - accuracy: 0.9871 - val_loss: 0.7066 - val_accuracy: 0.7400\n",
      "Epoch 49/50\n",
      "44/44 [==============================] - 429s 10s/step - loss: 0.0389 - accuracy: 0.9856 - val_loss: 0.6055 - val_accuracy: 0.7300\n",
      "Epoch 50/50\n",
      "44/44 [==============================] - 428s 10s/step - loss: 0.0401 - accuracy: 0.9894 - val_loss: 0.3752 - val_accuracy: 0.7600\n"
     ]
    }
   ],
   "source": [
    "# y_train_oh = tf.keras.utils.to_categorical(y_train, 5)\n",
    "# y_test_oh = tf.keras.utils.to_categorical(y_test, 5)\n",
    "\n",
    "model_fe.compile(\n",
    "    loss='SparseCategoricalCrossentropy', \n",
    "    optimizer='adam', \n",
    "    metrics=['accuracy'])\n",
    "\n",
    "hist_fe = model_fe.fit(\n",
    "    x_train, \n",
    "    y_train,\n",
    "    epochs=50,\n",
    "    batch_size=30,\n",
    "    validation_data=(x_test, y_test)\n",
    "    )"
   ]
  },
  {
   "cell_type": "code",
   "execution_count": 17,
   "metadata": {},
   "outputs": [],
   "source": [
    "model_fe.save(\"model_fe.h5\")\n",
    "with open('history_fe.json', 'w') as handle: # saving the history of the model\n",
    "    json.dump(hist_fe.history, handle)"
   ]
  },
  {
   "cell_type": "markdown",
   "metadata": {},
   "source": [
    "Transfer Learning"
   ]
  },
  {
   "cell_type": "code",
   "execution_count": 11,
   "metadata": {},
   "outputs": [
    {
     "name": "stdout",
     "output_type": "stream",
     "text": [
      "WARNING:tensorflow:`input_shape` is undefined or non-square, or `rows` is not in [96, 128, 160, 192, 224]. Weights for input shape (224, 224) will be loaded as the default.\n",
      "Model: \"sequential_3\"\n",
      "_________________________________________________________________\n",
      " Layer (type)                Output Shape              Param #   \n",
      "=================================================================\n",
      " mobilenetv2_1.00_224 (Funct  (None, 10, 19, 1280)     2257984   \n",
      " ional)                                                          \n",
      "                                                                 \n",
      " flatten_3 (Flatten)         (None, 243200)            0         \n",
      "                                                                 \n",
      " dense_6 (Dense)             (None, 5)                 1216005   \n",
      "                                                                 \n",
      "=================================================================\n",
      "Total params: 3,473,989\n",
      "Trainable params: 1,216,005\n",
      "Non-trainable params: 2,257,984\n",
      "_________________________________________________________________\n"
     ]
    }
   ],
   "source": [
    "model = tf.keras.applications.MobileNetV2(input_shape=input_shape, include_top=False, weights='imagenet')\n",
    "model.trainable = False\n",
    "\n",
    "# adding the top classification layer\n",
    "model_tl = tf.keras.Sequential(\n",
    "    [\n",
    "        model,\n",
    "        tf.keras.layers.Flatten(),\n",
    "        tf.keras.layers.Dense(units=5, activation='softmax')\n",
    "    ]\n",
    ")\n",
    "model_tl.summary()"
   ]
  },
  {
   "cell_type": "code",
   "execution_count": 12,
   "metadata": {},
   "outputs": [
    {
     "name": "stdout",
     "output_type": "stream",
     "text": [
      "Epoch 1/30\n",
      "44/44 [==============================] - 61s 1s/step - loss: 6.8042 - accuracy: 0.7773 - val_loss: 4.9176 - val_accuracy: 0.6850\n",
      "Epoch 2/30\n",
      "44/44 [==============================] - 59s 1s/step - loss: 0.5520 - accuracy: 0.9644 - val_loss: 9.2517 - val_accuracy: 0.7350\n",
      "Epoch 3/30\n",
      "44/44 [==============================] - 59s 1s/step - loss: 0.4579 - accuracy: 0.9720 - val_loss: 18.2425 - val_accuracy: 0.5850\n",
      "Epoch 4/30\n",
      "44/44 [==============================] - 59s 1s/step - loss: 0.5941 - accuracy: 0.9576 - val_loss: 7.4803 - val_accuracy: 0.7450\n",
      "Epoch 5/30\n",
      "44/44 [==============================] - 59s 1s/step - loss: 0.3445 - accuracy: 0.9720 - val_loss: 19.6382 - val_accuracy: 0.7250\n",
      "Epoch 6/30\n",
      "44/44 [==============================] - 59s 1s/step - loss: 0.7388 - accuracy: 0.9674 - val_loss: 4.1557 - val_accuracy: 0.7450\n",
      "Epoch 7/30\n",
      "44/44 [==============================] - 59s 1s/step - loss: 0.4057 - accuracy: 0.9735 - val_loss: 7.1659 - val_accuracy: 0.7400\n",
      "Epoch 8/30\n",
      "44/44 [==============================] - 59s 1s/step - loss: 0.4621 - accuracy: 0.9742 - val_loss: 8.9138 - val_accuracy: 0.6500\n",
      "Epoch 9/30\n",
      "44/44 [==============================] - 59s 1s/step - loss: 0.4649 - accuracy: 0.9720 - val_loss: 3.9107 - val_accuracy: 0.7100\n",
      "Epoch 10/30\n",
      "44/44 [==============================] - 59s 1s/step - loss: 0.4251 - accuracy: 0.9773 - val_loss: 0.6107 - val_accuracy: 0.9650\n",
      "Epoch 11/30\n",
      "44/44 [==============================] - 59s 1s/step - loss: 0.7092 - accuracy: 0.9712 - val_loss: 0.6122 - val_accuracy: 0.9600\n",
      "Epoch 12/30\n",
      "44/44 [==============================] - 59s 1s/step - loss: 0.5967 - accuracy: 0.9674 - val_loss: 1.4079 - val_accuracy: 0.9150\n",
      "Epoch 13/30\n",
      "44/44 [==============================] - 59s 1s/step - loss: 0.4438 - accuracy: 0.9742 - val_loss: 0.8017 - val_accuracy: 0.9500\n",
      "Epoch 14/30\n",
      "44/44 [==============================] - 59s 1s/step - loss: 0.7335 - accuracy: 0.9667 - val_loss: 1.7514 - val_accuracy: 0.7350\n",
      "Epoch 15/30\n",
      "44/44 [==============================] - 59s 1s/step - loss: 0.5679 - accuracy: 0.9742 - val_loss: 13.5033 - val_accuracy: 0.7050\n",
      "Epoch 16/30\n",
      "44/44 [==============================] - 59s 1s/step - loss: 0.6073 - accuracy: 0.9727 - val_loss: 19.0400 - val_accuracy: 0.6850\n",
      "Epoch 17/30\n",
      "44/44 [==============================] - 59s 1s/step - loss: 0.4801 - accuracy: 0.9788 - val_loss: 8.0945 - val_accuracy: 0.7150\n",
      "Epoch 18/30\n",
      "44/44 [==============================] - 59s 1s/step - loss: 1.1425 - accuracy: 0.9742 - val_loss: 10.0281 - val_accuracy: 0.7450\n",
      "Epoch 19/30\n",
      "44/44 [==============================] - 59s 1s/step - loss: 0.2770 - accuracy: 0.9864 - val_loss: 2.4392 - val_accuracy: 0.9100\n",
      "Epoch 20/30\n",
      "44/44 [==============================] - 59s 1s/step - loss: 0.8560 - accuracy: 0.9667 - val_loss: 13.0401 - val_accuracy: 0.7050\n",
      "Epoch 21/30\n",
      "44/44 [==============================] - 59s 1s/step - loss: 0.4468 - accuracy: 0.9735 - val_loss: 10.6945 - val_accuracy: 0.7150\n",
      "Epoch 22/30\n",
      "44/44 [==============================] - 59s 1s/step - loss: 0.6057 - accuracy: 0.9780 - val_loss: 0.4735 - val_accuracy: 0.9600\n",
      "Epoch 23/30\n",
      "44/44 [==============================] - 59s 1s/step - loss: 1.1782 - accuracy: 0.9682 - val_loss: 31.2684 - val_accuracy: 0.7050\n",
      "Epoch 24/30\n",
      "44/44 [==============================] - 59s 1s/step - loss: 0.7803 - accuracy: 0.9742 - val_loss: 0.9199 - val_accuracy: 0.7400\n",
      "Epoch 25/30\n",
      "44/44 [==============================] - 59s 1s/step - loss: 0.8498 - accuracy: 0.9826 - val_loss: 3.0048 - val_accuracy: 0.7050\n",
      "Epoch 26/30\n",
      "44/44 [==============================] - 59s 1s/step - loss: 0.7505 - accuracy: 0.9750 - val_loss: 0.9929 - val_accuracy: 0.9750\n",
      "Epoch 27/30\n",
      "44/44 [==============================] - 59s 1s/step - loss: 0.6918 - accuracy: 0.9780 - val_loss: 0.9246 - val_accuracy: 0.9700\n",
      "Epoch 28/30\n",
      "44/44 [==============================] - 59s 1s/step - loss: 0.7246 - accuracy: 0.9742 - val_loss: 38.0049 - val_accuracy: 0.7300\n",
      "Epoch 29/30\n",
      "44/44 [==============================] - 59s 1s/step - loss: 1.0695 - accuracy: 0.9811 - val_loss: 0.7791 - val_accuracy: 0.9450\n",
      "Epoch 30/30\n",
      "44/44 [==============================] - 59s 1s/step - loss: 0.5040 - accuracy: 0.9765 - val_loss: 1.9440 - val_accuracy: 0.7450\n"
     ]
    }
   ],
   "source": [
    "model_tl.compile(optimizer=\"adam\",\n",
    "                 loss='SparseCategoricalCrossentropy',\n",
    "                 metrics=['accuracy'])\n",
    "hist_tl = model_tl.fit(\n",
    "    x_train, \n",
    "    y_train, \n",
    "    epochs=30, \n",
    "    batch_size=30, \n",
    "    validation_data=(x_test, y_test))"
   ]
  },
  {
   "cell_type": "code",
   "execution_count": 13,
   "metadata": {},
   "outputs": [
    {
     "name": "stderr",
     "output_type": "stream",
     "text": [
      "WARNING:absl:Function `_wrapped_model` contains input name(s) mobilenetv2_1.00_224_input with unsupported characters which will be renamed to mobilenetv2_1_00_224_input in the SavedModel.\n"
     ]
    },
    {
     "name": "stdout",
     "output_type": "stream",
     "text": [
      "INFO:tensorflow:Assets written to: model_tl\\assets\n"
     ]
    },
    {
     "name": "stderr",
     "output_type": "stream",
     "text": [
      "INFO:tensorflow:Assets written to: model_tl\\assets\n"
     ]
    }
   ],
   "source": [
    "model_tl.save(\"model_tl\")\n",
    "with open('history_tl.json', 'w') as handle: # saving the history of the model\n",
    "    json.dump(hist_tl.history, handle)"
   ]
  },
  {
   "cell_type": "markdown",
   "metadata": {},
   "source": [
    "### Visualizations"
   ]
  },
  {
   "cell_type": "code",
   "execution_count": null,
   "metadata": {},
   "outputs": [],
   "source": [
    "hist_fe = json.load(open(\"history_fe.json\", \"r\"))"
   ]
  },
  {
   "cell_type": "code",
   "execution_count": null,
   "metadata": {},
   "outputs": [],
   "source": [
    "model_fe = tf.keras.models.load_model(\"saved_models/model_fe\")"
   ]
  },
  {
   "cell_type": "code",
   "execution_count": 19,
   "metadata": {},
   "outputs": [
    {
     "data": {
      "image/png": "[encoded data removed]",
      "text/plain": [
       "<Figure size 432x288 with 1 Axes>"
      ]
     },
     "metadata": {
      "needs_background": "light"
     },
     "output_type": "display_data"
    }
   ],
   "source": [
    "plt.plot(hist1.history[\"accuracy\"], label=\"model1\")\n",
    "plt.plot(hist2.history[\"accuracy\"], label=\"model2\")\n",
    "plt.plot(hist_fe.history[\"accuracy\"][:30], label=\"model_fe\")\n",
    "plt.plot(hist_tl.history[\"accuracy\"],label=\"model_MN\")\n",
    "\n",
    "plt.xlabel(\"epochs\")\n",
    "plt.ylabel(\"accuracy\")\n",
    "plt.title(\"training accuracy\")\n",
    "plt.legend(bbox_to_anchor=(1.05, 1))\n",
    "plt.show()"
   ]
  },
  {
   "cell_type": "code",
   "execution_count": 20,
   "metadata": {},
   "outputs": [
    {
     "data": {
      "image/png": "[encoded data removed]",
      "text/plain": [
       "<Figure size 432x288 with 1 Axes>"
      ]
     },
     "metadata": {
      "needs_background": "light"
     },
     "output_type": "display_data"
    }
   ],
   "source": [
    "plt.plot(hist1.history[\"val_accuracy\"], label=\"model1_val\")\n",
    "plt.plot(hist2.history[\"val_accuracy\"], label=\"model2_val\")\n",
    "plt.plot(hist_fe.history[\"val_accuracy\"][:30], label=\"model_fe_val\")\n",
    "plt.plot(hist_tl.history[\"val_accuracy\"],label=\"model_MN\")\n",
    "\n",
    "plt.xlabel(\"epochs\")\n",
    "plt.ylabel(\"accuracy\")\n",
    "plt.title(\"Validation accuracy\")\n",
    "plt.legend(bbox_to_anchor=(1.05, 1))\n",
    "plt.show()"
   ]
  },
  {
   "cell_type": "code",
   "execution_count": 55,
   "metadata": {},
   "outputs": [
    {
     "data": {
      "image/png": "[encoded data removed]",
      "text/plain": [
       "<Figure size 432x288 with 1 Axes>"
      ]
     },
     "metadata": {
      "needs_background": "light"
     },
     "output_type": "display_data"
    }
   ],
   "source": [
    "# plt.plot(hist1.history[\"loss\"][10:], label=\"model1\")\n",
    "plt.plot(hist2.history[\"loss\"][10:], label=\"model2\")\n",
    "plt.plot(hist_fe.history[\"loss\"][10:], label=\"model_fe\")\n",
    "plt.plot(hist_tl.history[\"loss\"],label=\"model_MN\")\n",
    "\n",
    "# plt.plot(hist1.history[\"val_loss\"][10:], label=\"model1_val\")\n",
    "# plt.plot(hist2.history[\"val_loss\"][10:], label=\"model2_val\")\n",
    "# plt.plot(hist_fe.history[\"val_loss\"][10:], label=\"model_fe_val\")\n",
    "# plt.plot(hist_tl.history[\"val_loss\"],label=\"model_MN\")\n",
    "\n",
    "plt.xlabel(\"epochs\")\n",
    "plt.ylabel(\"loss\")\n",
    "plt.legend(bbox_to_anchor=(1.4, 1))\n",
    "plt.show()"
   ]
  },
  {
   "cell_type": "code",
   "execution_count": 93,
   "metadata": {},
   "outputs": [
    {
     "data": {
      "image/png": "[encoded data removed]",
      "text/plain": [
       "<Figure size 432x288 with 1 Axes>"
      ]
     },
     "metadata": {
      "needs_background": "light"
     },
     "output_type": "display_data"
    }
   ],
   "source": [
    "# plt.plot(hist1.history[\"loss\"], label=\"model1\")\n",
    "# plt.plot(hist2.history[\"loss\"], label=\"model2\")\n",
    "plt.plot(hist_fe.history[\"loss\"], label=\"model_fe\")\n",
    "plt.plot(hist_tl.history[\"loss\"][:50],label=\"model_MN\")\n",
    "\n",
    "# plt.plot(hist1.history[\"val_loss\"], label=\"model1_val\")\n",
    "# plt.plot(hist2.history[\"val_loss\"], label=\"model2_val\")\n",
    "plt.plot(hist_fe.history[\"val_loss\"], label=\"model_fe_val\")\n",
    "plt.plot(hist_tl.history[\"val_loss\"],label=\"model_MN\")\n",
    "\n",
    "plt.xlabel(\"epochs\")\n",
    "plt.ylabel(\"loss\")\n",
    "plt.legend(bbox_to_anchor=(1.4, 1))\n",
    "plt.show()"
   ]
  },
  {
   "cell_type": "markdown",
   "metadata": {},
   "source": [
    "Evaluate accuracy with test set"
   ]
  },
  {
   "cell_type": "code",
   "execution_count": 35,
   "metadata": {},
   "outputs": [
    {
     "name": "stdout",
     "output_type": "stream",
     "text": [
      "42/42 [==============================] - 24s 565ms/step - loss: 5.3392 - accuracy: 0.9795\n",
      "42/42 [==============================] - 52s 1s/step - loss: 0.3247 - accuracy: 0.9750\n"
     ]
    }
   ],
   "source": [
    "# loss1, acc1 = model1.evaluate(x_test, y_test)\n",
    "loss2, acc2 = model2.evaluate(x_train, y_train)\n",
    "# loss_fe, acc_fe = model_fe.evaluate(x_test, y_test)\n",
    "loss_tl, acc_tl = model_tl.evaluate(x_train, y_train)"
   ]
  },
  {
   "cell_type": "code",
   "execution_count": 33,
   "metadata": {},
   "outputs": [],
   "source": [
    "pred = model2.predict(x_train)\n",
    "labels = tf.argmax(pred, axis=1)\n",
    "cm = tf.math.confusion_matrix(labels, y_train)"
   ]
  },
  {
   "cell_type": "code",
   "execution_count": 34,
   "metadata": {},
   "outputs": [
    {
     "data": {
      "image/png": "[encoded data removed]",
      "text/plain": [
       "<Figure size 432x288 with 2 Axes>"
      ]
     },
     "metadata": {
      "needs_background": "light"
     },
     "output_type": "display_data"
    }
   ],
   "source": [
    "import seaborn as sns\n",
    "\n",
    "l = [\"noise\", \"shift\", \"droop\", \"offset\", \"no error\"]\n",
    "ax = sns.heatmap(cm, cmap=\"Blues\")\n",
    "ax.xaxis.set_ticklabels(l)\n",
    "ax.yaxis.set_ticklabels(l)\n",
    "plt.show()"
   ]
  },
  {
   "cell_type": "code",
   "execution_count": null,
   "metadata": {},
   "outputs": [],
   "source": []
  }
 ],
 "metadata": {
  "colab": {
   "collapsed_sections": [],
   "name": "NN with Transfer Learning",
   "provenance": []
  },
  "interpreter": {
   "hash": "8ed06d07b9ff369db6ed7b53447be18709da67cd911d838d72fee7fecb26667a"
  },
  "kernelspec": {
   "display_name": "gpu1",
   "language": "python",
   "name": "python3"
  },
  "language_info": {
   "codemirror_mode": {
    "name": "ipython",
    "version": 3
   },
   "file_extension": ".py",
   "mimetype": "text/x-python",
   "name": "python",
   "nbconvert_exporter": "python",
   "pygments_lexer": "ipython3",
   "version": "3.6.13"
  }
 },
 "nbformat": 4,
 "nbformat_minor": 1
}
