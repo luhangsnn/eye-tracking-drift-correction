{
 "cells": [
  {
   "cell_type": "code",
   "execution_count": 1,
   "metadata": {},
   "outputs": [],
   "source": [
    "# import torch\n",
    "import tensorflow as tf\n",
    "\n",
    "# if torch.cuda.is_available():\n",
    "#     device = torch.device('cuda')\n",
    "#     print('Using GPU')\n",
    "# else:\n",
    "#     device = torch.device('cpu')\n",
    "#     print('Using CPU')"
   ]
  },
  {
   "cell_type": "code",
   "execution_count": 2,
   "metadata": {},
   "outputs": [
    {
     "name": "stdout",
     "output_type": "stream",
     "text": [
      "Executing op _EagerConst in device /job:localhost/replica:0/task:0/device:GPU:0\n",
      "Executing op _EagerConst in device /job:localhost/replica:0/task:0/device:GPU:0\n",
      "Executing op MatMul in device /job:localhost/replica:0/task:0/device:GPU:0\n",
      "tf.Tensor(\n",
      "[[22. 28.]\n",
      " [49. 64.]], shape=(2, 2), dtype=float32)\n"
     ]
    }
   ],
   "source": [
    "# tf.debugging.set_log_device_placement(True)\n",
    "\n",
    "# Create some tensors\n",
    "a = tf.constant([[1.0, 2.0, 3.0], [4.0, 5.0, 6.0]])\n",
    "b = tf.constant([[1.0, 2.0], [3.0, 4.0], [5.0, 6.0]])\n",
    "c = tf.matmul(a, b)\n",
    "\n",
    "print(c)"
   ]
  },
  {
   "cell_type": "code",
   "execution_count": 6,
   "metadata": {},
   "outputs": [
    {
     "name": "stdout",
     "output_type": "stream",
     "text": [
      "using CPU\n",
      "11.900545120239258 verify device: cpu\n",
      "using GPU\n",
      "1.1484346389770508 verify device: cuda:0\n",
      "using GPU\n",
      "0.4637339115142822 verify device: cuda:0\n",
      "using GPU\n",
      "0.43489646911621094 verify device: cuda:0\n"
     ]
    }
   ],
   "source": [
    "import time\n",
    "matrix_size = 32*512\n",
    "\n",
    "x = torch.randn(matrix_size, matrix_size)\n",
    "y = torch.randn(matrix_size, matrix_size)\n",
    "\n",
    "print(\"using CPU\")\n",
    "start = time.time()\n",
    "result = torch.matmul(x, y)\n",
    "print(time.time() - start, \"verify device:\", result.device)\n",
    "\n",
    "x_gpu = x.to(device)\n",
    "y_gpu = y.to(device)\n",
    "torch.cuda.synchronize()\n",
    "\n",
    "for i in range(3):\n",
    "    print(\"using GPU\")\n",
    "    start = time.time()\n",
    "    result_gpu = torch.matmul(x_gpu, y_gpu)\n",
    "    torch.cuda.synchronize()\n",
    "    print(time.time() - start, \"verify device:\", result_gpu.device)"
   ]
  },
  {
   "cell_type": "code",
   "execution_count": 12,
   "metadata": {},
   "outputs": [],
   "source": [
    "# import tensorflow as tf\n",
    "import numpy as np\n",
    "import matplotlib.pyplot as plt\n",
    "import json"
   ]
  },
  {
   "cell_type": "code",
   "execution_count": 11,
   "metadata": {},
   "outputs": [
    {
     "name": "stdout",
     "output_type": "stream",
     "text": [
      "Num GPUs Available:  1\n"
     ]
    }
   ],
   "source": [
    "print(\"Num GPUs Available: \", len(tf.config.experimental.list_physical_devices('GPU')))"
   ]
  },
  {
   "cell_type": "code",
   "execution_count": 10,
   "metadata": {},
   "outputs": [],
   "source": [
    "os.environ['TF_FORCE_GPU_ALLOW_GROWTH'] = 'true'"
   ]
  },
  {
   "cell_type": "code",
   "execution_count": 5,
   "metadata": {},
   "outputs": [],
   "source": [
    "config = tf.compat.v1.ConfigProto()\n",
    "config.gpu_options.allow_growth = True\n",
    "sess = tf.compat.v1.Session(config=config)"
   ]
  },
  {
   "cell_type": "code",
   "execution_count": 13,
   "metadata": {},
   "outputs": [],
   "source": [
    "x_train = np.load(\"data/x_train.npy\")\n",
    "y_train = np.load(\"data/y_train.npy\")\n",
    "x_test = np.load(\"data/x_test.npy\")\n",
    "y_test = np.load(\"data/y_test.npy\")"
   ]
  },
  {
   "cell_type": "code",
   "execution_count": 14,
   "metadata": {},
   "outputs": [
    {
     "data": {
      "text/plain": [
       "(292, 608, 3)"
      ]
     },
     "execution_count": 14,
     "metadata": {},
     "output_type": "execute_result"
    }
   ],
   "source": [
    "input_shape = x_train.shape[1:]\n",
    "# shape1 = shape[0]\n",
    "# shape2 = shape[1]\n",
    "input_shape"
   ]
  },
  {
   "cell_type": "code",
   "execution_count": 15,
   "metadata": {},
   "outputs": [
    {
     "name": "stdout",
     "output_type": "stream",
     "text": [
      "WARNING:tensorflow:From C:\\Users\\PC\\miniconda3\\envs\\gpu1\\lib\\site-packages\\keras\\layers\\normalization\\batch_normalization.py:532: _colocate_with (from tensorflow.python.framework.ops) is deprecated and will be removed in a future version.\n",
      "Instructions for updating:\n",
      "Colocations handled automatically by placer.\n"
     ]
    }
   ],
   "source": [
    "# model Alizadeh and Fazel\n",
    "from keras.layers import Conv2D, Activation, BatchNormalization, MaxPooling2D, Dropout, Dense, Flatten\n",
    "from keras.models import Sequential\n",
    "\n",
    "model_fe = Sequential()\n",
    "\n",
    "model_fe.add(Conv2D(64, 3, padding='same', input_shape=input_shape))\n",
    "model_fe.add(BatchNormalization())\n",
    "model_fe.add(Activation('relu'))\n",
    "model_fe.add(MaxPooling2D(pool_size=2, strides=None, padding='same'))\n",
    "model_fe.add(Dropout(0.25))\n",
    "\n",
    "model_fe.add(Conv2D(128, 3, padding='same'))\n",
    "model_fe.add(BatchNormalization())\n",
    "model_fe.add(Activation('relu'))\n",
    "model_fe.add(MaxPooling2D(pool_size=2, strides=None, padding='same'))\n",
    "model_fe.add(Dropout(0.25))\n",
    "\n",
    "model_fe.add(Conv2D(256, 3, padding='same'))\n",
    "model_fe.add(BatchNormalization())\n",
    "model_fe.add(Activation('relu'))\n",
    "model_fe.add(MaxPooling2D(pool_size=2, strides=None, padding='same'))\n",
    "model_fe.add(Dropout(0.25))\n",
    "\n",
    "model_fe.add(Conv2D(512, 3, padding='same'))\n",
    "model_fe.add(BatchNormalization())\n",
    "model_fe.add(Activation('relu'))\n",
    "model_fe.add(MaxPooling2D(pool_size=2, strides=None, padding='same'))\n",
    "model_fe.add(Dropout(0.25))\n",
    "\n",
    "model_fe.add(Flatten())\n",
    "\n",
    "model_fe.add(Dense(512))\n",
    "model_fe.add(BatchNormalization())\n",
    "model_fe.add(Activation('relu'))\n",
    "model_fe.add(Dropout(0.25))\n",
    "\n",
    "model_fe.add(Dense(256))\n",
    "model_fe.add(BatchNormalization())\n",
    "model_fe.add(Activation('relu'))\n",
    "model_fe.add(Dropout(0.25))\n",
    "\n",
    "model_fe.add(Dense(5))\n",
    "model_fe.add(Activation('softmax'))"
   ]
  },
  {
   "cell_type": "code",
   "execution_count": 16,
   "metadata": {},
   "outputs": [
    {
     "ename": "AttributeError",
     "evalue": "'SparseCategoricalCrossentropy' object has no attribute '__name__'",
     "output_type": "error",
     "traceback": [
      "\u001b[1;31m---------------------------------------------------------------------------\u001b[0m",
      "\u001b[1;31mAttributeError\u001b[0m                            Traceback (most recent call last)",
      "\u001b[1;32mc:\\Users\\PC\\Desktop\\NN_with_Transfer_Learning\\test.ipynb Cell 11'\u001b[0m in \u001b[0;36m<cell line: 1>\u001b[1;34m()\u001b[0m\n\u001b[1;32m----> <a href='vscode-notebook-cell:/c%3A/Users/PC/Desktop/NN_with_Transfer_Learning/test.ipynb#ch0000009?line=0'>1</a>\u001b[0m model_fe\u001b[39m.\u001b[39;49mcompile(\n\u001b[0;32m      <a href='vscode-notebook-cell:/c%3A/Users/PC/Desktop/NN_with_Transfer_Learning/test.ipynb#ch0000009?line=1'>2</a>\u001b[0m     loss\u001b[39m=\u001b[39;49m\u001b[39m'\u001b[39;49m\u001b[39mSparseCategoricalCrossentropy\u001b[39;49m\u001b[39m'\u001b[39;49m, \n\u001b[0;32m      <a href='vscode-notebook-cell:/c%3A/Users/PC/Desktop/NN_with_Transfer_Learning/test.ipynb#ch0000009?line=2'>3</a>\u001b[0m     optimizer\u001b[39m=\u001b[39;49m\u001b[39m'\u001b[39;49m\u001b[39madam\u001b[39;49m\u001b[39m'\u001b[39;49m, \n\u001b[0;32m      <a href='vscode-notebook-cell:/c%3A/Users/PC/Desktop/NN_with_Transfer_Learning/test.ipynb#ch0000009?line=3'>4</a>\u001b[0m     metrics\u001b[39m=\u001b[39;49m[\u001b[39m'\u001b[39;49m\u001b[39maccuracy\u001b[39;49m\u001b[39m'\u001b[39;49m])\n\u001b[0;32m      <a href='vscode-notebook-cell:/c%3A/Users/PC/Desktop/NN_with_Transfer_Learning/test.ipynb#ch0000009?line=5'>6</a>\u001b[0m hist_fe \u001b[39m=\u001b[39m model_fe\u001b[39m.\u001b[39mfit(\n\u001b[0;32m      <a href='vscode-notebook-cell:/c%3A/Users/PC/Desktop/NN_with_Transfer_Learning/test.ipynb#ch0000009?line=6'>7</a>\u001b[0m     x_train, \n\u001b[0;32m      <a href='vscode-notebook-cell:/c%3A/Users/PC/Desktop/NN_with_Transfer_Learning/test.ipynb#ch0000009?line=7'>8</a>\u001b[0m     y_train,\n\u001b[1;32m   (...)\u001b[0m\n\u001b[0;32m     <a href='vscode-notebook-cell:/c%3A/Users/PC/Desktop/NN_with_Transfer_Learning/test.ipynb#ch0000009?line=10'>11</a>\u001b[0m     validation_data\u001b[39m=\u001b[39m(x_test, y_test)\n\u001b[0;32m     <a href='vscode-notebook-cell:/c%3A/Users/PC/Desktop/NN_with_Transfer_Learning/test.ipynb#ch0000009?line=11'>12</a>\u001b[0m     )\n",
      "File \u001b[1;32m~\\miniconda3\\envs\\gpu1\\lib\\site-packages\\tensorflow\\python\\training\\tracking\\base.py:629\u001b[0m, in \u001b[0;36mno_automatic_dependency_tracking.<locals>._method_wrapper\u001b[1;34m(self, *args, **kwargs)\u001b[0m\n\u001b[0;32m    <a href='file:///c%3A/Users/PC/miniconda3/envs/gpu1/lib/site-packages/tensorflow/python/training/tracking/base.py?line=626'>627</a>\u001b[0m \u001b[39mself\u001b[39m\u001b[39m.\u001b[39m_self_setattr_tracking \u001b[39m=\u001b[39m \u001b[39mFalse\u001b[39;00m  \u001b[39m# pylint: disable=protected-access\u001b[39;00m\n\u001b[0;32m    <a href='file:///c%3A/Users/PC/miniconda3/envs/gpu1/lib/site-packages/tensorflow/python/training/tracking/base.py?line=627'>628</a>\u001b[0m \u001b[39mtry\u001b[39;00m:\n\u001b[1;32m--> <a href='file:///c%3A/Users/PC/miniconda3/envs/gpu1/lib/site-packages/tensorflow/python/training/tracking/base.py?line=628'>629</a>\u001b[0m   result \u001b[39m=\u001b[39m method(\u001b[39mself\u001b[39m, \u001b[39m*\u001b[39margs, \u001b[39m*\u001b[39m\u001b[39m*\u001b[39mkwargs)\n\u001b[0;32m    <a href='file:///c%3A/Users/PC/miniconda3/envs/gpu1/lib/site-packages/tensorflow/python/training/tracking/base.py?line=629'>630</a>\u001b[0m \u001b[39mfinally\u001b[39;00m:\n\u001b[0;32m    <a href='file:///c%3A/Users/PC/miniconda3/envs/gpu1/lib/site-packages/tensorflow/python/training/tracking/base.py?line=630'>631</a>\u001b[0m   \u001b[39mself\u001b[39m\u001b[39m.\u001b[39m_self_setattr_tracking \u001b[39m=\u001b[39m previous_value  \u001b[39m# pylint: disable=protected-access\u001b[39;00m\n",
      "File \u001b[1;32m~\\miniconda3\\envs\\gpu1\\lib\\site-packages\\keras\\engine\\training_v1.py:404\u001b[0m, in \u001b[0;36mModel.compile\u001b[1;34m(self, optimizer, loss, metrics, loss_weights, sample_weight_mode, weighted_metrics, target_tensors, distribute, **kwargs)\u001b[0m\n\u001b[0;32m    <a href='file:///c%3A/Users/PC/miniconda3/envs/gpu1/lib/site-packages/keras/engine/training_v1.py?line=400'>401</a>\u001b[0m base_layer\u001b[39m.\u001b[39mkeras_api_gauge\u001b[39m.\u001b[39mget_cell(\u001b[39m'\u001b[39m\u001b[39mcompile\u001b[39m\u001b[39m'\u001b[39m)\u001b[39m.\u001b[39mset(\u001b[39mTrue\u001b[39;00m)\n\u001b[0;32m    <a href='file:///c%3A/Users/PC/miniconda3/envs/gpu1/lib/site-packages/keras/engine/training_v1.py?line=402'>403</a>\u001b[0m \u001b[39m# Prepare list of loss functions, same size of model outputs.\u001b[39;00m\n\u001b[1;32m--> <a href='file:///c%3A/Users/PC/miniconda3/envs/gpu1/lib/site-packages/keras/engine/training_v1.py?line=403'>404</a>\u001b[0m \u001b[39mself\u001b[39m\u001b[39m.\u001b[39mloss_functions \u001b[39m=\u001b[39m training_utils_v1\u001b[39m.\u001b[39;49mprepare_loss_functions(\n\u001b[0;32m    <a href='file:///c%3A/Users/PC/miniconda3/envs/gpu1/lib/site-packages/keras/engine/training_v1.py?line=404'>405</a>\u001b[0m     \u001b[39mself\u001b[39;49m\u001b[39m.\u001b[39;49mloss, \u001b[39mself\u001b[39;49m\u001b[39m.\u001b[39;49moutput_names)\n\u001b[0;32m    <a href='file:///c%3A/Users/PC/miniconda3/envs/gpu1/lib/site-packages/keras/engine/training_v1.py?line=406'>407</a>\u001b[0m target_tensors \u001b[39m=\u001b[39m \u001b[39mself\u001b[39m\u001b[39m.\u001b[39m_process_target_tensor_for_compile(target_tensors)\n\u001b[0;32m    <a href='file:///c%3A/Users/PC/miniconda3/envs/gpu1/lib/site-packages/keras/engine/training_v1.py?line=408'>409</a>\u001b[0m \u001b[39mfor\u001b[39;00m o, n, l, t \u001b[39min\u001b[39;00m \u001b[39mzip\u001b[39m(\u001b[39mself\u001b[39m\u001b[39m.\u001b[39moutputs, \u001b[39mself\u001b[39m\u001b[39m.\u001b[39moutput_names,\n\u001b[0;32m    <a href='file:///c%3A/Users/PC/miniconda3/envs/gpu1/lib/site-packages/keras/engine/training_v1.py?line=409'>410</a>\u001b[0m                       \u001b[39mself\u001b[39m\u001b[39m.\u001b[39mloss_functions, target_tensors):\n",
      "File \u001b[1;32m~\\miniconda3\\envs\\gpu1\\lib\\site-packages\\keras\\engine\\training_utils_v1.py:1469\u001b[0m, in \u001b[0;36mprepare_loss_functions\u001b[1;34m(loss, output_names)\u001b[0m\n\u001b[0;32m   <a href='file:///c%3A/Users/PC/miniconda3/envs/gpu1/lib/site-packages/keras/engine/training_utils_v1.py?line=1466'>1467</a>\u001b[0m     loss_functions\u001b[39m.\u001b[39mappend(get_loss_function(loss\u001b[39m.\u001b[39mget(name, \u001b[39mNone\u001b[39;00m)))\n\u001b[0;32m   <a href='file:///c%3A/Users/PC/miniconda3/envs/gpu1/lib/site-packages/keras/engine/training_utils_v1.py?line=1467'>1468</a>\u001b[0m \u001b[39melif\u001b[39;00m \u001b[39misinstance\u001b[39m(loss, \u001b[39mstr\u001b[39m):\n\u001b[1;32m-> <a href='file:///c%3A/Users/PC/miniconda3/envs/gpu1/lib/site-packages/keras/engine/training_utils_v1.py?line=1468'>1469</a>\u001b[0m   loss_functions \u001b[39m=\u001b[39m [get_loss_function(loss) \u001b[39mfor\u001b[39;00m _ \u001b[39min\u001b[39;00m output_names]\n\u001b[0;32m   <a href='file:///c%3A/Users/PC/miniconda3/envs/gpu1/lib/site-packages/keras/engine/training_utils_v1.py?line=1469'>1470</a>\u001b[0m \u001b[39melif\u001b[39;00m \u001b[39misinstance\u001b[39m(loss, collections\u001b[39m.\u001b[39mabc\u001b[39m.\u001b[39mSequence):\n\u001b[0;32m   <a href='file:///c%3A/Users/PC/miniconda3/envs/gpu1/lib/site-packages/keras/engine/training_utils_v1.py?line=1470'>1471</a>\u001b[0m   \u001b[39mif\u001b[39;00m \u001b[39mlen\u001b[39m(loss) \u001b[39m!=\u001b[39m \u001b[39mlen\u001b[39m(output_names):\n",
      "File \u001b[1;32m~\\miniconda3\\envs\\gpu1\\lib\\site-packages\\keras\\engine\\training_utils_v1.py:1469\u001b[0m, in \u001b[0;36m<listcomp>\u001b[1;34m(.0)\u001b[0m\n\u001b[0;32m   <a href='file:///c%3A/Users/PC/miniconda3/envs/gpu1/lib/site-packages/keras/engine/training_utils_v1.py?line=1466'>1467</a>\u001b[0m     loss_functions\u001b[39m.\u001b[39mappend(get_loss_function(loss\u001b[39m.\u001b[39mget(name, \u001b[39mNone\u001b[39;00m)))\n\u001b[0;32m   <a href='file:///c%3A/Users/PC/miniconda3/envs/gpu1/lib/site-packages/keras/engine/training_utils_v1.py?line=1467'>1468</a>\u001b[0m \u001b[39melif\u001b[39;00m \u001b[39misinstance\u001b[39m(loss, \u001b[39mstr\u001b[39m):\n\u001b[1;32m-> <a href='file:///c%3A/Users/PC/miniconda3/envs/gpu1/lib/site-packages/keras/engine/training_utils_v1.py?line=1468'>1469</a>\u001b[0m   loss_functions \u001b[39m=\u001b[39m [get_loss_function(loss) \u001b[39mfor\u001b[39;00m _ \u001b[39min\u001b[39;00m output_names]\n\u001b[0;32m   <a href='file:///c%3A/Users/PC/miniconda3/envs/gpu1/lib/site-packages/keras/engine/training_utils_v1.py?line=1469'>1470</a>\u001b[0m \u001b[39melif\u001b[39;00m \u001b[39misinstance\u001b[39m(loss, collections\u001b[39m.\u001b[39mabc\u001b[39m.\u001b[39mSequence):\n\u001b[0;32m   <a href='file:///c%3A/Users/PC/miniconda3/envs/gpu1/lib/site-packages/keras/engine/training_utils_v1.py?line=1470'>1471</a>\u001b[0m   \u001b[39mif\u001b[39;00m \u001b[39mlen\u001b[39m(loss) \u001b[39m!=\u001b[39m \u001b[39mlen\u001b[39m(output_names):\n",
      "File \u001b[1;32m~\\miniconda3\\envs\\gpu1\\lib\\site-packages\\keras\\engine\\training_utils_v1.py:1210\u001b[0m, in \u001b[0;36mget_loss_function\u001b[1;34m(loss)\u001b[0m\n\u001b[0;32m   <a href='file:///c%3A/Users/PC/miniconda3/envs/gpu1/lib/site-packages/keras/engine/training_utils_v1.py?line=1202'>1203</a>\u001b[0m loss_fn \u001b[39m=\u001b[39m losses\u001b[39m.\u001b[39mget(loss)\n\u001b[0;32m   <a href='file:///c%3A/Users/PC/miniconda3/envs/gpu1/lib/site-packages/keras/engine/training_utils_v1.py?line=1204'>1205</a>\u001b[0m \u001b[39m# For losses which are given as strings/functions in the compile API,\u001b[39;00m\n\u001b[0;32m   <a href='file:///c%3A/Users/PC/miniconda3/envs/gpu1/lib/site-packages/keras/engine/training_utils_v1.py?line=1205'>1206</a>\u001b[0m \u001b[39m# we always set the loss reduction type to be `SUM_OVER_BATCH_SIZE`\u001b[39;00m\n\u001b[0;32m   <a href='file:///c%3A/Users/PC/miniconda3/envs/gpu1/lib/site-packages/keras/engine/training_utils_v1.py?line=1206'>1207</a>\u001b[0m \u001b[39m# (both in distribution strategy context and otherwise).\u001b[39;00m\n\u001b[0;32m   <a href='file:///c%3A/Users/PC/miniconda3/envs/gpu1/lib/site-packages/keras/engine/training_utils_v1.py?line=1207'>1208</a>\u001b[0m \u001b[39mreturn\u001b[39;00m losses\u001b[39m.\u001b[39mLossFunctionWrapper(\n\u001b[0;32m   <a href='file:///c%3A/Users/PC/miniconda3/envs/gpu1/lib/site-packages/keras/engine/training_utils_v1.py?line=1208'>1209</a>\u001b[0m     loss_fn,\n\u001b[1;32m-> <a href='file:///c%3A/Users/PC/miniconda3/envs/gpu1/lib/site-packages/keras/engine/training_utils_v1.py?line=1209'>1210</a>\u001b[0m     name\u001b[39m=\u001b[39mloss_fn\u001b[39m.\u001b[39;49m\u001b[39m__name__\u001b[39;49m,\n\u001b[0;32m   <a href='file:///c%3A/Users/PC/miniconda3/envs/gpu1/lib/site-packages/keras/engine/training_utils_v1.py?line=1210'>1211</a>\u001b[0m     reduction\u001b[39m=\u001b[39mlosses_utils\u001b[39m.\u001b[39mReductionV2\u001b[39m.\u001b[39mSUM_OVER_BATCH_SIZE)\n",
      "\u001b[1;31mAttributeError\u001b[0m: 'SparseCategoricalCrossentropy' object has no attribute '__name__'"
     ]
    }
   ],
   "source": [
    "model_fe.compile(\n",
    "    loss='SparseCategoricalCrossentropy', \n",
    "    optimizer='adam', \n",
    "    metrics=['accuracy'])\n",
    "\n",
    "hist_fe = model_fe.fit(\n",
    "    x_train, \n",
    "    y_train,\n",
    "    epochs=50,\n",
    "    batch_size=30,\n",
    "    validation_data=(x_test, y_test)\n",
    "    )"
   ]
  },
  {
   "cell_type": "code",
   "execution_count": 9,
   "metadata": {},
   "outputs": [],
   "source": [
    "import keras\n",
    "import tensorflow as tf\n",
    "\n",
    "config = tf.compat.v1.ConfigProto()\n",
    "config.gpu_options.per_process_gpu_memory_fraction = 0.9  # 0.6 sometimes works better for folks\n",
    "tf.compat.v1.keras.backend.set_session(tf.compat.v1.Session(config=config))"
   ]
  }
 ],
 "metadata": {
  "interpreter": {
   "hash": "8ed06d07b9ff369db6ed7b53447be18709da67cd911d838d72fee7fecb26667a"
  },
  "kernelspec": {
   "display_name": "gpu1",
   "language": "python",
   "name": "gpu1"
  },
  "language_info": {
   "codemirror_mode": {
    "name": "ipython",
    "version": 3
   },
   "file_extension": ".py",
   "mimetype": "text/x-python",
   "name": "python",
   "nbconvert_exporter": "python",
   "pygments_lexer": "ipython3",
   "version": "3.10.3"
  },
  "orig_nbformat": 4
 },
 "nbformat": 4,
 "nbformat_minor": 2
}
