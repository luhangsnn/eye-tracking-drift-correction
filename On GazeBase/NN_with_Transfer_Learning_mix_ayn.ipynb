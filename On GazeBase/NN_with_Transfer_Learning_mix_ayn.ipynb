{
 "cells": [
  {
   "cell_type": "code",
   "execution_count": 1,
   "metadata": {
    "id": "WaM1QbRxoPsO"
   },
   "outputs": [],
   "source": [
    "import numpy as np\n",
    "import tensorflow as tf\n",
    "import matplotlib.pyplot as plt\n",
    "import json"
   ]
  },
  {
   "cell_type": "code",
   "execution_count": 2,
   "metadata": {
    "id": "jgFw5-5cnxGB"
   },
   "outputs": [],
   "source": [
    "x_train = np.load(\"data/x_train_mix_ayn.npy\")\n",
    "y_train = np.load(\"data/y_train_mix_ayn.npy\")\n",
    "x_test = np.load(\"data/x_test_mix_ayn.npy\")\n",
    "y_test = np.load(\"data/y_test_mix_ayn.npy\")"
   ]
  },
  {
   "cell_type": "code",
   "execution_count": 3,
   "metadata": {
    "colab": {
     "base_uri": "https://localhost:8080/"
    },
    "id": "WWjRHpKcRZ6G",
    "outputId": "815b1bdd-2d61-4a8c-b955-cbcfe9cbf4aa"
   },
   "outputs": [
    {
     "data": {
      "text/plain": [
       "(520, 299, 3)"
      ]
     },
     "execution_count": 3,
     "metadata": {},
     "output_type": "execute_result"
    }
   ],
   "source": [
    "input_shape = x_train.shape[1:]\n",
    "input_shape"
   ]
  },
  {
   "cell_type": "code",
   "execution_count": 4,
   "metadata": {
    "colab": {
     "base_uri": "https://localhost:8080/"
    },
    "id": "h6AXUPh8Q_tp",
    "outputId": "9c86320d-7b9d-45ec-8de9-5f2466dbdf70"
   },
   "outputs": [
    {
     "name": "stdout",
     "output_type": "stream",
     "text": [
      "Model: \"sequential\"\n",
      "_________________________________________________________________\n",
      " Layer (type)                Output Shape              Param #   \n",
      "=================================================================\n",
      " flatten (Flatten)           (None, 466440)            0         \n",
      "                                                                 \n",
      " dense (Dense)               (None, 128)               59704448  \n",
      "                                                                 \n",
      " dense_1 (Dense)             (None, 5)                 645       \n",
      "                                                                 \n",
      "=================================================================\n",
      "Total params: 59,705,093\n",
      "Trainable params: 59,705,093\n",
      "Non-trainable params: 0\n",
      "_________________________________________________________________\n"
     ]
    }
   ],
   "source": [
    "model1 = tf.keras.models.Sequential([\n",
    "  tf.keras.layers.Flatten(input_shape=input_shape),\n",
    "    tf.keras.layers.Dense(units=128, activation='relu'),\n",
    "  tf.keras.layers.Dense(5, activation='softmax'),\n",
    "])\n",
    "model1.summary()\n"
   ]
  },
  {
   "cell_type": "code",
   "execution_count": 5,
   "metadata": {
    "colab": {
     "base_uri": "https://localhost:8080/"
    },
    "id": "6gND5lkZRfpj",
    "outputId": "a292d5e7-f52e-40c0-cde1-ec61ad978c27"
   },
   "outputs": [
    {
     "name": "stdout",
     "output_type": "stream",
     "text": [
      "Epoch 1/15\n",
      "37/37 [==============================] - 7s 193ms/step - loss: 35252.4492 - accuracy: 0.2745 - val_loss: 1566.4131 - val_accuracy: 0.4320\n",
      "Epoch 2/15\n",
      "37/37 [==============================] - 7s 191ms/step - loss: 723.8839 - accuracy: 0.5909 - val_loss: 454.6229 - val_accuracy: 0.5240\n",
      "Epoch 3/15\n",
      "37/37 [==============================] - 7s 189ms/step - loss: 461.5472 - accuracy: 0.6364 - val_loss: 2054.9414 - val_accuracy: 0.2980\n",
      "Epoch 4/15\n",
      "37/37 [==============================] - 7s 189ms/step - loss: 496.4818 - accuracy: 0.6745 - val_loss: 542.5231 - val_accuracy: 0.6000\n",
      "Epoch 5/15\n",
      "37/37 [==============================] - 7s 190ms/step - loss: 171.0309 - accuracy: 0.8191 - val_loss: 565.8165 - val_accuracy: 0.6980\n",
      "Epoch 6/15\n",
      "37/37 [==============================] - 7s 188ms/step - loss: 59.0499 - accuracy: 0.8945 - val_loss: 313.2107 - val_accuracy: 0.6740\n",
      "Epoch 7/15\n",
      "37/37 [==============================] - 7s 196ms/step - loss: 142.7260 - accuracy: 0.8264 - val_loss: 167.7685 - val_accuracy: 0.8140\n",
      "Epoch 8/15\n",
      "37/37 [==============================] - 7s 194ms/step - loss: 60.7674 - accuracy: 0.8818 - val_loss: 231.7685 - val_accuracy: 0.7720\n",
      "Epoch 9/15\n",
      "37/37 [==============================] - 7s 189ms/step - loss: 391.1448 - accuracy: 0.8282 - val_loss: 483.9943 - val_accuracy: 0.6380\n",
      "Epoch 10/15\n",
      "37/37 [==============================] - 7s 191ms/step - loss: 601.4417 - accuracy: 0.4236 - val_loss: 1.6086 - val_accuracy: 0.1540\n",
      "Epoch 11/15\n",
      "37/37 [==============================] - 7s 189ms/step - loss: 1.6096 - accuracy: 0.1991 - val_loss: 1.6085 - val_accuracy: 0.1540\n",
      "Epoch 12/15\n",
      "37/37 [==============================] - 7s 187ms/step - loss: 1.6096 - accuracy: 0.1936 - val_loss: 1.6084 - val_accuracy: 0.1540\n",
      "Epoch 13/15\n",
      "37/37 [==============================] - 7s 188ms/step - loss: 1.6096 - accuracy: 0.1918 - val_loss: 1.6082 - val_accuracy: 0.1740\n",
      "Epoch 14/15\n",
      "37/37 [==============================] - 7s 193ms/step - loss: 1.6096 - accuracy: 0.1900 - val_loss: 1.6080 - val_accuracy: 0.1540\n",
      "Epoch 15/15\n",
      "37/37 [==============================] - 7s 189ms/step - loss: 1.6095 - accuracy: 0.1855 - val_loss: 1.6079 - val_accuracy: 0.1540\n"
     ]
    }
   ],
   "source": [
    "model1.compile(optimizer='adam', loss='SparseCategoricalCrossentropy', metrics=['accuracy'])\n",
    "hist1 = model1.fit(\n",
    "    x_train, \n",
    "    y_train,\n",
    "    epochs=15,\n",
    "    batch_size=30,\n",
    "    validation_data=(x_test, y_test))"
   ]
  },
  {
   "cell_type": "code",
   "execution_count": 6,
   "metadata": {},
   "outputs": [],
   "source": [
    "model2 = tf.keras.models.Sequential([\n",
    "    tf.keras.layers.Conv2D(filters=64, kernel_size=3, activation='relu', input_shape=input_shape),\n",
    "    tf.keras.layers.MaxPooling2D(pool_size=2),\n",
    "    tf.keras.layers.Dropout(0.2),\n",
    "    tf.keras.layers.Flatten(),\n",
    "    tf.keras.layers.Dense(units=128, activation='relu'),\n",
    "    tf.keras.layers.Dense(units=5, activation='softmax')\n",
    "])\n",
    "model2.compile(\n",
    "    optimizer='adam',\n",
    "    loss ='SparseCategoricalCrossentropy', \n",
    "    metrics=['accuracy'])"
   ]
  },
  {
   "cell_type": "code",
   "execution_count": 7,
   "metadata": {},
   "outputs": [
    {
     "name": "stdout",
     "output_type": "stream",
     "text": [
      "Epoch 1/30\n",
      "37/37 [==============================] - 98s 3s/step - loss: 15298.4326 - accuracy: 0.3636 - val_loss: 583.8379 - val_accuracy: 0.5820\n",
      "Epoch 2/30\n",
      "37/37 [==============================] - 97s 3s/step - loss: 142.0053 - accuracy: 0.7927 - val_loss: 111.0900 - val_accuracy: 0.7200\n",
      "Epoch 3/30\n",
      "37/37 [==============================] - 93s 3s/step - loss: 13.1461 - accuracy: 0.9409 - val_loss: 91.8336 - val_accuracy: 0.7280\n",
      "Epoch 4/30\n",
      "37/37 [==============================] - 95s 3s/step - loss: 2.3032 - accuracy: 0.9818 - val_loss: 76.5867 - val_accuracy: 0.7660\n",
      "Epoch 5/30\n",
      "37/37 [==============================] - 94s 3s/step - loss: 0.9003 - accuracy: 0.9891 - val_loss: 78.1263 - val_accuracy: 0.7560\n",
      "Epoch 6/30\n",
      "37/37 [==============================] - 93s 3s/step - loss: 1.6606 - accuracy: 0.9845 - val_loss: 117.4575 - val_accuracy: 0.7700\n",
      "Epoch 7/30\n",
      "37/37 [==============================] - 93s 3s/step - loss: 1.7466 - accuracy: 0.9882 - val_loss: 89.7348 - val_accuracy: 0.7380\n",
      "Epoch 8/30\n",
      "37/37 [==============================] - 93s 3s/step - loss: 0.1424 - accuracy: 0.9973 - val_loss: 75.9440 - val_accuracy: 0.7460\n",
      "Epoch 9/30\n",
      "37/37 [==============================] - 93s 3s/step - loss: 0.1043 - accuracy: 0.9982 - val_loss: 72.6877 - val_accuracy: 0.7620\n",
      "Epoch 10/30\n",
      "37/37 [==============================] - 95s 3s/step - loss: 0.0735 - accuracy: 0.9982 - val_loss: 71.9526 - val_accuracy: 0.7760\n",
      "Epoch 11/30\n",
      "37/37 [==============================] - 94s 3s/step - loss: 2.6377 - accuracy: 0.9836 - val_loss: 79.5834 - val_accuracy: 0.7580\n",
      "Epoch 12/30\n",
      "37/37 [==============================] - 94s 3s/step - loss: 0.5345 - accuracy: 0.9955 - val_loss: 73.4249 - val_accuracy: 0.7860\n",
      "Epoch 13/30\n",
      "37/37 [==============================] - 94s 3s/step - loss: 0.2782 - accuracy: 0.9964 - val_loss: 93.4805 - val_accuracy: 0.7220\n",
      "Epoch 14/30\n",
      "37/37 [==============================] - 94s 3s/step - loss: 0.0842 - accuracy: 0.9982 - val_loss: 77.4983 - val_accuracy: 0.7720\n",
      "Epoch 15/30\n",
      "37/37 [==============================] - 94s 3s/step - loss: 0.2266 - accuracy: 0.9982 - val_loss: 84.4763 - val_accuracy: 0.7540\n",
      "Epoch 16/30\n",
      "37/37 [==============================] - 94s 3s/step - loss: 0.1965 - accuracy: 0.9973 - val_loss: 76.9330 - val_accuracy: 0.7860\n",
      "Epoch 17/30\n",
      "37/37 [==============================] - 94s 3s/step - loss: 0.1095 - accuracy: 0.9991 - val_loss: 76.2796 - val_accuracy: 0.7900\n",
      "Epoch 18/30\n",
      "37/37 [==============================] - 92s 2s/step - loss: 0.0000e+00 - accuracy: 1.0000 - val_loss: 84.7138 - val_accuracy: 0.7740\n",
      "Epoch 19/30\n",
      "37/37 [==============================] - 91s 2s/step - loss: 3.9301e-05 - accuracy: 1.0000 - val_loss: 83.3839 - val_accuracy: 0.7700\n",
      "Epoch 20/30\n",
      "37/37 [==============================] - 92s 2s/step - loss: 0.0000e+00 - accuracy: 1.0000 - val_loss: 83.3345 - val_accuracy: 0.7700\n",
      "Epoch 21/30\n",
      "37/37 [==============================] - 92s 3s/step - loss: 0.0000e+00 - accuracy: 1.0000 - val_loss: 83.3335 - val_accuracy: 0.7700\n",
      "Epoch 22/30\n",
      "37/37 [==============================] - 94s 3s/step - loss: 0.0000e+00 - accuracy: 1.0000 - val_loss: 83.3335 - val_accuracy: 0.7700\n",
      "Epoch 23/30\n",
      "37/37 [==============================] - 93s 3s/step - loss: 0.0000e+00 - accuracy: 1.0000 - val_loss: 83.3335 - val_accuracy: 0.7700\n",
      "Epoch 24/30\n",
      "37/37 [==============================] - 92s 3s/step - loss: 0.0000e+00 - accuracy: 1.0000 - val_loss: 83.3335 - val_accuracy: 0.7700\n",
      "Epoch 25/30\n",
      "37/37 [==============================] - 92s 3s/step - loss: 0.0000e+00 - accuracy: 1.0000 - val_loss: 83.3335 - val_accuracy: 0.7700\n",
      "Epoch 26/30\n",
      "37/37 [==============================] - 92s 2s/step - loss: 0.0000e+00 - accuracy: 1.0000 - val_loss: 83.3335 - val_accuracy: 0.7700\n",
      "Epoch 27/30\n",
      "37/37 [==============================] - 92s 2s/step - loss: 0.0000e+00 - accuracy: 1.0000 - val_loss: 83.3335 - val_accuracy: 0.7700\n",
      "Epoch 28/30\n",
      "37/37 [==============================] - 93s 3s/step - loss: 0.0000e+00 - accuracy: 1.0000 - val_loss: 83.3335 - val_accuracy: 0.7700\n",
      "Epoch 29/30\n",
      "37/37 [==============================] - 92s 2s/step - loss: 0.0000e+00 - accuracy: 1.0000 - val_loss: 83.3335 - val_accuracy: 0.7700\n",
      "Epoch 30/30\n",
      "37/37 [==============================] - 90s 2s/step - loss: 0.0000e+00 - accuracy: 1.0000 - val_loss: 83.3335 - val_accuracy: 0.7700\n"
     ]
    }
   ],
   "source": [
    "hist2 = model2.fit(\n",
    "    x_train, \n",
    "    y_train,    \n",
    "    epochs=30,\n",
    "    batch_size=30,\n",
    "    validation_data=(x_test, y_test))"
   ]
  },
  {
   "cell_type": "code",
   "execution_count": 8,
   "metadata": {},
   "outputs": [],
   "source": [
    "model2.save(\"saved_models/model2.h5\")\n",
    "with open('saved_models/history2.json', 'w') as handle: # saving the history of the model\n",
    "    json.dump(hist2.history, handle)"
   ]
  },
  {
   "cell_type": "markdown",
   "metadata": {},
   "source": [
    "Transfer Learning"
   ]
  },
  {
   "cell_type": "code",
   "execution_count": 9,
   "metadata": {},
   "outputs": [
    {
     "name": "stdout",
     "output_type": "stream",
     "text": [
      "WARNING:tensorflow:`input_shape` is undefined or non-square, or `rows` is not in [96, 128, 160, 192, 224]. Weights for input shape (224, 224) will be loaded as the default.\n",
      "Model: \"sequential_2\"\n",
      "_________________________________________________________________\n",
      " Layer (type)                Output Shape              Param #   \n",
      "=================================================================\n",
      " mobilenetv2_1.00_224 (Funct  (None, 17, 10, 1280)     2257984   \n",
      " ional)                                                          \n",
      "                                                                 \n",
      " dropout_1 (Dropout)         (None, 17, 10, 1280)      0         \n",
      "                                                                 \n",
      " flatten_2 (Flatten)         (None, 217600)            0         \n",
      "                                                                 \n",
      " dense_4 (Dense)             (None, 5)                 1088005   \n",
      "                                                                 \n",
      "=================================================================\n",
      "Total params: 3,345,989\n",
      "Trainable params: 1,088,005\n",
      "Non-trainable params: 2,257,984\n",
      "_________________________________________________________________\n"
     ]
    }
   ],
   "source": [
    "model = tf.keras.applications.MobileNetV2(\n",
    "    input_shape=input_shape, \n",
    "    include_top=False, \n",
    "    weights='imagenet')\n",
    "model.trainable = False\n",
    "\n",
    "model_tl = tf.keras.Sequential(\n",
    "    [\n",
    "        tf.keras.Input(shape=input_shape),\n",
    "        model,\n",
    "        tf.keras.layers.Dropout(0.1),\n",
    "        tf.keras.layers.Flatten(),\n",
    "        tf.keras.layers.Dense(units=5, activation='softmax')\n",
    "    ]\n",
    ")\n",
    "model_tl.summary()"
   ]
  },
  {
   "cell_type": "code",
   "execution_count": 10,
   "metadata": {},
   "outputs": [
    {
     "name": "stdout",
     "output_type": "stream",
     "text": [
      "Epoch 1/30\n",
      "37/37 [==============================] - 57s 2s/step - loss: 20.2859 - accuracy: 0.4700 - val_loss: 1.7220 - val_accuracy: 0.7900\n",
      "Epoch 2/30\n",
      "37/37 [==============================] - 55s 1s/step - loss: 1.6838 - accuracy: 0.8436 - val_loss: 3.6826 - val_accuracy: 0.6680\n",
      "Epoch 3/30\n",
      "37/37 [==============================] - 55s 1s/step - loss: 0.6421 - accuracy: 0.9100 - val_loss: 2.3621 - val_accuracy: 0.8300\n",
      "Epoch 4/30\n",
      "37/37 [==============================] - 55s 1s/step - loss: 0.4388 - accuracy: 0.9364 - val_loss: 2.9143 - val_accuracy: 0.7300\n",
      "Epoch 5/30\n",
      "37/37 [==============================] - 55s 1s/step - loss: 0.1799 - accuracy: 0.9682 - val_loss: 2.4695 - val_accuracy: 0.7480\n",
      "Epoch 6/30\n",
      "37/37 [==============================] - 55s 1s/step - loss: 0.1020 - accuracy: 0.9827 - val_loss: 1.7535 - val_accuracy: 0.8120\n",
      "Epoch 7/30\n",
      "37/37 [==============================] - 55s 1s/step - loss: 0.0571 - accuracy: 0.9845 - val_loss: 1.6286 - val_accuracy: 0.8240\n",
      "Epoch 8/30\n",
      "37/37 [==============================] - 55s 1s/step - loss: 0.8552 - accuracy: 0.9145 - val_loss: 3.4748 - val_accuracy: 0.7340\n",
      "Epoch 9/30\n",
      "37/37 [==============================] - 55s 1s/step - loss: 0.2483 - accuracy: 0.9645 - val_loss: 5.6743 - val_accuracy: 0.6760\n",
      "Epoch 10/30\n",
      "37/37 [==============================] - 55s 1s/step - loss: 0.4074 - accuracy: 0.9545 - val_loss: 4.1356 - val_accuracy: 0.7380\n",
      "Epoch 11/30\n",
      "37/37 [==============================] - 55s 1s/step - loss: 0.0398 - accuracy: 0.9891 - val_loss: 2.8785 - val_accuracy: 0.8200\n",
      "Epoch 12/30\n",
      "37/37 [==============================] - 55s 1s/step - loss: 0.2005 - accuracy: 0.9673 - val_loss: 2.4009 - val_accuracy: 0.8080\n",
      "Epoch 13/30\n",
      "37/37 [==============================] - 55s 1s/step - loss: 0.1098 - accuracy: 0.9773 - val_loss: 2.9436 - val_accuracy: 0.8280\n",
      "Epoch 14/30\n",
      "37/37 [==============================] - 55s 1s/step - loss: 0.1265 - accuracy: 0.9818 - val_loss: 3.9928 - val_accuracy: 0.7140\n",
      "Epoch 15/30\n",
      "37/37 [==============================] - 55s 1s/step - loss: 0.0482 - accuracy: 0.9900 - val_loss: 2.5105 - val_accuracy: 0.8180\n",
      "Epoch 16/30\n",
      "37/37 [==============================] - 55s 1s/step - loss: 0.2177 - accuracy: 0.9673 - val_loss: 2.4934 - val_accuracy: 0.7960\n",
      "Epoch 17/30\n",
      "37/37 [==============================] - 55s 1s/step - loss: 0.0669 - accuracy: 0.9909 - val_loss: 5.0509 - val_accuracy: 0.6980\n",
      "Epoch 18/30\n",
      "37/37 [==============================] - 55s 1s/step - loss: 0.0587 - accuracy: 0.9955 - val_loss: 2.7795 - val_accuracy: 0.7860\n",
      "Epoch 19/30\n",
      "37/37 [==============================] - 55s 1s/step - loss: 0.0104 - accuracy: 0.9955 - val_loss: 2.5668 - val_accuracy: 0.8320\n",
      "Epoch 20/30\n",
      "37/37 [==============================] - 55s 1s/step - loss: 0.0391 - accuracy: 0.9955 - val_loss: 3.2314 - val_accuracy: 0.8140\n",
      "Epoch 21/30\n",
      "37/37 [==============================] - 55s 1s/step - loss: 0.0044 - accuracy: 0.9991 - val_loss: 3.2064 - val_accuracy: 0.8220\n",
      "Epoch 22/30\n",
      "37/37 [==============================] - 55s 1s/step - loss: 0.0160 - accuracy: 0.9982 - val_loss: 2.9863 - val_accuracy: 0.8280\n",
      "Epoch 23/30\n",
      "37/37 [==============================] - 55s 1s/step - loss: 0.2115 - accuracy: 0.9800 - val_loss: 3.1420 - val_accuracy: 0.8260\n",
      "Epoch 24/30\n",
      "37/37 [==============================] - 55s 1s/step - loss: 0.0574 - accuracy: 0.9936 - val_loss: 4.2193 - val_accuracy: 0.7360\n",
      "Epoch 25/30\n",
      "37/37 [==============================] - 55s 1s/step - loss: 0.0164 - accuracy: 0.9973 - val_loss: 5.2629 - val_accuracy: 0.7080\n",
      "Epoch 26/30\n",
      "37/37 [==============================] - 55s 1s/step - loss: 0.0048 - accuracy: 0.9973 - val_loss: 2.6887 - val_accuracy: 0.8120\n",
      "Epoch 27/30\n",
      "37/37 [==============================] - 55s 1s/step - loss: 4.3407e-05 - accuracy: 1.0000 - val_loss: 3.1097 - val_accuracy: 0.7940\n",
      "Epoch 28/30\n",
      "37/37 [==============================] - 55s 1s/step - loss: 2.8792e-05 - accuracy: 1.0000 - val_loss: 2.9688 - val_accuracy: 0.7960\n",
      "Epoch 29/30\n",
      "37/37 [==============================] - 55s 1s/step - loss: 1.8466e-05 - accuracy: 1.0000 - val_loss: 2.8918 - val_accuracy: 0.8040\n",
      "Epoch 30/30\n",
      "37/37 [==============================] - 55s 1s/step - loss: 7.4453e-07 - accuracy: 1.0000 - val_loss: 2.8762 - val_accuracy: 0.8040\n"
     ]
    }
   ],
   "source": [
    "model_tl.compile(tf.keras.optimizers.Adam(),\n",
    "                 loss='SparseCategoricalCrossentropy',\n",
    "                 metrics=['accuracy'])\n",
    "hist_tl = model_tl.fit(\n",
    "    x_train, \n",
    "    y_train, \n",
    "    epochs=30, \n",
    "    batch_size=30, \n",
    "    validation_data=(x_test, y_test))"
   ]
  },
  {
   "cell_type": "code",
   "execution_count": 11,
   "metadata": {},
   "outputs": [],
   "source": [
    "model_tl.save(\"saved_models/model_tl.h5\")\n",
    "with open('saved_models/history_tl.json', 'w') as handle: # saving the history of the model\n",
    "    json.dump(hist_tl.history, handle)"
   ]
  },
  {
   "cell_type": "markdown",
   "metadata": {},
   "source": [
    "### Visualizations"
   ]
  },
  {
   "cell_type": "code",
   "execution_count": 12,
   "metadata": {},
   "outputs": [
    {
     "data": {
      "image/png": "[encoded data removed]",
      "text/plain": [
       "<Figure size 432x288 with 1 Axes>"
      ]
     },
     "metadata": {
      "needs_background": "light"
     },
     "output_type": "display_data"
    }
   ],
   "source": [
    "plt.plot(hist1.history[\"accuracy\"], label=\"model1\")\n",
    "plt.plot(hist2.history[\"accuracy\"], label=\"model2\")\n",
    "plt.plot(hist_tl.history[\"accuracy\"],label=\"model_MN\")\n",
    "\n",
    "plt.xlabel(\"epochs\")\n",
    "plt.ylabel(\"accuracy\")\n",
    "plt.title(\"training accuracy\")\n",
    "plt.legend(bbox_to_anchor=(1.05, 1))\n",
    "plt.show()"
   ]
  },
  {
   "cell_type": "code",
   "execution_count": 13,
   "metadata": {},
   "outputs": [
    {
     "data": {
      "image/png": "[encoded data removed]",
      "text/plain": [
       "<Figure size 432x288 with 1 Axes>"
      ]
     },
     "metadata": {
      "needs_background": "light"
     },
     "output_type": "display_data"
    }
   ],
   "source": [
    "plt.plot(hist1.history[\"val_accuracy\"], label=\"model1_val\")\n",
    "plt.plot(hist2.history[\"val_accuracy\"], label=\"model2_val\")\n",
    "plt.plot(hist_tl.history[\"val_accuracy\"],label=\"model_MN\")\n",
    "\n",
    "plt.xlabel(\"epochs\")\n",
    "plt.ylabel(\"accuracy\")\n",
    "plt.title(\"Validation accuracy\")\n",
    "plt.legend(bbox_to_anchor=(1.05, 1))\n",
    "plt.show()"
   ]
  },
  {
   "cell_type": "code",
   "execution_count": 14,
   "metadata": {},
   "outputs": [
    {
     "data": {
      "image/png": "[encoded data removed]",
      "text/plain": [
       "<Figure size 432x288 with 1 Axes>"
      ]
     },
     "metadata": {
      "needs_background": "light"
     },
     "output_type": "display_data"
    }
   ],
   "source": [
    "plt.plot(hist1.history[\"loss\"][5:], label=\"model1\")\n",
    "plt.plot(hist2.history[\"loss\"][5:], label=\"model2\")\n",
    "plt.plot(hist_tl.history[\"loss\"][5:],label=\"model_MN\")\n",
    "\n",
    "# plt.plot(hist1.history[\"val_loss\"][10:], label=\"model1_val\")\n",
    "# plt.plot(hist2.history[\"val_loss\"][10:], label=\"model2_val\")\n",
    "# plt.plot(hist_fe.history[\"val_loss\"][10:], label=\"model_fe_val\")\n",
    "# plt.plot(hist_tl.history[\"val_loss\"],label=\"model_MN\")\n",
    "\n",
    "plt.xlabel(\"epochs\")\n",
    "plt.ylabel(\"loss\")\n",
    "plt.legend(bbox_to_anchor=(1.4, 1))\n",
    "plt.show()"
   ]
  },
  {
   "cell_type": "markdown",
   "metadata": {},
   "source": [
    "Evaluate accuracy with test set"
   ]
  },
  {
   "cell_type": "code",
   "execution_count": 15,
   "metadata": {},
   "outputs": [
    {
     "name": "stdout",
     "output_type": "stream",
     "text": [
      "16/16 [==============================] - 8s 472ms/step - loss: 83.3335 - accuracy: 0.7700\n",
      "16/16 [==============================] - 17s 1s/step - loss: 2.8762 - accuracy: 0.8040\n"
     ]
    }
   ],
   "source": [
    "# loss1, acc1 = model1.evaluate(x_test, y_test)\n",
    "loss2, acc2 = model2.evaluate(x_test, y_test)\n",
    "loss_tl, acc_tl = model_tl.evaluate(x_test, y_test)"
   ]
  },
  {
   "cell_type": "code",
   "execution_count": 16,
   "metadata": {},
   "outputs": [],
   "source": [
    "pred = model_tl.predict(x_test)\n",
    "labels = tf.argmax(pred, axis=1)\n",
    "cm = tf.math.confusion_matrix(labels, y_test)"
   ]
  },
  {
   "cell_type": "code",
   "execution_count": 17,
   "metadata": {},
   "outputs": [
    {
     "data": {
      "image/png": "[encoded data removed]",
      "text/plain": [
       "<Figure size 432x288 with 2 Axes>"
      ]
     },
     "metadata": {
      "needs_background": "light"
     },
     "output_type": "display_data"
    }
   ],
   "source": [
    "import seaborn as sns\n",
    "\n",
    "l = [\"noise\", \"shift\", \"droop\", \"offset\", \"no error\"]\n",
    "ax = sns.heatmap(cm, cmap=\"Blues\")\n",
    "ax.xaxis.set_ticklabels(l)\n",
    "ax.yaxis.set_ticklabels(l)\n",
    "plt.show()"
   ]
  }
 ],
 "metadata": {
  "colab": {
   "collapsed_sections": [],
   "name": "NN with Transfer Learning",
   "provenance": []
  },
  "interpreter": {
   "hash": "8ed06d07b9ff369db6ed7b53447be18709da67cd911d838d72fee7fecb26667a"
  },
  "kernelspec": {
   "display_name": "gpu1",
   "language": "python",
   "name": "python3"
  },
  "language_info": {
   "codemirror_mode": {
    "name": "ipython",
    "version": 3
   },
   "file_extension": ".py",
   "mimetype": "text/x-python",
   "name": "python",
   "nbconvert_exporter": "python",
   "pygments_lexer": "ipython3",
   "version": "3.9.12"
  }
 },
 "nbformat": 4,
 "nbformat_minor": 1
}
