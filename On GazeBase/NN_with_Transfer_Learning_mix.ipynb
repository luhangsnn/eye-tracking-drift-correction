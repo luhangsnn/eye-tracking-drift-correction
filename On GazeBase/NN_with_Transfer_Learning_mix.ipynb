{
 "cells": [
  {
   "cell_type": "code",
   "execution_count": 1,
   "metadata": {
    "id": "WaM1QbRxoPsO"
   },
   "outputs": [],
   "source": [
    "import numpy as np\n",
    "import tensorflow as tf\n",
    "import matplotlib.pyplot as plt\n",
    "import json"
   ]
  },
  {
   "cell_type": "code",
   "execution_count": 2,
   "metadata": {},
   "outputs": [
    {
     "name": "stdout",
     "output_type": "stream",
     "text": [
      "Num GPUs Available:  1\n"
     ]
    }
   ],
   "source": [
    "print(\"Num GPUs Available: \", len(tf.config.experimental.list_physical_devices('GPU')))"
   ]
  },
  {
   "cell_type": "code",
   "execution_count": 3,
   "metadata": {
    "id": "jgFw5-5cnxGB"
   },
   "outputs": [],
   "source": [
    "x_train = np.load(\"data/x_train_mix.npy\")\n",
    "y_train = np.load(\"data/y_train_mix.npy\")\n",
    "x_test = np.load(\"data/x_test_mix.npy\")\n",
    "y_test = np.load(\"data/y_test_mix.npy\")"
   ]
  },
  {
   "cell_type": "code",
   "execution_count": 4,
   "metadata": {
    "colab": {
     "base_uri": "https://localhost:8080/"
    },
    "id": "WWjRHpKcRZ6G",
    "outputId": "815b1bdd-2d61-4a8c-b955-cbcfe9cbf4aa"
   },
   "outputs": [
    {
     "data": {
      "text/plain": [
       "(292, 608, 3)"
      ]
     },
     "execution_count": 4,
     "metadata": {},
     "output_type": "execute_result"
    }
   ],
   "source": [
    "input_shape = x_train.shape[1:]\n",
    "input_shape"
   ]
  },
  {
   "cell_type": "code",
   "execution_count": 5,
   "metadata": {
    "colab": {
     "base_uri": "https://localhost:8080/"
    },
    "id": "h6AXUPh8Q_tp",
    "outputId": "9c86320d-7b9d-45ec-8de9-5f2466dbdf70"
   },
   "outputs": [
    {
     "name": "stdout",
     "output_type": "stream",
     "text": [
      "Model: \"sequential\"\n",
      "_________________________________________________________________\n",
      " Layer (type)                Output Shape              Param #   \n",
      "=================================================================\n",
      " flatten (Flatten)           (None, 532608)            0         \n",
      "                                                                 \n",
      " dense (Dense)               (None, 128)               68173952  \n",
      "                                                                 \n",
      " dense_1 (Dense)             (None, 5)                 645       \n",
      "                                                                 \n",
      "=================================================================\n",
      "Total params: 68,174,597\n",
      "Trainable params: 68,174,597\n",
      "Non-trainable params: 0\n",
      "_________________________________________________________________\n"
     ]
    }
   ],
   "source": [
    "model1 = tf.keras.models.Sequential([\n",
    "  tf.keras.layers.Flatten(input_shape=input_shape),\n",
    "    tf.keras.layers.Dense(units=128, activation='relu'),\n",
    "  tf.keras.layers.Dense(5, activation='softmax'),\n",
    "])\n",
    "model1.summary()\n"
   ]
  },
  {
   "cell_type": "code",
   "execution_count": 6,
   "metadata": {
    "colab": {
     "base_uri": "https://localhost:8080/"
    },
    "id": "6gND5lkZRfpj",
    "outputId": "a292d5e7-f52e-40c0-cde1-ec61ad978c27"
   },
   "outputs": [
    {
     "name": "stdout",
     "output_type": "stream",
     "text": [
      "Epoch 1/30\n",
      "37/37 [==============================] - 8s 219ms/step - loss: 59882.4492 - accuracy: 0.2336 - val_loss: 16875.0215 - val_accuracy: 0.4920\n",
      "Epoch 2/30\n",
      "37/37 [==============================] - 8s 215ms/step - loss: 8369.0547 - accuracy: 0.3091 - val_loss: 2967.5664 - val_accuracy: 0.1820\n",
      "Epoch 3/30\n",
      "37/37 [==============================] - 8s 223ms/step - loss: 1130.6643 - accuracy: 0.5618 - val_loss: 590.5430 - val_accuracy: 0.5580\n",
      "Epoch 4/30\n",
      "37/37 [==============================] - 8s 219ms/step - loss: 1451.7761 - accuracy: 0.5355 - val_loss: 521.3890 - val_accuracy: 0.6220\n",
      "Epoch 5/30\n",
      "37/37 [==============================] - 8s 219ms/step - loss: 1799.7690 - accuracy: 0.5045 - val_loss: 4341.5684 - val_accuracy: 0.4960\n",
      "Epoch 6/30\n",
      "37/37 [==============================] - 8s 219ms/step - loss: 1919.0366 - accuracy: 0.4600 - val_loss: 1.6060 - val_accuracy: 0.1820\n",
      "Epoch 7/30\n",
      "37/37 [==============================] - 8s 217ms/step - loss: 1.6095 - accuracy: 0.1982 - val_loss: 1.6056 - val_accuracy: 0.1820\n",
      "Epoch 8/30\n",
      "37/37 [==============================] - 8s 217ms/step - loss: 1.6095 - accuracy: 0.1982 - val_loss: 1.6057 - val_accuracy: 0.1820\n",
      "Epoch 9/30\n",
      "37/37 [==============================] - 8s 218ms/step - loss: 1.6095 - accuracy: 0.1982 - val_loss: 1.6054 - val_accuracy: 0.1820\n",
      "Epoch 10/30\n",
      "37/37 [==============================] - 8s 218ms/step - loss: 1.6095 - accuracy: 0.1982 - val_loss: 1.6053 - val_accuracy: 0.1820\n",
      "Epoch 11/30\n",
      "37/37 [==============================] - 8s 218ms/step - loss: 1.6095 - accuracy: 0.1982 - val_loss: 1.6051 - val_accuracy: 0.1820\n",
      "Epoch 12/30\n",
      "37/37 [==============================] - 8s 217ms/step - loss: 1.6095 - accuracy: 0.1982 - val_loss: 1.6052 - val_accuracy: 0.1820\n",
      "Epoch 13/30\n",
      "37/37 [==============================] - 8s 217ms/step - loss: 1.6094 - accuracy: 0.1982 - val_loss: 1.6046 - val_accuracy: 0.1820\n",
      "Epoch 14/30\n",
      "37/37 [==============================] - 8s 217ms/step - loss: 1.6094 - accuracy: 0.1982 - val_loss: 1.6047 - val_accuracy: 0.1820\n",
      "Epoch 15/30\n",
      "37/37 [==============================] - 8s 216ms/step - loss: 1.6094 - accuracy: 0.2073 - val_loss: 1.6042 - val_accuracy: 0.3560\n",
      "Epoch 16/30\n",
      "37/37 [==============================] - 8s 217ms/step - loss: 1.6094 - accuracy: 0.2073 - val_loss: 1.6039 - val_accuracy: 0.3560\n",
      "Epoch 17/30\n",
      "37/37 [==============================] - 8s 217ms/step - loss: 1.6094 - accuracy: 0.2073 - val_loss: 1.6036 - val_accuracy: 0.3560\n",
      "Epoch 18/30\n",
      "37/37 [==============================] - 8s 217ms/step - loss: 1.6094 - accuracy: 0.2073 - val_loss: 1.6035 - val_accuracy: 0.3560\n",
      "Epoch 19/30\n",
      "37/37 [==============================] - 8s 217ms/step - loss: 1.6094 - accuracy: 0.2073 - val_loss: 1.6036 - val_accuracy: 0.3560\n",
      "Epoch 20/30\n",
      "37/37 [==============================] - 8s 218ms/step - loss: 1.6094 - accuracy: 0.2073 - val_loss: 1.6033 - val_accuracy: 0.3560\n",
      "Epoch 21/30\n",
      "37/37 [==============================] - 8s 218ms/step - loss: 1.6094 - accuracy: 0.2073 - val_loss: 1.6027 - val_accuracy: 0.3560\n",
      "Epoch 22/30\n",
      "37/37 [==============================] - 8s 217ms/step - loss: 1.6094 - accuracy: 0.2073 - val_loss: 1.6029 - val_accuracy: 0.3560\n",
      "Epoch 23/30\n",
      "37/37 [==============================] - 8s 217ms/step - loss: 1.6094 - accuracy: 0.2073 - val_loss: 1.6024 - val_accuracy: 0.3560\n",
      "Epoch 24/30\n",
      "37/37 [==============================] - 8s 218ms/step - loss: 1.6094 - accuracy: 0.2073 - val_loss: 1.6024 - val_accuracy: 0.3560\n",
      "Epoch 25/30\n",
      "37/37 [==============================] - 8s 217ms/step - loss: 1.6094 - accuracy: 0.2073 - val_loss: 1.6018 - val_accuracy: 0.3560\n",
      "Epoch 26/30\n",
      "37/37 [==============================] - 8s 217ms/step - loss: 1.6093 - accuracy: 0.2073 - val_loss: 1.6018 - val_accuracy: 0.3560\n",
      "Epoch 27/30\n",
      "37/37 [==============================] - 8s 218ms/step - loss: 1.6093 - accuracy: 0.2073 - val_loss: 1.6020 - val_accuracy: 0.3560\n",
      "Epoch 28/30\n",
      "37/37 [==============================] - 8s 217ms/step - loss: 1.6094 - accuracy: 0.2073 - val_loss: 1.6014 - val_accuracy: 0.3560\n",
      "Epoch 29/30\n",
      "37/37 [==============================] - 8s 217ms/step - loss: 1.6094 - accuracy: 0.2073 - val_loss: 1.6013 - val_accuracy: 0.3560\n",
      "Epoch 30/30\n",
      "37/37 [==============================] - 8s 216ms/step - loss: 1.6093 - accuracy: 0.2073 - val_loss: 1.6014 - val_accuracy: 0.3560\n"
     ]
    }
   ],
   "source": [
    "model1.compile(optimizer='adam', loss='SparseCategoricalCrossentropy', metrics=['accuracy'])\n",
    "hist1 = model1.fit(\n",
    "    x_train, \n",
    "    y_train,\n",
    "    epochs=30,\n",
    "    batch_size=30,\n",
    "    validation_data=(x_test, y_test))"
   ]
  },
  {
   "cell_type": "code",
   "execution_count": 7,
   "metadata": {},
   "outputs": [],
   "source": [
    "model2 = tf.keras.models.Sequential([\n",
    "    tf.keras.layers.Conv2D(filters=64, kernel_size=3, activation='relu', input_shape=input_shape),\n",
    "    tf.keras.layers.MaxPooling2D(pool_size=2),\n",
    "    tf.keras.layers.Flatten(),\n",
    "    tf.keras.layers.Dense(units=128, activation='relu'),\n",
    "    tf.keras.layers.Dense(units=5, activation='softmax')\n",
    "])\n",
    "model2.compile(\n",
    "    optimizer='adam',\n",
    "    loss ='SparseCategoricalCrossentropy', \n",
    "    metrics=['accuracy'])"
   ]
  },
  {
   "cell_type": "code",
   "execution_count": 8,
   "metadata": {},
   "outputs": [
    {
     "name": "stdout",
     "output_type": "stream",
     "text": [
      "Epoch 1/30\n",
      "37/37 [==============================] - 101s 3s/step - loss: 23195.2695 - accuracy: 0.2945 - val_loss: 31.8118 - val_accuracy: 0.8480\n",
      "Epoch 2/30\n",
      "37/37 [==============================] - 100s 3s/step - loss: 38.9594 - accuracy: 0.8073 - val_loss: 33.3146 - val_accuracy: 0.8200\n",
      "Epoch 3/30\n",
      "37/37 [==============================] - 101s 3s/step - loss: 9.1954 - accuracy: 0.9136 - val_loss: 16.4861 - val_accuracy: 0.8960\n",
      "Epoch 4/30\n",
      "37/37 [==============================] - 100s 3s/step - loss: 4.6989 - accuracy: 0.9464 - val_loss: 23.9237 - val_accuracy: 0.8320\n",
      "Epoch 5/30\n",
      "37/37 [==============================] - 100s 3s/step - loss: 1.5179 - accuracy: 0.9736 - val_loss: 12.0965 - val_accuracy: 0.9080\n",
      "Epoch 6/30\n",
      "37/37 [==============================] - 101s 3s/step - loss: 1.3469 - accuracy: 0.9782 - val_loss: 9.6018 - val_accuracy: 0.9220\n",
      "Epoch 7/30\n",
      "37/37 [==============================] - 100s 3s/step - loss: 2.0249 - accuracy: 0.9636 - val_loss: 36.4758 - val_accuracy: 0.7360\n",
      "Epoch 8/30\n",
      "37/37 [==============================] - 100s 3s/step - loss: 0.5881 - accuracy: 0.9855 - val_loss: 19.2463 - val_accuracy: 0.8760\n",
      "Epoch 9/30\n",
      "37/37 [==============================] - 101s 3s/step - loss: 0.6226 - accuracy: 0.9891 - val_loss: 12.6655 - val_accuracy: 0.9180\n",
      "Epoch 10/30\n",
      "37/37 [==============================] - 99s 3s/step - loss: 0.1442 - accuracy: 0.9964 - val_loss: 17.0103 - val_accuracy: 0.8920\n",
      "Epoch 11/30\n",
      "37/37 [==============================] - 98s 3s/step - loss: 0.0370 - accuracy: 0.9973 - val_loss: 14.7619 - val_accuracy: 0.9140\n",
      "Epoch 12/30\n",
      "37/37 [==============================] - 96s 3s/step - loss: 0.1577 - accuracy: 0.9936 - val_loss: 16.4667 - val_accuracy: 0.8880\n",
      "Epoch 13/30\n",
      "37/37 [==============================] - 96s 3s/step - loss: 0.0603 - accuracy: 0.9973 - val_loss: 16.9695 - val_accuracy: 0.8980\n",
      "Epoch 14/30\n",
      "37/37 [==============================] - 96s 3s/step - loss: 0.0783 - accuracy: 0.9982 - val_loss: 14.4411 - val_accuracy: 0.9120\n",
      "Epoch 15/30\n",
      "37/37 [==============================] - 98s 3s/step - loss: 0.0262 - accuracy: 0.9991 - val_loss: 19.9370 - val_accuracy: 0.8740\n",
      "Epoch 16/30\n",
      "37/37 [==============================] - 100s 3s/step - loss: 0.0549 - accuracy: 0.9982 - val_loss: 14.4017 - val_accuracy: 0.9100\n",
      "Epoch 17/30\n",
      "37/37 [==============================] - 100s 3s/step - loss: 0.1964 - accuracy: 0.9936 - val_loss: 25.0008 - val_accuracy: 0.8360\n",
      "Epoch 18/30\n",
      "37/37 [==============================] - 100s 3s/step - loss: 2.3548 - accuracy: 0.9700 - val_loss: 13.8625 - val_accuracy: 0.9120\n",
      "Epoch 19/30\n",
      "37/37 [==============================] - 100s 3s/step - loss: 2.7410 - accuracy: 0.9764 - val_loss: 25.5255 - val_accuracy: 0.9000\n",
      "Epoch 20/30\n",
      "37/37 [==============================] - 100s 3s/step - loss: 6.0553 - accuracy: 0.9464 - val_loss: 21.9723 - val_accuracy: 0.8980\n",
      "Epoch 21/30\n",
      "37/37 [==============================] - 100s 3s/step - loss: 0.5171 - accuracy: 0.9918 - val_loss: 48.0799 - val_accuracy: 0.7760\n",
      "Epoch 22/30\n",
      "37/37 [==============================] - 100s 3s/step - loss: 0.7000 - accuracy: 0.9918 - val_loss: 27.1721 - val_accuracy: 0.8600\n",
      "Epoch 23/30\n",
      "37/37 [==============================] - 100s 3s/step - loss: 0.1940 - accuracy: 0.9973 - val_loss: 20.5044 - val_accuracy: 0.8880\n",
      "Epoch 24/30\n",
      "37/37 [==============================] - 100s 3s/step - loss: 1.1475 - accuracy: 0.9864 - val_loss: 41.3550 - val_accuracy: 0.8000\n",
      "Epoch 25/30\n",
      "37/37 [==============================] - 100s 3s/step - loss: 1.0255 - accuracy: 0.9909 - val_loss: 18.2154 - val_accuracy: 0.8940\n",
      "Epoch 26/30\n",
      "37/37 [==============================] - 100s 3s/step - loss: 0.5316 - accuracy: 0.9900 - val_loss: 17.6046 - val_accuracy: 0.8980\n",
      "Epoch 27/30\n",
      "37/37 [==============================] - 98s 3s/step - loss: 0.0991 - accuracy: 0.9964 - val_loss: 26.7163 - val_accuracy: 0.9040\n",
      "Epoch 28/30\n",
      "37/37 [==============================] - 97s 3s/step - loss: 0.2075 - accuracy: 0.9982 - val_loss: 23.0093 - val_accuracy: 0.9040\n",
      "Epoch 29/30\n",
      "37/37 [==============================] - 98s 3s/step - loss: 0.0255 - accuracy: 0.9991 - val_loss: 27.6668 - val_accuracy: 0.8600\n",
      "Epoch 30/30\n",
      "37/37 [==============================] - 100s 3s/step - loss: 0.1081 - accuracy: 0.9982 - val_loss: 22.3358 - val_accuracy: 0.8920\n"
     ]
    }
   ],
   "source": [
    "hist2 = model2.fit(\n",
    "    x_train, \n",
    "    y_train,    \n",
    "    epochs=30,\n",
    "    batch_size=30,\n",
    "    validation_data=(x_test, y_test))"
   ]
  },
  {
   "cell_type": "code",
   "execution_count": 12,
   "metadata": {},
   "outputs": [
    {
     "name": "stdout",
     "output_type": "stream",
     "text": [
      "INFO:tensorflow:Assets written to: saved_models_mix/model2\\assets\n"
     ]
    },
    {
     "name": "stderr",
     "output_type": "stream",
     "text": [
      "INFO:tensorflow:Assets written to: saved_models_mix/model2\\assets\n"
     ]
    }
   ],
   "source": [
    "model2.save(\"saved_models_mix/model2\")\n",
    "with open('saved_models_mix/history2.json', 'w') as handle: # saving the history of the model\n",
    "    json.dump(hist2.history, handle)\n",
    "\n",
    "\n",
    "\n",
    "\n",
    "\n",
    "    "
   ]
  },
  {
   "cell_type": "markdown",
   "metadata": {},
   "source": [
    "Transfer Learning"
   ]
  },
  {
   "cell_type": "code",
   "execution_count": 9,
   "metadata": {},
   "outputs": [
    {
     "name": "stdout",
     "output_type": "stream",
     "text": [
      "WARNING:tensorflow:`input_shape` is undefined or non-square, or `rows` is not in [96, 128, 160, 192, 224]. Weights for input shape (224, 224) will be loaded as the default.\n",
      "Model: \"sequential_2\"\n",
      "_________________________________________________________________\n",
      " Layer (type)                Output Shape              Param #   \n",
      "=================================================================\n",
      " mobilenetv2_1.00_224 (Funct  (None, 10, 19, 1280)     2257984   \n",
      " ional)                                                          \n",
      "                                                                 \n",
      " flatten_2 (Flatten)         (None, 243200)            0         \n",
      "                                                                 \n",
      " dense_4 (Dense)             (None, 5)                 1216005   \n",
      "                                                                 \n",
      "=================================================================\n",
      "Total params: 3,473,989\n",
      "Trainable params: 1,216,005\n",
      "Non-trainable params: 2,257,984\n",
      "_________________________________________________________________\n"
     ]
    }
   ],
   "source": [
    "model = tf.keras.applications.MobileNetV2(input_shape=input_shape, include_top=False, weights='imagenet')\n",
    "model.trainable = False\n",
    "\n",
    "# adding the top classification layer\n",
    "model_tl = tf.keras.Sequential(\n",
    "    [\n",
    "        model,\n",
    "        tf.keras.layers.Flatten(),\n",
    "        tf.keras.layers.Dense(units=5, activation='softmax')\n",
    "    ]\n",
    ")\n",
    "model_tl.summary()"
   ]
  },
  {
   "cell_type": "code",
   "execution_count": 10,
   "metadata": {},
   "outputs": [
    {
     "name": "stdout",
     "output_type": "stream",
     "text": [
      "Epoch 1/30\n",
      "37/37 [==============================] - 65s 2s/step - loss: 14.5471 - accuracy: 0.5145 - val_loss: 2.8692 - val_accuracy: 0.7300\n",
      "Epoch 2/30\n",
      "37/37 [==============================] - 63s 2s/step - loss: 3.1793 - accuracy: 0.7627 - val_loss: 2.1290 - val_accuracy: 0.8780\n",
      "Epoch 3/30\n",
      "37/37 [==============================] - 63s 2s/step - loss: 1.3912 - accuracy: 0.8518 - val_loss: 2.4161 - val_accuracy: 0.7580\n",
      "Epoch 4/30\n",
      "37/37 [==============================] - 63s 2s/step - loss: 0.5006 - accuracy: 0.9091 - val_loss: 1.7272 - val_accuracy: 0.8020\n",
      "Epoch 5/30\n",
      "37/37 [==============================] - 63s 2s/step - loss: 0.2573 - accuracy: 0.9400 - val_loss: 1.5373 - val_accuracy: 0.8280\n",
      "Epoch 6/30\n",
      "37/37 [==============================] - 63s 2s/step - loss: 0.2629 - accuracy: 0.9536 - val_loss: 1.6056 - val_accuracy: 0.8140\n",
      "Epoch 7/30\n",
      "37/37 [==============================] - 63s 2s/step - loss: 0.0462 - accuracy: 0.9827 - val_loss: 1.2855 - val_accuracy: 0.8380\n",
      "Epoch 8/30\n",
      "37/37 [==============================] - 63s 2s/step - loss: 0.0649 - accuracy: 0.9791 - val_loss: 1.5747 - val_accuracy: 0.8020\n",
      "Epoch 9/30\n",
      "37/37 [==============================] - 62s 2s/step - loss: 0.0438 - accuracy: 0.9873 - val_loss: 1.3152 - val_accuracy: 0.8420\n",
      "Epoch 10/30\n",
      "37/37 [==============================] - 62s 2s/step - loss: 0.0216 - accuracy: 0.9927 - val_loss: 1.2226 - val_accuracy: 0.8520\n",
      "Epoch 11/30\n",
      "37/37 [==============================] - 62s 2s/step - loss: 0.0550 - accuracy: 0.9836 - val_loss: 1.1697 - val_accuracy: 0.8580\n",
      "Epoch 12/30\n",
      "37/37 [==============================] - 62s 2s/step - loss: 0.1656 - accuracy: 0.9573 - val_loss: 0.9277 - val_accuracy: 0.9040\n",
      "Epoch 13/30\n",
      "37/37 [==============================] - 62s 2s/step - loss: 0.0389 - accuracy: 0.9891 - val_loss: 2.2187 - val_accuracy: 0.7540\n",
      "Epoch 14/30\n",
      "37/37 [==============================] - 62s 2s/step - loss: 0.0211 - accuracy: 0.9918 - val_loss: 1.0416 - val_accuracy: 0.8840\n",
      "Epoch 15/30\n",
      "37/37 [==============================] - 62s 2s/step - loss: 0.0698 - accuracy: 0.9764 - val_loss: 2.0028 - val_accuracy: 0.7820\n",
      "Epoch 16/30\n",
      "37/37 [==============================] - 62s 2s/step - loss: 0.2105 - accuracy: 0.9555 - val_loss: 1.4188 - val_accuracy: 0.8500\n",
      "Epoch 17/30\n",
      "37/37 [==============================] - 62s 2s/step - loss: 0.4035 - accuracy: 0.9364 - val_loss: 1.6502 - val_accuracy: 0.8220\n",
      "Epoch 18/30\n",
      "37/37 [==============================] - 62s 2s/step - loss: 0.1593 - accuracy: 0.9691 - val_loss: 4.2484 - val_accuracy: 0.6720\n",
      "Epoch 19/30\n",
      "37/37 [==============================] - 62s 2s/step - loss: 0.2102 - accuracy: 0.9627 - val_loss: 2.1855 - val_accuracy: 0.7940\n",
      "Epoch 20/30\n",
      "37/37 [==============================] - 62s 2s/step - loss: 0.8765 - accuracy: 0.9118 - val_loss: 5.1118 - val_accuracy: 0.6760\n",
      "Epoch 21/30\n",
      "37/37 [==============================] - 62s 2s/step - loss: 1.0640 - accuracy: 0.9073 - val_loss: 7.6494 - val_accuracy: 0.6400\n",
      "Epoch 22/30\n",
      "37/37 [==============================] - 62s 2s/step - loss: 0.3706 - accuracy: 0.9473 - val_loss: 3.7113 - val_accuracy: 0.7600\n",
      "Epoch 23/30\n",
      "37/37 [==============================] - 62s 2s/step - loss: 0.1808 - accuracy: 0.9655 - val_loss: 2.4465 - val_accuracy: 0.8420\n",
      "Epoch 24/30\n",
      "37/37 [==============================] - 62s 2s/step - loss: 0.1178 - accuracy: 0.9818 - val_loss: 2.7343 - val_accuracy: 0.8240\n",
      "Epoch 25/30\n",
      "37/37 [==============================] - 62s 2s/step - loss: 0.0429 - accuracy: 0.9891 - val_loss: 3.3457 - val_accuracy: 0.7840\n",
      "Epoch 26/30\n",
      "37/37 [==============================] - 62s 2s/step - loss: 9.2117e-04 - accuracy: 1.0000 - val_loss: 2.2326 - val_accuracy: 0.8640\n",
      "Epoch 27/30\n",
      "37/37 [==============================] - 62s 2s/step - loss: 2.2121e-05 - accuracy: 1.0000 - val_loss: 2.1350 - val_accuracy: 0.8660\n",
      "Epoch 28/30\n",
      "37/37 [==============================] - 62s 2s/step - loss: 1.3134e-05 - accuracy: 1.0000 - val_loss: 2.1617 - val_accuracy: 0.8660\n",
      "Epoch 29/30\n",
      "37/37 [==============================] - 62s 2s/step - loss: 6.5231e-06 - accuracy: 1.0000 - val_loss: 2.1737 - val_accuracy: 0.8660\n",
      "Epoch 30/30\n",
      "37/37 [==============================] - 62s 2s/step - loss: 4.8805e-06 - accuracy: 1.0000 - val_loss: 2.1872 - val_accuracy: 0.8640\n"
     ]
    }
   ],
   "source": [
    "model_tl.compile(optimizer=\"adam\",\n",
    "                 loss='SparseCategoricalCrossentropy',\n",
    "                 metrics=['accuracy'])\n",
    "hist_tl = model_tl.fit(\n",
    "    x_train, \n",
    "    y_train, \n",
    "    epochs=30, \n",
    "    batch_size=30, \n",
    "    validation_data=(x_test, y_test))"
   ]
  },
  {
   "cell_type": "code",
   "execution_count": 11,
   "metadata": {},
   "outputs": [
    {
     "name": "stderr",
     "output_type": "stream",
     "text": [
      "WARNING:absl:Function `_wrapped_model` contains input name(s) mobilenetv2_1.00_224_input with unsupported characters which will be renamed to mobilenetv2_1_00_224_input in the SavedModel.\n"
     ]
    },
    {
     "name": "stdout",
     "output_type": "stream",
     "text": [
      "INFO:tensorflow:Assets written to: saved_models_mix/model_tl\\assets\n"
     ]
    },
    {
     "name": "stderr",
     "output_type": "stream",
     "text": [
      "INFO:tensorflow:Assets written to: saved_models_mix/model_tl\\assets\n"
     ]
    }
   ],
   "source": [
    "model_tl.save(\"saved_models_mix/model_tl\")\n",
    "with open('saved_models_mix/history_tl.json', 'w') as handle: # saving the history of the model\n",
    "    json.dump(hist_tl.history, handle)"
   ]
  },
  {
   "cell_type": "markdown",
   "metadata": {},
   "source": [
    "### Visualizations"
   ]
  },
  {
   "cell_type": "code",
   "execution_count": null,
   "metadata": {},
   "outputs": [],
   "source": [
    "hist_fe = json.load(open(\"history_fe.json\", \"r\"))"
   ]
  },
  {
   "cell_type": "code",
   "execution_count": null,
   "metadata": {},
   "outputs": [],
   "source": [
    "model_fe = tf.keras.models.load_model(\"saved_models/model_fe\")"
   ]
  },
  {
   "cell_type": "code",
   "execution_count": 15,
   "metadata": {},
   "outputs": [
    {
     "data": {
      "image/png": "[encoded data removed]",
      "text/plain": [
       "<Figure size 432x288 with 1 Axes>"
      ]
     },
     "metadata": {
      "needs_background": "light"
     },
     "output_type": "display_data"
    }
   ],
   "source": [
    "plt.plot(hist1.history[\"accuracy\"], label=\"model1\")\n",
    "plt.plot(hist2.history[\"accuracy\"], label=\"model2\")\n",
    "plt.plot(hist_tl.history[\"accuracy\"],label=\"model_MN\")\n",
    "\n",
    "plt.xlabel(\"epochs\")\n",
    "plt.ylabel(\"accuracy\")\n",
    "plt.title(\"training accuracy\")\n",
    "plt.legend(bbox_to_anchor=(1.05, 1))\n",
    "plt.show()"
   ]
  },
  {
   "cell_type": "code",
   "execution_count": 16,
   "metadata": {},
   "outputs": [
    {
     "data": {
      "image/png": "[encoded data removed]",
      "text/plain": [
       "<Figure size 432x288 with 1 Axes>"
      ]
     },
     "metadata": {
      "needs_background": "light"
     },
     "output_type": "display_data"
    }
   ],
   "source": [
    "plt.plot(hist1.history[\"val_accuracy\"], label=\"model1_val\")\n",
    "plt.plot(hist2.history[\"val_accuracy\"], label=\"model2_val\")\n",
    "plt.plot(hist_tl.history[\"val_accuracy\"],label=\"model_MN\")\n",
    "\n",
    "plt.xlabel(\"epochs\")\n",
    "plt.ylabel(\"accuracy\")\n",
    "plt.title(\"Validation accuracy\")\n",
    "plt.legend(bbox_to_anchor=(1.05, 1))\n",
    "plt.show()"
   ]
  },
  {
   "cell_type": "code",
   "execution_count": 20,
   "metadata": {},
   "outputs": [
    {
     "data": {
      "image/png": "[encoded data removed]",
      "text/plain": [
       "<Figure size 432x288 with 1 Axes>"
      ]
     },
     "metadata": {
      "needs_background": "light"
     },
     "output_type": "display_data"
    }
   ],
   "source": [
    "# plt.plot(hist1.history[\"loss\"][10:], label=\"model1\")\n",
    "plt.plot(hist2.history[\"loss\"][10:], label=\"model2\")\n",
    "plt.plot(hist_tl.history[\"loss\"][10:],label=\"model_MN\")\n",
    "\n",
    "# plt.plot(hist1.history[\"val_loss\"][10:], label=\"model1_val\")\n",
    "# plt.plot(hist2.history[\"val_loss\"][10:], label=\"model2_val\")\n",
    "# plt.plot(hist_fe.history[\"val_loss\"][10:], label=\"model_fe_val\")\n",
    "# plt.plot(hist_tl.history[\"val_loss\"],label=\"model_MN\")\n",
    "\n",
    "plt.xlabel(\"epochs\")\n",
    "plt.ylabel(\"loss\")\n",
    "plt.legend(bbox_to_anchor=(1.4, 1))\n",
    "plt.show()"
   ]
  },
  {
   "cell_type": "code",
   "execution_count": 21,
   "metadata": {},
   "outputs": [
    {
     "data": {
      "image/png": "[encoded data removed]",
      "text/plain": [
       "<Figure size 432x288 with 1 Axes>"
      ]
     },
     "metadata": {
      "needs_background": "light"
     },
     "output_type": "display_data"
    }
   ],
   "source": [
    "plt.plot(hist1.history[\"val_loss\"][10:], label=\"model1_val\")\n",
    "plt.plot(hist2.history[\"val_loss\"][10:], label=\"model2_val\")\n",
    "# plt.plot(hist_fe.history[\"val_loss\"], label=\"model_fe_val\")\n",
    "plt.plot(hist_tl.history[\"val_loss\"][10:],label=\"model_MN\")\n",
    "\n",
    "plt.xlabel(\"epochs\")\n",
    "plt.ylabel(\"loss\")\n",
    "plt.legend(bbox_to_anchor=(1.4, 1))\n",
    "plt.show()"
   ]
  },
  {
   "cell_type": "markdown",
   "metadata": {},
   "source": [
    "Evaluate accuracy with test set"
   ]
  },
  {
   "cell_type": "code",
   "execution_count": 23,
   "metadata": {},
   "outputs": [
    {
     "name": "stdout",
     "output_type": "stream",
     "text": [
      "16/16 [==============================] - 1s 44ms/step - loss: 1.6014 - accuracy: 0.3560\n",
      "16/16 [==============================] - 9s 580ms/step - loss: 22.3358 - accuracy: 0.8920\n",
      "16/16 [==============================] - 20s 1s/step - loss: 2.1872 - accuracy: 0.8640\n"
     ]
    }
   ],
   "source": [
    "loss1, acc1 = model1.evaluate(x_test, y_test)\n",
    "loss2, acc2 = model2.evaluate(x_test, y_test)\n",
    "# loss_fe, acc_fe = model_fe.evaluate(x_test, y_test)\n",
    "loss_tl, acc_tl = model_tl.evaluate(x_test, y_test)"
   ]
  },
  {
   "cell_type": "code",
   "execution_count": 26,
   "metadata": {},
   "outputs": [],
   "source": [
    "pred = model2.predict(x_test)\n",
    "labels = tf.argmax(pred, axis=1)\n",
    "cm = tf.math.confusion_matrix(labels, y_test)"
   ]
  },
  {
   "cell_type": "code",
   "execution_count": 27,
   "metadata": {},
   "outputs": [
    {
     "data": {
      "image/png": "[encoded data removed]",
      "text/plain": [
       "<Figure size 432x288 with 2 Axes>"
      ]
     },
     "metadata": {
      "needs_background": "light"
     },
     "output_type": "display_data"
    }
   ],
   "source": [
    "import seaborn as sns\n",
    "\n",
    "l = [\"noise\", \"shift\", \"droop\", \"offset\", \"no error\"]\n",
    "ax = sns.heatmap(cm, cmap=\"Blues\")\n",
    "ax.xaxis.set_ticklabels(l)\n",
    "ax.yaxis.set_ticklabels(l)\n",
    "plt.show()"
   ]
  },
  {
   "cell_type": "code",
   "execution_count": null,
   "metadata": {},
   "outputs": [],
   "source": []
  }
 ],
 "metadata": {
  "colab": {
   "collapsed_sections": [],
   "name": "NN with Transfer Learning",
   "provenance": []
  },
  "interpreter": {
   "hash": "8ed06d07b9ff369db6ed7b53447be18709da67cd911d838d72fee7fecb26667a"
  },
  "kernelspec": {
   "display_name": "gpu1",
   "language": "python",
   "name": "python3"
  },
  "language_info": {
   "codemirror_mode": {
    "name": "ipython",
    "version": 3
   },
   "file_extension": ".py",
   "mimetype": "text/x-python",
   "name": "python",
   "nbconvert_exporter": "python",
   "pygments_lexer": "ipython3",
   "version": "3.6.13"
  }
 },
 "nbformat": 4,
 "nbformat_minor": 1
}
